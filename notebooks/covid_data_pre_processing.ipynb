{
 "cells": [
  {
   "cell_type": "code",
   "id": "initial_id",
   "metadata": {
    "collapsed": true,
    "ExecuteTime": {
     "end_time": "2024-10-09T13:59:14.904496Z",
     "start_time": "2024-10-09T13:59:14.883902Z"
    }
   },
   "source": [
    "import pandas as pd\n",
    "import numpy as np"
   ],
   "outputs": [],
   "execution_count": 20
  },
  {
   "metadata": {
    "ExecuteTime": {
     "end_time": "2024-10-09T13:59:16.956663Z",
     "start_time": "2024-10-09T13:59:15.254021Z"
    }
   },
   "cell_type": "code",
   "source": [
    "# read csv file covid_data.csv\n",
    "df = pd.read_csv('../classification/data/clean/covid_data.csv')"
   ],
   "id": "271875d6487ab506",
   "outputs": [],
   "execution_count": 21
  },
  {
   "metadata": {
    "ExecuteTime": {
     "end_time": "2024-10-09T13:59:17.083384Z",
     "start_time": "2024-10-09T13:59:16.962893Z"
    }
   },
   "cell_type": "code",
   "source": "df = df[df.PNEUMONIA < 97]",
   "id": "6b7c7a940158e96e",
   "outputs": [],
   "execution_count": 22
  },
  {
   "metadata": {
    "ExecuteTime": {
     "end_time": "2024-10-09T13:59:17.185655Z",
     "start_time": "2024-10-09T13:59:17.109189Z"
    }
   },
   "cell_type": "code",
   "source": "df = df[df.DIABETES < 97]",
   "id": "8942c19a28bb7206",
   "outputs": [],
   "execution_count": 23
  },
  {
   "metadata": {
    "ExecuteTime": {
     "end_time": "2024-10-09T13:59:17.283745Z",
     "start_time": "2024-10-09T13:59:17.208016Z"
    }
   },
   "cell_type": "code",
   "source": "df = df[df.COPD < 97]",
   "id": "1bf43da111531a46",
   "outputs": [],
   "execution_count": 24
  },
  {
   "metadata": {
    "ExecuteTime": {
     "end_time": "2024-10-09T13:59:17.393876Z",
     "start_time": "2024-10-09T13:59:17.314142Z"
    }
   },
   "cell_type": "code",
   "source": "df = df[df.ASTHMA < 97]",
   "id": "2a8c2fd0302417b7",
   "outputs": [],
   "execution_count": 25
  },
  {
   "metadata": {
    "ExecuteTime": {
     "end_time": "2024-10-09T13:59:17.525306Z",
     "start_time": "2024-10-09T13:59:17.425106Z"
    }
   },
   "cell_type": "code",
   "source": "df = df[df.INMSUPR < 97]",
   "id": "7c1cbbfa2973156f",
   "outputs": [],
   "execution_count": 26
  },
  {
   "metadata": {
    "ExecuteTime": {
     "end_time": "2024-10-09T13:59:17.629062Z",
     "start_time": "2024-10-09T13:59:17.552305Z"
    }
   },
   "cell_type": "code",
   "source": "df = df[df.HIPERTENSION < 97]",
   "id": "fa18eabecd9d22fd",
   "outputs": [],
   "execution_count": 27
  },
  {
   "metadata": {
    "ExecuteTime": {
     "end_time": "2024-10-09T13:59:17.739014Z",
     "start_time": "2024-10-09T13:59:17.667304Z"
    }
   },
   "cell_type": "code",
   "source": "df = df[df.OTHER_DISEASE < 97]",
   "id": "802c7f504dbd6a48",
   "outputs": [],
   "execution_count": 28
  },
  {
   "metadata": {
    "ExecuteTime": {
     "end_time": "2024-10-09T13:59:17.834879Z",
     "start_time": "2024-10-09T13:59:17.759568Z"
    }
   },
   "cell_type": "code",
   "source": "df = df[df.CARDIOVASCULAR < 97]",
   "id": "8cf8dc3a0e642880",
   "outputs": [],
   "execution_count": 29
  },
  {
   "metadata": {
    "ExecuteTime": {
     "end_time": "2024-10-09T13:59:17.930990Z",
     "start_time": "2024-10-09T13:59:17.856248Z"
    }
   },
   "cell_type": "code",
   "source": "df = df[df.OBESITY < 97]",
   "id": "510a4b694a4dbc44",
   "outputs": [],
   "execution_count": 30
  },
  {
   "metadata": {
    "ExecuteTime": {
     "end_time": "2024-10-09T13:59:18.050414Z",
     "start_time": "2024-10-09T13:59:17.960985Z"
    }
   },
   "cell_type": "code",
   "source": "df = df[df.RENAL_CHRONIC < 97]",
   "id": "d124c848343e9260",
   "outputs": [],
   "execution_count": 31
  },
  {
   "metadata": {
    "ExecuteTime": {
     "end_time": "2024-10-09T13:59:18.142480Z",
     "start_time": "2024-10-09T13:59:18.071605Z"
    }
   },
   "cell_type": "code",
   "source": "df = df[df.TOBACCO < 97]",
   "id": "b858f9221402250f",
   "outputs": [],
   "execution_count": 32
  },
  {
   "metadata": {
    "ExecuteTime": {
     "end_time": "2024-10-09T13:59:18.241762Z",
     "start_time": "2024-10-09T13:59:18.171883Z"
    }
   },
   "cell_type": "code",
   "source": [
    "# if date died is 9999-99-99, create a new column died with value 0, otherwise 1\n",
    "df['DIED'] = np.where(df['DATE_DIED'] == '9999-99-99', 0, 1)"
   ],
   "id": "44724df238be2675",
   "outputs": [],
   "execution_count": 33
  },
  {
   "metadata": {
    "ExecuteTime": {
     "end_time": "2024-10-09T13:59:18.464480Z",
     "start_time": "2024-10-09T13:59:18.407352Z"
    }
   },
   "cell_type": "code",
   "source": [
    " # delete colun date died, icu, intubed, pregnant\n",
    "df = df.drop(columns=['DATE_DIED', 'ICU', 'INTUBED', 'PREGNANT'])"
   ],
   "id": "3e72f6e6947784e",
   "outputs": [],
   "execution_count": 34
  },
  {
   "metadata": {
    "ExecuteTime": {
     "end_time": "2024-10-09T13:59:19.083979Z",
     "start_time": "2024-10-09T13:59:19.049079Z"
    }
   },
   "cell_type": "code",
   "source": "df",
   "id": "24fafa0879fc51f6",
   "outputs": [
    {
     "data": {
      "text/plain": [
       "         USMER  MEDICAL_UNIT  SEX  PATIENT_TYPE  PNEUMONIA  AGE  DIABETES  \\\n",
       "0            2             1    1             1          1   65         2   \n",
       "1            2             1    2             1          1   72         2   \n",
       "2            2             1    2             2          2   55         1   \n",
       "3            2             1    1             1          2   53         2   \n",
       "4            2             1    2             1          2   68         1   \n",
       "...        ...           ...  ...           ...        ...  ...       ...   \n",
       "1048570      2            13    2             1          2   40         2   \n",
       "1048571      1            13    2             2          2   51         2   \n",
       "1048572      2            13    2             1          2   55         2   \n",
       "1048573      2            13    2             1          2   28         2   \n",
       "1048574      2            13    2             1          2   52         2   \n",
       "\n",
       "         COPD  ASTHMA  INMSUPR  HIPERTENSION  OTHER_DISEASE  CARDIOVASCULAR  \\\n",
       "0           2       2        2             1              2               2   \n",
       "1           2       2        2             1              2               2   \n",
       "2           2       2        2             2              2               2   \n",
       "3           2       2        2             2              2               2   \n",
       "4           2       2        2             1              2               2   \n",
       "...       ...     ...      ...           ...            ...             ...   \n",
       "1048570     2       2        2             2              2               2   \n",
       "1048571     2       2        2             1              2               2   \n",
       "1048572     2       2        2             2              2               2   \n",
       "1048573     2       2        2             2              2               2   \n",
       "1048574     2       2        2             2              2               2   \n",
       "\n",
       "         OBESITY  RENAL_CHRONIC  TOBACCO  CLASIFFICATION_FINAL  DIED  \n",
       "0              2              2        2                     3     1  \n",
       "1              1              1        2                     5     1  \n",
       "2              2              2        2                     3     1  \n",
       "3              2              2        2                     7     1  \n",
       "4              2              2        2                     3     1  \n",
       "...          ...            ...      ...                   ...   ...  \n",
       "1048570        2              2        2                     7     0  \n",
       "1048571        2              2        2                     7     0  \n",
       "1048572        2              2        2                     7     0  \n",
       "1048573        2              2        2                     7     0  \n",
       "1048574        2              2        2                     7     0  \n",
       "\n",
       "[1025152 rows x 18 columns]"
      ],
      "text/html": [
       "<div>\n",
       "<style scoped>\n",
       "    .dataframe tbody tr th:only-of-type {\n",
       "        vertical-align: middle;\n",
       "    }\n",
       "\n",
       "    .dataframe tbody tr th {\n",
       "        vertical-align: top;\n",
       "    }\n",
       "\n",
       "    .dataframe thead th {\n",
       "        text-align: right;\n",
       "    }\n",
       "</style>\n",
       "<table border=\"1\" class=\"dataframe\">\n",
       "  <thead>\n",
       "    <tr style=\"text-align: right;\">\n",
       "      <th></th>\n",
       "      <th>USMER</th>\n",
       "      <th>MEDICAL_UNIT</th>\n",
       "      <th>SEX</th>\n",
       "      <th>PATIENT_TYPE</th>\n",
       "      <th>PNEUMONIA</th>\n",
       "      <th>AGE</th>\n",
       "      <th>DIABETES</th>\n",
       "      <th>COPD</th>\n",
       "      <th>ASTHMA</th>\n",
       "      <th>INMSUPR</th>\n",
       "      <th>HIPERTENSION</th>\n",
       "      <th>OTHER_DISEASE</th>\n",
       "      <th>CARDIOVASCULAR</th>\n",
       "      <th>OBESITY</th>\n",
       "      <th>RENAL_CHRONIC</th>\n",
       "      <th>TOBACCO</th>\n",
       "      <th>CLASIFFICATION_FINAL</th>\n",
       "      <th>DIED</th>\n",
       "    </tr>\n",
       "  </thead>\n",
       "  <tbody>\n",
       "    <tr>\n",
       "      <th>0</th>\n",
       "      <td>2</td>\n",
       "      <td>1</td>\n",
       "      <td>1</td>\n",
       "      <td>1</td>\n",
       "      <td>1</td>\n",
       "      <td>65</td>\n",
       "      <td>2</td>\n",
       "      <td>2</td>\n",
       "      <td>2</td>\n",
       "      <td>2</td>\n",
       "      <td>1</td>\n",
       "      <td>2</td>\n",
       "      <td>2</td>\n",
       "      <td>2</td>\n",
       "      <td>2</td>\n",
       "      <td>2</td>\n",
       "      <td>3</td>\n",
       "      <td>1</td>\n",
       "    </tr>\n",
       "    <tr>\n",
       "      <th>1</th>\n",
       "      <td>2</td>\n",
       "      <td>1</td>\n",
       "      <td>2</td>\n",
       "      <td>1</td>\n",
       "      <td>1</td>\n",
       "      <td>72</td>\n",
       "      <td>2</td>\n",
       "      <td>2</td>\n",
       "      <td>2</td>\n",
       "      <td>2</td>\n",
       "      <td>1</td>\n",
       "      <td>2</td>\n",
       "      <td>2</td>\n",
       "      <td>1</td>\n",
       "      <td>1</td>\n",
       "      <td>2</td>\n",
       "      <td>5</td>\n",
       "      <td>1</td>\n",
       "    </tr>\n",
       "    <tr>\n",
       "      <th>2</th>\n",
       "      <td>2</td>\n",
       "      <td>1</td>\n",
       "      <td>2</td>\n",
       "      <td>2</td>\n",
       "      <td>2</td>\n",
       "      <td>55</td>\n",
       "      <td>1</td>\n",
       "      <td>2</td>\n",
       "      <td>2</td>\n",
       "      <td>2</td>\n",
       "      <td>2</td>\n",
       "      <td>2</td>\n",
       "      <td>2</td>\n",
       "      <td>2</td>\n",
       "      <td>2</td>\n",
       "      <td>2</td>\n",
       "      <td>3</td>\n",
       "      <td>1</td>\n",
       "    </tr>\n",
       "    <tr>\n",
       "      <th>3</th>\n",
       "      <td>2</td>\n",
       "      <td>1</td>\n",
       "      <td>1</td>\n",
       "      <td>1</td>\n",
       "      <td>2</td>\n",
       "      <td>53</td>\n",
       "      <td>2</td>\n",
       "      <td>2</td>\n",
       "      <td>2</td>\n",
       "      <td>2</td>\n",
       "      <td>2</td>\n",
       "      <td>2</td>\n",
       "      <td>2</td>\n",
       "      <td>2</td>\n",
       "      <td>2</td>\n",
       "      <td>2</td>\n",
       "      <td>7</td>\n",
       "      <td>1</td>\n",
       "    </tr>\n",
       "    <tr>\n",
       "      <th>4</th>\n",
       "      <td>2</td>\n",
       "      <td>1</td>\n",
       "      <td>2</td>\n",
       "      <td>1</td>\n",
       "      <td>2</td>\n",
       "      <td>68</td>\n",
       "      <td>1</td>\n",
       "      <td>2</td>\n",
       "      <td>2</td>\n",
       "      <td>2</td>\n",
       "      <td>1</td>\n",
       "      <td>2</td>\n",
       "      <td>2</td>\n",
       "      <td>2</td>\n",
       "      <td>2</td>\n",
       "      <td>2</td>\n",
       "      <td>3</td>\n",
       "      <td>1</td>\n",
       "    </tr>\n",
       "    <tr>\n",
       "      <th>...</th>\n",
       "      <td>...</td>\n",
       "      <td>...</td>\n",
       "      <td>...</td>\n",
       "      <td>...</td>\n",
       "      <td>...</td>\n",
       "      <td>...</td>\n",
       "      <td>...</td>\n",
       "      <td>...</td>\n",
       "      <td>...</td>\n",
       "      <td>...</td>\n",
       "      <td>...</td>\n",
       "      <td>...</td>\n",
       "      <td>...</td>\n",
       "      <td>...</td>\n",
       "      <td>...</td>\n",
       "      <td>...</td>\n",
       "      <td>...</td>\n",
       "      <td>...</td>\n",
       "    </tr>\n",
       "    <tr>\n",
       "      <th>1048570</th>\n",
       "      <td>2</td>\n",
       "      <td>13</td>\n",
       "      <td>2</td>\n",
       "      <td>1</td>\n",
       "      <td>2</td>\n",
       "      <td>40</td>\n",
       "      <td>2</td>\n",
       "      <td>2</td>\n",
       "      <td>2</td>\n",
       "      <td>2</td>\n",
       "      <td>2</td>\n",
       "      <td>2</td>\n",
       "      <td>2</td>\n",
       "      <td>2</td>\n",
       "      <td>2</td>\n",
       "      <td>2</td>\n",
       "      <td>7</td>\n",
       "      <td>0</td>\n",
       "    </tr>\n",
       "    <tr>\n",
       "      <th>1048571</th>\n",
       "      <td>1</td>\n",
       "      <td>13</td>\n",
       "      <td>2</td>\n",
       "      <td>2</td>\n",
       "      <td>2</td>\n",
       "      <td>51</td>\n",
       "      <td>2</td>\n",
       "      <td>2</td>\n",
       "      <td>2</td>\n",
       "      <td>2</td>\n",
       "      <td>1</td>\n",
       "      <td>2</td>\n",
       "      <td>2</td>\n",
       "      <td>2</td>\n",
       "      <td>2</td>\n",
       "      <td>2</td>\n",
       "      <td>7</td>\n",
       "      <td>0</td>\n",
       "    </tr>\n",
       "    <tr>\n",
       "      <th>1048572</th>\n",
       "      <td>2</td>\n",
       "      <td>13</td>\n",
       "      <td>2</td>\n",
       "      <td>1</td>\n",
       "      <td>2</td>\n",
       "      <td>55</td>\n",
       "      <td>2</td>\n",
       "      <td>2</td>\n",
       "      <td>2</td>\n",
       "      <td>2</td>\n",
       "      <td>2</td>\n",
       "      <td>2</td>\n",
       "      <td>2</td>\n",
       "      <td>2</td>\n",
       "      <td>2</td>\n",
       "      <td>2</td>\n",
       "      <td>7</td>\n",
       "      <td>0</td>\n",
       "    </tr>\n",
       "    <tr>\n",
       "      <th>1048573</th>\n",
       "      <td>2</td>\n",
       "      <td>13</td>\n",
       "      <td>2</td>\n",
       "      <td>1</td>\n",
       "      <td>2</td>\n",
       "      <td>28</td>\n",
       "      <td>2</td>\n",
       "      <td>2</td>\n",
       "      <td>2</td>\n",
       "      <td>2</td>\n",
       "      <td>2</td>\n",
       "      <td>2</td>\n",
       "      <td>2</td>\n",
       "      <td>2</td>\n",
       "      <td>2</td>\n",
       "      <td>2</td>\n",
       "      <td>7</td>\n",
       "      <td>0</td>\n",
       "    </tr>\n",
       "    <tr>\n",
       "      <th>1048574</th>\n",
       "      <td>2</td>\n",
       "      <td>13</td>\n",
       "      <td>2</td>\n",
       "      <td>1</td>\n",
       "      <td>2</td>\n",
       "      <td>52</td>\n",
       "      <td>2</td>\n",
       "      <td>2</td>\n",
       "      <td>2</td>\n",
       "      <td>2</td>\n",
       "      <td>2</td>\n",
       "      <td>2</td>\n",
       "      <td>2</td>\n",
       "      <td>2</td>\n",
       "      <td>2</td>\n",
       "      <td>2</td>\n",
       "      <td>7</td>\n",
       "      <td>0</td>\n",
       "    </tr>\n",
       "  </tbody>\n",
       "</table>\n",
       "<p>1025152 rows × 18 columns</p>\n",
       "</div>"
      ]
     },
     "execution_count": 35,
     "metadata": {},
     "output_type": "execute_result"
    }
   ],
   "execution_count": 35
  },
  {
   "metadata": {
    "ExecuteTime": {
     "end_time": "2024-08-15T13:57:38.005617Z",
     "start_time": "2024-08-15T13:57:35.736744Z"
    }
   },
   "cell_type": "code",
   "source": [
    "# write dataset to csv file\n",
    "df.to_csv('../classification/data/clean/covid_data_pre_processed.csv', index=False)"
   ],
   "id": "2fbd2fcf312152b9",
   "outputs": [],
   "execution_count": 57
  },
  {
   "metadata": {
    "ExecuteTime": {
     "end_time": "2024-10-09T13:59:29.867973Z",
     "start_time": "2024-10-09T13:59:27.524718Z"
    }
   },
   "cell_type": "code",
   "source": [
    "# for classification_final column, all values > 3 should be just 4\n",
    "df['CLASIFFICATION_FINAL'] = np.where(df['CLASIFFICATION_FINAL'] > 3, 4, df['CLASIFFICATION_FINAL'])\n",
    "df.to_csv('../clustering/data/clean/covid_data_pre_processed_clustering.csv', index=False)"
   ],
   "id": "193ae672b64a8b61",
   "outputs": [],
   "execution_count": 36
  },
  {
   "metadata": {
    "ExecuteTime": {
     "end_time": "2024-10-09T13:59:02.745549Z",
     "start_time": "2024-10-09T13:59:02.317104Z"
    }
   },
   "cell_type": "code",
   "source": [
    "%load_ext autoreload\n",
    "%autoreload 2"
   ],
   "id": "1b3d4d4010c43249",
   "outputs": [
    {
     "name": "stdout",
     "output_type": "stream",
     "text": [
      "The autoreload extension is already loaded. To reload it, use:\n",
      "  %reload_ext autoreload\n"
     ]
    }
   ],
   "execution_count": 19
  },
  {
   "metadata": {},
   "cell_type": "code",
   "outputs": [],
   "execution_count": null,
   "source": "",
   "id": "a04d6eea7046d0fc"
  }
 ],
 "metadata": {
  "kernelspec": {
   "display_name": "Python 3",
   "language": "python",
   "name": "python3"
  },
  "language_info": {
   "codemirror_mode": {
    "name": "ipython",
    "version": 2
   },
   "file_extension": ".py",
   "mimetype": "text/x-python",
   "name": "python",
   "nbconvert_exporter": "python",
   "pygments_lexer": "ipython2",
   "version": "2.7.6"
  }
 },
 "nbformat": 4,
 "nbformat_minor": 5
}
