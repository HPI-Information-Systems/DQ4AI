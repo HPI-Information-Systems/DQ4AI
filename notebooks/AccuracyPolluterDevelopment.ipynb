{
 "cells": [
  {
   "cell_type": "code",
   "execution_count": 1,
   "metadata": {
    "pycharm": {
     "name": "#%%\n"
    }
   },
   "outputs": [],
   "source": [
    "from abc import ABC, abstractmethod\n",
    "from typing import Tuple, Dict, List, Union\n",
    "\n",
    "import math\n",
    "import numpy as np\n",
    "import pandas as pd\n",
    "import matplotlib.pyplot as plt\n",
    "import seaborn as sns"
   ]
  },
  {
   "cell_type": "code",
   "execution_count": 2,
   "metadata": {
    "pycharm": {
     "name": "#%%\n"
    }
   },
   "outputs": [],
   "source": [
    "class Polluter(ABC):\n",
    "    \"\"\"\n",
    "    This class defines an abstract base class of a polluter.\n",
    "    \"\"\"\n",
    "\n",
    "    def __init__(self, random_seed: int) -> None:\n",
    "        \"\"\"\n",
    "        This method initializes the random seed and random generator.\n",
    "        :param random_seed: the random seed\n",
    "        \"\"\"\n",
    "\n",
    "        self.random_seed = random_seed\n",
    "        self.random_generator = np.random.default_rng(random_seed)\n",
    "\n",
    "    @staticmethod\n",
    "    @abstractmethod\n",
    "    def get_static_params(metadata: dict, dataset: pd.DataFrame, ds_name: str) -> dict:\n",
    "        \"\"\"\n",
    "        Generates a dictionary of static parameters to initialize the own specialized polluter instances from.\n",
    "        This is done by reading the appropriate fields in the metadata dictionary section corresponding to the given\n",
    "        dataset name and/or analyzing the given dataset.\n",
    "\n",
    "        :param metadata: dataset metadata dictionary read from the metadata.json file\n",
    "        :type metadata: dict\n",
    "        :param dataset: raw dataset as read from disk\n",
    "        :type dataset: pd.DataFrame\n",
    "        :param ds_name: name of the dataset file - same as the key in the metadata dictionary\n",
    "        :type ds_name: str\n",
    "        :returns: parameter dictionary to use in polluter instance initialization\n",
    "        :rtype: dict\n",
    "        \"\"\"\n",
    "        raise NotImplementedError('Please implement the get_static_params function in each specialized polluter!')\n",
    "\n",
    "    @classmethod\n",
    "    @abstractmethod\n",
    "    def configure(cls, metadata: dict, dataset: pd.DataFrame, ds_name: str) -> List['Polluter']:\n",
    "        \"\"\"\n",
    "        Configures the special polluter, setting its parameters based on the metadata, dataset, dataset name\n",
    "        and random seed provided.\n",
    "        In addition to fixed per-dataset parameters, each polluter may specify, in this class, ranges from which to\n",
    "        pull flexible parameters (e.g. percentage of samples to pollute).\n",
    "        This function returns a list of configured polluter instances.\n",
    "\n",
    "        :param metadata: dataset metadata dictionary read from the metadata.json file\n",
    "        :type metadata: dict\n",
    "        :param dataset: raw dataset as read from disk\n",
    "        :type dataset: pd.DataFrame\n",
    "        :param ds_name: name of the dataset file - same as the key in the metadata dictionary\n",
    "        :type ds_name: str\n",
    "        :returns: list of configured polluter instances\n",
    "        :rtype: list\n",
    "        \"\"\"\n",
    "\n",
    "        # Hint: Implement and use the get_static_params function for cleaner code!\n",
    "        # Basic structure example:\n",
    "        #\n",
    "        # configured_polluters = list()\n",
    "        # static_params = cls.get_static_params(metadata, dataset, ds_name)\n",
    "        # for rand_seed in metadata['random_seeds']:\n",
    "        #     for pol_level in [i / 20 for i in range(21)]:\n",
    "        #         configured_polluters.append(cls(pol_level=pol_level, random_seed=rand_seed, **static_params))\n",
    "        # return configured_polluters\n",
    "        raise NotImplementedError('Please implement the configure function in each specialized polluter!')\n",
    "\n",
    "    @abstractmethod\n",
    "    def pollute(self, df: pd.DataFrame) -> pd.DataFrame:\n",
    "        \"\"\"\n",
    "        The pollute method takes care of polluting the received dataframe.\n",
    "\n",
    "        :param df: the dataframe that is to be polluted\n",
    "        :return: the polluted dataframe\n",
    "        \"\"\"\n",
    "        pass\n",
    "\n",
    "    @abstractmethod\n",
    "    def compute_quality_measure(self, df_polluted: pd.DataFrame, df_clean: pd.DataFrame=None) \\\n",
    "            -> Union[float, Tuple[float, float]]:\n",
    "        \"\"\"\n",
    "        This method calculates the quality measure of the polluted dataframe.\n",
    "\n",
    "        :param df_polluted: the polluted dataframe (required)\n",
    "        :param df_clean: the original dataframe (optional)\n",
    "        :return: the quality measure/s of the polluted dataframe\n",
    "        \"\"\"\n",
    "        pass\n",
    "\n",
    "    def __call__(self, df: pd.DataFrame) -> Tuple[pd.DataFrame, Union[float, Tuple[float, float]]]:\n",
    "        \"\"\"\n",
    "        The __call__ method allows the instantiated objects of the Polluter class to be called like functions. This\n",
    "        will return both the polluted dataset and the quality measure calculated for it.\n",
    "\n",
    "        :param df: the dataframe that is to be polluted\n",
    "        :return: the polluted dataframe and its quality measure/s\n",
    "        \"\"\"\n",
    "\n",
    "        df_polluted = self.pollute(df)\n",
    "        return df_polluted, self.compute_quality_measure(df_polluted, df)\n",
    "\n",
    "    def poll_params(self) -> str:\n",
    "        \"\"\"\n",
    "        Returns the string representation of the dictionary of all member variables, excluding the random generator.\n",
    "        This is hashed and used for file naming purposes later on, which is why the object location reference for the\n",
    "        random generator needs to be excluded (it is not always at the same location in memory).\n",
    "\n",
    "        :returns: string representation of the member variable dictionary, excluding random generator field\n",
    "        :rtype: str\n",
    "        \"\"\"\n",
    "        return str({k: str(v) for k, v in vars(self).items() if k != 'random_generator'})"
   ]
  },
  {
   "cell_type": "code",
   "execution_count": 3,
   "metadata": {
    "pycharm": {
     "name": "#%%\n"
    }
   },
   "outputs": [],
   "source": [
    "import logging\n",
    "import numpy as np\n",
    "import pandas as pd\n",
    "\n",
    "from math import ceil, floor\n",
    "from typing import List\n",
    "\n",
    "\n",
    "def _calc_per_class_samples(inter_class_distance, class_order, balanced_per_class_samples):\n",
    "    \"\"\"\n",
    "    Calculates how many samples each class should have in the polluted dataset and returns a list of class_id,\n",
    "    sample_count tuples.\n",
    "\n",
    "    :param inter_class_distance: distance (difference of sample counts) for two adjacent classes\n",
    "    :param class_order: list of class_id, available_sample_count sorted (ASC) by sample count, then class id\n",
    "    :param balanced_per_class_samples: samples per class in the (hypothetical) balanced baseline dataset\n",
    "    :return: list of calculated sample counts to return with the polluted dataset per class\n",
    "    :rtype: list([class_id, int])\n",
    "    \"\"\"\n",
    "    per_class_samples = list()\n",
    "    m = len(class_order)    # number of classes in target\n",
    "    # calculate the number of samples to return for the smallest class\n",
    "    if m % 2 == 1:\n",
    "        # for m odd: balanced_samples - (floor(m / 2) * distance)\n",
    "        per_class_samples.append([\n",
    "            class_order[0],\n",
    "            int(balanced_per_class_samples - (floor(m / 2) * inter_class_distance))\n",
    "        ])\n",
    "    else:\n",
    "        # for m even: balanced_samples - (((m / 2) - 0.5) * distance)\n",
    "        per_class_samples.append([\n",
    "            class_order[0],\n",
    "            int(balanced_per_class_samples - (((m / 2) - 0.5) * inter_class_distance))\n",
    "        ])\n",
    "\n",
    "    for i in range(1, len(class_order)):\n",
    "        per_class_samples.append([class_order[i], per_class_samples[i-1][1] + inter_class_distance])\n",
    "    return per_class_samples\n",
    "\n",
    "\n",
    "def _sum_absolute_per_class_distances(m, per_class_distance):\n",
    "    \"\"\"\n",
    "    Calculates and returns the sum of absolute per-class sample count distances (differences).\n",
    "    This is based on the number of classes and the defined distance between per-class sample counts.\n",
    "    The calculation already eliminates duplicate edges (e.g. A -> C is considered, so C -> A is not).\n",
    "\n",
    "    :param m: number of classes in the dataset\n",
    "    :param per_class_distance: difference in per-class sample count\n",
    "    :return: sum of absolute per-class sample count differences\n",
    "    :rtype: int\n",
    "    \"\"\"\n",
    "    return per_class_distance * sum([(m - pcd_mult) * pcd_mult for pcd_mult in range(m)])\n",
    "\n",
    "\n",
    "def _calc_sample_counts(percentages, highest_possible):\n",
    "    \"\"\"\n",
    "    Calculates, for the given list of percentages and a maximum number the absolute values corresponding\n",
    "    to these percentages in reference to the given maximum.\n",
    "\n",
    "    :param percentages: list of floats in [0.0, 1.0]\n",
    "    :param highest_possible: integer denoting the reference to apply the percentages to (i.e. the 100% value)\n",
    "    :return: sorted (asc) list of integers similar to to round(percentages * highest_possible)\n",
    "             the difference between two adjacent values is always the same\n",
    "    \"\"\"\n",
    "    percentages = sorted(percentages)\n",
    "    potential_counts = [round(sam_pct * highest_possible) for sam_pct in percentages]\n",
    "    # ensure that the differences are REALLY always the same, just to be sure!\n",
    "    diffs = [potential_counts[i+1] - potential_counts[i] for i in range(len(potential_counts) - 1)]\n",
    "    equalized_diff = floor(sum(diffs) / len(diffs))\n",
    "    counts = [potential_counts[0] + i * equalized_diff for i in range(len(potential_counts))]\n",
    "    return counts\n",
    "\n",
    "\n",
    "def _max_lvl_percentages(m):\n",
    "    \"\"\"\n",
    "    For maximum imbalance, we fix that largest class is at 100% of samples allowed and smallest class is at\n",
    "    1% of samples allowed. All other classes in between are equally spaced in terms of percentage.\n",
    "\n",
    "    Therefore, we calculate the spacing between percentages as 0.99 (remaining percentage from 0.01 to 1.0) / m-1\n",
    "    (number of spaces).\n",
    "\n",
    "    :param m: number of classes in target\n",
    "    :returns: percentage of samples allowed for each class, assuming classes sorted by sample count in original data\n",
    "    :rtype: list\n",
    "    \"\"\"\n",
    "    spacing = 0.99 / (m - 1)\n",
    "    return [0.01] + [0.01 + (i * spacing) for i in range(1, m - 1)] + [1.0]\n",
    "\n",
    "\n",
    "def _calc_imbalance_level(m, n, per_class_distance):\n",
    "    \"\"\"\n",
    "    Calculates the imbalance level based on dataset metrics and absolute per-class sample count distance\n",
    "    (difference).\n",
    "\n",
    "    :param m: number of classes in the dataset\n",
    "    :param n: total number of samples the polluter will return\n",
    "    :param per_class_distance: difference in sample count for two adjacent classes in the polluted dataset\n",
    "    :return: imbalance level\n",
    "    :rtype: float\n",
    "    \"\"\"\n",
    "    return _sum_absolute_per_class_distances(m, per_class_distance) / (((m + 1) / 3) * n)\n",
    "\n",
    "\n",
    "def _calc_max_lvl_sample_counts(per_class_samples, n_samples_to_return=None):\n",
    "    \"\"\"\n",
    "    Calculates the number of samples to return per class when assuming maximum imbalance. Ensures that this is\n",
    "    possible by setting the number of samples for the largest class accordingly.\n",
    "\n",
    "    :param per_class_samples: number of samples available in the original data per class\n",
    "    :type per_class_samples: list\n",
    "    :param n_samples_to_return: number of samples to return with the polluted dataset, optional\n",
    "    :type n_samples_to_return: int\n",
    "    :returns: sample count per class, assuming classes sorted by sample count in original data\n",
    "    :rtype: list\n",
    "    \"\"\"\n",
    "    # sorts per-class sample counts ascending\n",
    "    sorted_pcs = sorted(per_class_samples)\n",
    "    # gets number of distinct classes in target\n",
    "    m = len(sorted_pcs)\n",
    "    # returns maximum pollution percentages for per class samples in reference to largest class sample count\n",
    "    percentages = _max_lvl_percentages(m)\n",
    "\n",
    "    # can't get more samples than the most-represented class has\n",
    "    highest_possible = sorted_pcs[-1]\n",
    "    # iterate through smaller classes, reduce the highest possible sample count to return as needed\n",
    "    for i in range(m - 1):\n",
    "        highest_possible = min(highest_possible, floor(sorted_pcs[i] / percentages[i]))\n",
    "\n",
    "    # ensure that the final per-class sample counts are created in a way that a balanced dataset can be created\n",
    "    # 1. Sum of maximum imbalance per-class sample counts needs to be dividable by the number of classes\n",
    "    # 2. Sum of maximum imbalance per-class sample counts divided by number of classes can't be larger than smallest class sample count\n",
    "    # 3. Sum of maximum imbalance per-class sample counts can't be larger than number of samples to return (if given)\n",
    "    while sum(_calc_sample_counts(percentages, highest_possible)) % m != 0 or \\\n",
    "            sum(_calc_sample_counts(percentages, highest_possible)) // m > sorted_pcs[0] or \\\n",
    "            (n_samples_to_return is not None and sum(_calc_sample_counts(percentages, highest_possible)) > n_samples_to_return):\n",
    "        highest_possible -= 1\n",
    "\n",
    "    return _calc_sample_counts(percentages, highest_possible)\n",
    "\n",
    "\n",
    "def _calc_max_samples(per_class_samples):\n",
    "    \"\"\"\n",
    "    Calculates and returns the maximum possible total sample count to return for a given list of per-class sample\n",
    "    counts.\n",
    "\n",
    "    :param per_class_samples: list of integers, sample counts for each class\n",
    "    :return: maximum possible total number of samples for balancing/imbalancing\n",
    "    :rtype: int\n",
    "    \"\"\"\n",
    "    return sum(_calc_max_lvl_sample_counts(per_class_samples))\n",
    "\n",
    "\n",
    "class ClassBalancePolluter(Polluter):\n",
    "    \"\"\"\n",
    "    This class implements a class balance polluter, which changes the balance of per-class sample counts in a given\n",
    "    dataset. This imbalance is created on a balanced baseline by adding / removing an equal amount of samples\n",
    "    per class with more samples being removed for classes further away from the middle of a list sorted ascending\n",
    "    by sample count and then class name in the original dataset. I.e. the sample counts of the resulting dataset will\n",
    "    always approximate a straight line if sorted.\n",
    "    \"\"\"\n",
    "\n",
    "    @staticmethod\n",
    "    def get_static_params(metadata: dict, dataset: pd.DataFrame, ds_name: str) -> dict:\n",
    "        \"\"\" Generates a dictionary of static parameters to initialize the own specialized polluter instances from.\n",
    "        This is done by reading the appropriate fields in the metadata dictionary section corresponding to the given\n",
    "        dataset name and/or analyzing the given dataset.\n",
    "\n",
    "        :param metadata: dataset metadata dictionary read from the metadata.json file\n",
    "        :type metadata: dict\n",
    "        :param dataset: raw dataset as read from disk\n",
    "        :type dataset: pd.DataFrame\n",
    "        :param ds_name: name of the dataset file - same as the key in the metadata dictionary\n",
    "        :type ds_name: str\n",
    "        :returns: parameter dictionary to use in polluter instance initialization\n",
    "        :rtype: dict\n",
    "        \"\"\"\n",
    "        spec_meta = metadata[ds_name]\n",
    "        return {\n",
    "            'target_column': spec_meta['target'],\n",
    "            'n_samples': len(dataset) if spec_meta.get('n_samples') is None else spec_meta.get('n_samples')\n",
    "        }\n",
    "\n",
    "    @classmethod\n",
    "    def configure(cls, metadata: dict, dataset: pd.DataFrame, ds_name: str) -> List['Polluter']:\n",
    "        \"\"\" Configures the special polluter, setting its parameters based on the metadata, dataset, dataset name\n",
    "        and random seed provided.\n",
    "        In addition to fixed per-dataset parameters, each polluter may specify, in this class, ranges from which to\n",
    "        pull flexible parameters (e.g. percentage of samples to pollute).\n",
    "        This function returns a list of configured polluter instances.\n",
    "\n",
    "        :param metadata: dataset metadata dictionary read from the metadata.json file\n",
    "        :type metadata: dict\n",
    "        :param dataset: raw dataset as read from disk\n",
    "        :type dataset: pd.DataFrame\n",
    "        :param ds_name: name of the dataset file - same as the key in the metadata dictionary\n",
    "        :type ds_name: str\n",
    "        :returns: list of configured polluter instances\n",
    "        :rtype: list\n",
    "        \"\"\"\n",
    "        configured_polluters = list()\n",
    "        static_params = cls.get_static_params(metadata, dataset, ds_name)\n",
    "        for rand_seed in metadata['random_seeds']:\n",
    "            for imbalance_level in [i / 10 for i in range(11)]:\n",
    "                configured_polluters.append(cls(imbalance_level=imbalance_level, random_seed=rand_seed, **static_params))\n",
    "        return configured_polluters\n",
    "\n",
    "    def __init__(self, imbalance_level: float, target_column: str, n_samples: int, *args, **kwargs):\n",
    "        super().__init__(*args, **kwargs)\n",
    "        self._imbalance_level = imbalance_level\n",
    "        self._target_col = target_column\n",
    "        self._target_n_samples = np.inf if n_samples is None else n_samples\n",
    "\n",
    "    def compute_quality_measure(self, df_polluted: pd.DataFrame, df_clean: pd.DataFrame = None) -> float:\n",
    "        \"\"\"\n",
    "        This method calculates the quality measure of the polluted dataframe.\n",
    "        For the class balance, it is presumed to be worst (quality = 0) if the class sample\n",
    "        counts alternate between the maximum sample count and no samples at all. This can never\n",
    "        occur and, thus, constitutes a theoretical minimum. The maximum balance of 1 is achieved\n",
    "        if all classes have the same sample count.\n",
    "\n",
    "        From the theoretical minimum, we can determine the maximum possible sum of per-class\n",
    "        sample count differences to be floor(m/2) * ceil(m/2) * max sample count.\n",
    "        Calculating the actual sum of per-class sample count differences and using this theoretical\n",
    "        difference, we can calculate the quotient, which is the measure of how imbalanced the dataset\n",
    "        is, 1 being the most imbalanced. Calculating 1 - this measure, we get the quality measure.\n",
    "\n",
    "        :param df_polluted: the polluted dataframe (required)\n",
    "        :param df_clean: the original dataframe, unused for this quality measure\n",
    "        :return: the quality measure of the polluted dataframe\n",
    "        \"\"\"\n",
    "        # number of classes\n",
    "        m = df_polluted[self._target_col].nunique()\n",
    "        # per-class sample counts\n",
    "        class_sample_counts = df_polluted[self._target_col].value_counts().to_dict()\n",
    "        # list of (classname, sample count) sorted descending by sample count first and class name second\n",
    "        class_order = sorted(class_sample_counts.items(), key=lambda el: (el[1], el[0]), reverse=True)\n",
    "\n",
    "        # maximum distance between two individual classes (= empirical maximum possible sample count)\n",
    "        max_ind_dist = class_order[0][1]\n",
    "        # maximum distance in the whole class system, assuming pairwise distances to be taken only in one direction\n",
    "        max_tot_dist = ceil(m/2) * floor(m/2) * max_ind_dist\n",
    "\n",
    "        ind_distances = list()\n",
    "        for i, (_, majority_count) in enumerate(class_order):\n",
    "            for _, minority_count in class_order[i + 1:]:\n",
    "                ind_distances.append(majority_count - minority_count)\n",
    "\n",
    "        return 1.0 - (sum(ind_distances) / max_tot_dist)\n",
    "\n",
    "    def pollute(self, df: pd.DataFrame) -> pd.DataFrame:\n",
    "        # generate the order of classes based on their sample count first and name second\n",
    "        class_sample_counts = df[self._target_col].value_counts().to_dict()\n",
    "        class_order = sorted(class_sample_counts.items(), key=lambda el: (el[1], el[0]))\n",
    "\n",
    "        # calculated how many samples would be used at maximum pollution level\n",
    "        max_samp_count = _calc_max_samples([tup[1] for tup in class_order])\n",
    "\n",
    "        # tell user if we can't return as many samples as desired\n",
    "        if max_samp_count < self._target_n_samples:\n",
    "            logging.warning(f'The maximum possible number of samples that can be returned ({max_samp_count}) '\n",
    "                            f'is smaller than the desired number of samples to return ({self._target_n_samples}).\\n'\n",
    "                            f'Will return maximum possible number of samples.')\n",
    "            self._target_n_samples = max_samp_count\n",
    "\n",
    "        # ensure that, in a balanced dataset, all classes can have the same sample count (none are off by one)\n",
    "        original_target_n_samples = self._target_n_samples\n",
    "        while self._target_n_samples % len(class_sample_counts) != 0:\n",
    "            self._target_n_samples -= 1\n",
    "        if original_target_n_samples != self._target_n_samples:\n",
    "            logging.warning(f'As the original target number of samples ({original_target_n_samples}) was not dividable '\n",
    "                            f'by the number of classes without leaving a remainder, it was changed to '\n",
    "                            f'({self._target_n_samples}).')\n",
    "\n",
    "        # calculate, in case of maximum pollution level, how many samples per class would be returned\n",
    "        max_pc_samples = _calc_max_lvl_sample_counts([tup[1] for tup in class_order], self._target_n_samples)\n",
    "\n",
    "        # calculate, based on the imbalance level, how many samples difference there will be between\n",
    "        # adjacent classes in the returned dataframe\n",
    "        inter_class_dist = self._calc_absolute_per_class_distance(self._imbalance_level,\n",
    "                                                                  len(class_order),        # num classes\n",
    "                                                                  self._target_n_samples,  # num samples desired\n",
    "                                                                  max_pc_samples[-1])      # \"100%\" at max poll. level\n",
    "\n",
    "        # calculate the actual per-class sample count to extract and return\n",
    "        per_class_samples = _calc_per_class_samples(inter_class_dist,\n",
    "                                                    [tup[0] for tup in class_order],\n",
    "                                                    self._target_n_samples / len(class_order))  # samples per class if balanced\n",
    "\n",
    "        if sum([s_count for _, s_count in per_class_samples]) != self._target_n_samples:\n",
    "            diff = self._target_n_samples - sum([s_count for _, s_count in per_class_samples])\n",
    "            assert diff < len(per_class_samples), f'Something is really wrong, missed samples ({diff}) may never be ' \\\n",
    "                                                  f'larger than the number of classes ({len(per_class_samples)}) ' \\\n",
    "                                                  f'as they could\\'ve been split up over the classes!'\n",
    "            margin = len(per_class_samples) - diff  # how many classes to not touch on higher side of distribution\n",
    "            for i in range(len(per_class_samples) - margin - diff, len(per_class_samples) - margin):\n",
    "                per_class_samples[i][1] += 1\n",
    "\n",
    "        res_df = pd.DataFrame(columns=df.columns)\n",
    "        for class_id, s_count in per_class_samples:\n",
    "            res_df = res_df.append(\n",
    "                df.loc[df[self._target_col] == class_id].sample(s_count, replace=False, random_state=self.random_seed)\n",
    "            )\n",
    "\n",
    "        res_df = res_df.astype(df.dtypes.to_dict())\n",
    "\n",
    "        return res_df.sort_index().sample(frac=1, replace=False, random_state=self.random_seed).reset_index(drop=True)\n",
    "\n",
    "    def _calc_absolute_per_class_distance(self, imb_lvl, m, n, largest_class_samples):\n",
    "        \"\"\"\n",
    "        Calculates, for the given imbalance level, the absolute distance between per-class sample counts required to\n",
    "        get the dataset to that imbalance level.\n",
    "        If an imbalance level would exceed the maximum allowed imbalance (smallest class has 1% of samples of largest)\n",
    "        it is auto-capped to the maximum valid level.\n",
    "\n",
    "        :param imb_lvl: imbalance level to calculate the per-class distance for\n",
    "        :param m: number of classes in the dataset\n",
    "        :param n: desired total number of samples to return\n",
    "        :param largest_class_samples: number of samples available for the largest class in the dataset\n",
    "        :return: the distance each class' sample count should have to both its neighboring classes in polluted dataset\n",
    "        :rtype: int\n",
    "        \"\"\"\n",
    "        per_class_distance = floor((imb_lvl * ((m + 1) / 3) * n) / sum([(m - pcd_mult) * pcd_mult for pcd_mult in range(m)]))\n",
    "        changed_distance = False\n",
    "        while (largest_class_samples - ((m-1) * per_class_distance)) < round(0.01 * largest_class_samples):\n",
    "            per_class_distance -= 1\n",
    "            changed_distance = True\n",
    "        if changed_distance:\n",
    "            self._imbalance_level = _calc_imbalance_level(m, n, per_class_distance)\n",
    "            logging.warning('Changed the pollution level as it exceeded the reasonable limit. Now at {}'.format(\n",
    "                self._imbalance_level\n",
    "            ))\n",
    "        return int(per_class_distance)\n"
   ]
  },
  {
   "cell_type": "code",
   "execution_count": null,
   "metadata": {
    "pycharm": {
     "name": "#%%\n"
    }
   },
   "outputs": [],
   "source": [
    "ClassBalancePolluter().compute_quality_measure()"
   ]
  },
  {
   "cell_type": "code",
   "execution_count": 4,
   "metadata": {
    "pycharm": {
     "name": "#%%\n"
    }
   },
   "outputs": [],
   "source": [
    "import numpy as np\n",
    "import pandas as pd\n",
    "import logging\n",
    "\n",
    "class TargetAccuracyPolluter(Polluter):\n",
    "    \"\"\"\n",
    "    The TargetAccuracyPolluter changes the accuracy of the target variable.\n",
    "    \"\"\"\n",
    "\n",
    "    def __init__(self, pollution_level: float, target_col: str, is_categorical: bool, *args, **kwargs) -> None:\n",
    "        super().__init__(*args, **kwargs)\n",
    "        assert pollution_level >= 0. and (pollution_level <= 1.0 or (not is_categorical and pollution_level <= 1.25)), \\\n",
    "            f\"Expected a pollution level between 0 and 1.25, got: {pollution_level}\"\n",
    "\n",
    "        self.pollution_level = pollution_level\n",
    "        self.target_col = target_col\n",
    "        self.is_categorical = is_categorical\n",
    "\n",
    "    @staticmethod\n",
    "    def get_static_params(metadata: dict, df: pd.DataFrame, ds_name: str) -> dict:\n",
    "        target = metadata[ds_name][\"target\"]\n",
    "        # integers are not numerical but rather already encoded categories\n",
    "        if(df[target].dtype.kind in \"fc\"):\n",
    "            is_categorical = False\n",
    "        elif(df[target].dtype.kind in \"mMV\"):\n",
    "            raise ValueError(f\"Target variable has unexpected datatype: {df[target].dtype}\")\n",
    "        else:\n",
    "            is_categorical = True\n",
    "        return {\n",
    "            \"is_categorical\" : is_categorical,\n",
    "            \"target_col\" : target}\n",
    "\n",
    "    @classmethod\n",
    "    def configure(cls, metadata: dict, df: pd.DataFrame, ds_name: str) -> List[Polluter]:\n",
    "        configured_polluters = list()\n",
    "        static_params = cls.get_static_params(metadata, df, ds_name)\n",
    "        if(static_params.get(\"is_categorical\")):\n",
    "            pollution_list = [i / 20 for i in range(21)]\n",
    "        else:\n",
    "            pollution_list = [i / 20 for i in range(26)]\n",
    "        for rand_seed in metadata['random_seeds']:\n",
    "            for pollution_level in pollution_list:\n",
    "                configured_polluters.append(cls(\n",
    "                    pollution_level=pollution_level,\n",
    "                    random_seed=rand_seed,\n",
    "                    **static_params\n",
    "                ))\n",
    "        return configured_polluters\n",
    "\n",
    "\n",
    "    def pollute(self, df: pd.DataFrame) -> pd.DataFrame:\n",
    "        assert self.target_col in df.keys(), f\"Target column {self.target_col} is not a column of the given DataFrame\"\n",
    "\n",
    "        df_polluted = df.copy()\n",
    "\n",
    "        if self.is_categorical:\n",
    "            polluted_targets = self._swap_categoricals(df_polluted)\n",
    "            df_polluted[[self.target_col]] = polluted_targets\n",
    "        else:\n",
    "            polluted_targets = self._add_noise(df_polluted)\n",
    "            df_polluted[[self.target_col]] = polluted_targets\n",
    "\n",
    "        return df_polluted\n",
    "\n",
    "    def compute_quality_measure(self, df_polluted: pd.DataFrame, df_clean: pd.DataFrame) -> float:\n",
    "        if self.is_categorical:\n",
    "            return np.sum(df_polluted[[self.target_col]] == df_clean[[self.target_col]]) / len(df_clean.index)\n",
    "        else:\n",
    "            absolute_target_difference = np.abs(df_clean[[self.target_col]] - df_polluted[[self.target_col]])\n",
    "            print(f\"absolute_target_difference mean: {absolute_target_difference.mean()}\")\n",
    "            print(f\"scaled diff: {np.mean(absolute_target_difference / np.mean(df_clean[[self.target_col]]))}\")\n",
    "            return 1 - np.mean(absolute_target_difference / np.mean(df_clean[[self.target_col]]))\n",
    "\n",
    "    def _add_noise(self, df: pd.DataFrame):\n",
    "        mean = 0\n",
    "        std = self.pollution_level\n",
    "        noise_distribution_vector = self.random_generator.normal(mean, std, size=len(df.index))\n",
    "        df_mean = np.mean(df[self.target_col])\n",
    "\n",
    "        return df[[self.target_col]].values + np.reshape(noise_distribution_vector * df_mean, (-1, 1))\n",
    "\n",
    "    def _swap_categoricals(self, df: pd.DataFrame):\n",
    "        self.pollution_idxs = self.random_generator.choice(df.index, size=int(len(df.index) * self.pollution_level),\n",
    "                                                           replace=False)\n",
    "        pollution_col_values = df[[self.target_col]].values\n",
    "        uniques = np.unique(pollution_col_values)\n",
    "        for idx in self.pollution_idxs:\n",
    "            pollution_col_values[idx] = self.random_generator.choice(\n",
    "                np.delete(uniques, np.where(uniques == pollution_col_values[idx])), size=1)\n",
    "        return pollution_col_values\n"
   ]
  },
  {
   "cell_type": "markdown",
   "metadata": {
    "pycharm": {
     "name": "#%% md\n"
    }
   },
   "source": [
    "# Classification"
   ]
  },
  {
   "cell_type": "code",
   "execution_count": 44,
   "metadata": {
    "pycharm": {
     "name": "#%%\n"
    }
   },
   "outputs": [],
   "source": [
    "df_classification = pd.read_csv(\"/mnt/g/Studium/Master V/dataqualiy_4ai/classification/data/clean/TelcoCustomerChurn.csv\", sep=\",\")"
   ]
  },
  {
   "cell_type": "code",
   "execution_count": 45,
   "metadata": {
    "pycharm": {
     "name": "#%%\n"
    }
   },
   "outputs": [
    {
     "data": {
      "text/plain": [
       "((7032, 20), (7010, 20))"
      ]
     },
     "execution_count": 45,
     "metadata": {},
     "output_type": "execute_result"
    }
   ],
   "source": [
    "df_classification.shape, df_classification.drop_duplicates().shape"
   ]
  },
  {
   "cell_type": "code",
   "execution_count": 36,
   "metadata": {
    "pycharm": {
     "name": "#%%\n"
    }
   },
   "outputs": [],
   "source": [
    "import json\n",
    "with open(\"/mnt/g/Studium/Master V/dataqualiy_4ai/metadata.json\", \"r\") as f:\n",
    "    content = json.loads(f.read())\n",
    "polluter_list = TargetAccuracyPolluter.configure(content, df_classification, \"TelcoCustomerChurn.csv\")"
   ]
  },
  {
   "cell_type": "code",
   "execution_count": 42,
   "metadata": {
    "pycharm": {
     "name": "#%%\n"
    }
   },
   "outputs": [
    {
     "data": {
      "text/plain": [
       "1.0"
      ]
     },
     "execution_count": 42,
     "metadata": {},
     "output_type": "execute_result"
    }
   ],
   "source": [
    "polluter_list[len(polluter_list)-1].pollution_level"
   ]
  },
  {
   "cell_type": "code",
   "execution_count": 23,
   "metadata": {
    "pycharm": {
     "name": "#%%\n"
    }
   },
   "outputs": [
    {
     "data": {
      "text/plain": [
       "'O'"
      ]
     },
     "execution_count": 23,
     "metadata": {},
     "output_type": "execute_result"
    }
   ],
   "source": [
    "df_classification.Churn.dtype.kind"
   ]
  },
  {
   "cell_type": "code",
   "execution_count": null,
   "metadata": {
    "pycharm": {
     "name": "#%%\n"
    }
   },
   "outputs": [],
   "source": [
    "polluter_classification = TargetAccuracyPolluter(0.5,\"kredit\", True, random_seed=477)"
   ]
  },
  {
   "cell_type": "code",
   "execution_count": null,
   "metadata": {
    "pycharm": {
     "name": "#%%\n"
    }
   },
   "outputs": [],
   "source": [
    "df_classification_polluted = polluter_classification.pollute(df_classification)"
   ]
  },
  {
   "cell_type": "code",
   "execution_count": null,
   "metadata": {
    "pycharm": {
     "name": "#%%\n"
    }
   },
   "outputs": [],
   "source": [
    "df_classification_polluted.head()"
   ]
  },
  {
   "cell_type": "code",
   "execution_count": null,
   "metadata": {
    "pycharm": {
     "name": "#%%\n"
    }
   },
   "outputs": [],
   "source": [
    "np.sum(df_classification.kredit == df_classification_polluted.kredit) / len(df_classification.index)"
   ]
  },
  {
   "cell_type": "markdown",
   "metadata": {
    "pycharm": {
     "name": "#%% md\n"
    }
   },
   "source": [
    "# Regression"
   ]
  },
  {
   "cell_type": "markdown",
   "metadata": {
    "pycharm": {
     "name": "#%% md\n"
    }
   },
   "source": [
    "### artifical data"
   ]
  },
  {
   "cell_type": "code",
   "execution_count": 15,
   "metadata": {
    "pycharm": {
     "name": "#%%\n"
    }
   },
   "outputs": [],
   "source": [
    "X = np.arange(0,100,0.5)\n",
    "y = len(X) * [True]\n",
    "artificial_df = pd.DataFrame({\"X\":X, \"y\":y})"
   ]
  },
  {
   "cell_type": "code",
   "execution_count": 20,
   "metadata": {
    "pycharm": {
     "name": "#%%\n"
    }
   },
   "outputs": [
    {
     "data": {
      "text/plain": [
       "dtype('O')"
      ]
     },
     "execution_count": 20,
     "metadata": {},
     "output_type": "execute_result"
    }
   ],
   "source": [
    "pd.DataFrame({\"x\":[1,2,3], \"y\":[\"True\", \"True\", \"True\"]}).y.dtype"
   ]
  },
  {
   "cell_type": "code",
   "execution_count": 22,
   "metadata": {
    "pycharm": {
     "name": "#%%\n"
    }
   },
   "outputs": [
    {
     "data": {
      "text/plain": [
       "'b'"
      ]
     },
     "execution_count": 22,
     "metadata": {},
     "output_type": "execute_result"
    }
   ],
   "source": [
    "artificial_df.y.dtype.kind"
   ]
  },
  {
   "cell_type": "code",
   "execution_count": 16,
   "metadata": {
    "pycharm": {
     "name": "#%%\n"
    }
   },
   "outputs": [
    {
     "data": {
      "text/plain": [
       "True"
      ]
     },
     "execution_count": 16,
     "metadata": {},
     "output_type": "execute_result"
    }
   ],
   "source": [
    "from pandas.api.types import is_numeric_dtype\n",
    "is_numeric_dtype(artificial_df.y)"
   ]
  },
  {
   "cell_type": "code",
   "execution_count": null,
   "metadata": {
    "pycharm": {
     "name": "#%%\n"
    }
   },
   "outputs": [],
   "source": [
    "artificial_polluter = TargetAccuracyPolluter(0.25, \"y\", False, random_seed=1)"
   ]
  },
  {
   "cell_type": "code",
   "execution_count": null,
   "metadata": {
    "pycharm": {
     "name": "#%%\n"
    }
   },
   "outputs": [],
   "source": [
    "artificial_df[\"X\"]"
   ]
  },
  {
   "cell_type": "code",
   "execution_count": null,
   "metadata": {
    "pycharm": {
     "name": "#%%\n"
    }
   },
   "outputs": [],
   "source": [
    "clf = LinearRegression().fit(np.array(artificial_df.X[50:]).reshape(-1,1), artificial_polluter.pollute(artificial_df).y[50:])"
   ]
  },
  {
   "cell_type": "code",
   "execution_count": null,
   "metadata": {
    "pycharm": {
     "name": "#%%\n"
    }
   },
   "outputs": [],
   "source": [
    "plt.scatter(artificial_df.X[:50], artificial_polluter.pollute(artificial_df).y[:50], label=\"polluted data, lambda = 0.5\")\n",
    "plt.plot(X[:50],y[:50], color=\"red\", label=\"true relation\", linewidth=4)\n",
    "plt.plot(X[:50], clf.predict(X[:50].reshape(-1,1)), color=\"green\", label=\"trained relation\", linewidth=4)\n",
    "plt.plot()\n",
    "plt.legend()\n",
    "plt.savefig(\"/mnt/g/Studium/Master V/dataqualiy_4ai/figures/linear_confirmation.png\", dpi=300)"
   ]
  },
  {
   "cell_type": "code",
   "execution_count": null,
   "metadata": {
    "pycharm": {
     "name": "#%%\n"
    }
   },
   "outputs": [],
   "source": [
    "from sklearn.datasets import load_diabetes\n",
    "(data,target) = load_diabetes(return_X_y=True)\n",
    "df_regression = pd.DataFrame({\"target\":target})"
   ]
  },
  {
   "cell_type": "code",
   "execution_count": 5,
   "metadata": {
    "pycharm": {
     "name": "#%%\n"
    }
   },
   "outputs": [],
   "source": [
    "df_regression = pd.read_csv(\"/mnt/g/Studium/Master V/dataqualiy_4ai/datasets/regression/imdb_prepared.csv\", sep=\",\")"
   ]
  },
  {
   "cell_type": "code",
   "execution_count": 6,
   "metadata": {
    "pycharm": {
     "name": "#%%\n"
    }
   },
   "outputs": [],
   "source": [
    "import json\n",
    "with open(\"/mnt/g/Studium/Master V/dataqualiy_4ai/metadata.json\", \"r\") as f:\n",
    "    content = json.loads(f.read())\n",
    "polluter_list = TargetAccuracyPolluter.configure(content, df_regression, \"imdb_prepared.csv\")"
   ]
  },
  {
   "cell_type": "code",
   "execution_count": 11,
   "metadata": {
    "pycharm": {
     "name": "#%%\n"
    }
   },
   "outputs": [
    {
     "name": "stdout",
     "output_type": "stream",
     "text": [
      "absolute_target_difference mean: Rate    0.550737\n",
      "dtype: float64\n",
      "scaled diff: Rate    0.080088\n",
      "dtype: float64\n"
     ]
    },
    {
     "data": {
      "text/plain": [
       "Rate    0.919912\n",
       "dtype: float64"
      ]
     },
     "execution_count": 11,
     "metadata": {},
     "output_type": "execute_result"
    }
   ],
   "source": [
    "last_polluter = polluter_list[2]\n",
    "last_polluter.compute_quality_measure(last_polluter.pollute(df_regression), df_regression)"
   ]
  },
  {
   "cell_type": "code",
   "execution_count": 25,
   "metadata": {
    "pycharm": {
     "name": "#%%\n"
    }
   },
   "outputs": [
    {
     "data": {
      "text/plain": [
       "<matplotlib.collections.PathCollection at 0x7f2d45c288e0>"
      ]
     },
     "execution_count": 25,
     "metadata": {},
     "output_type": "execute_result"
    },
    {
     "data": {
      "image/png": "[encoded data removed]",
      "text/plain": [
       "<Figure size 432x288 with 1 Axes>"
      ]
     },
     "metadata": {
      "needs_background": "light"
     },
     "output_type": "display_data"
    }
   ],
   "source": [
    "plt.scatter(df_regression.index[0:15], last_polluter.pollute(df_regression).Rate[0:15], color=\"red\")\n",
    "plt.scatter(df_regression.index[0:15], df_regression.Rate[0:15], color=\"blue\")\n",
    "#plt.gca().set_ylim([0,10])"
   ]
  },
  {
   "cell_type": "code",
   "execution_count": 41,
   "metadata": {
    "pycharm": {
     "name": "#%%\n"
    }
   },
   "outputs": [
    {
     "data": {
      "image/png": "[encoded data removed]",
      "text/plain": [
       "<Figure size 432x288 with 1 Axes>"
      ]
     },
     "metadata": {
      "needs_background": "light"
     },
     "output_type": "display_data"
    }
   ],
   "source": [
    "x = np.arange(0,10, 0.5)\n",
    "plt.scatter(x,np.sin(x), label = \"signal\")\n",
    "plt.plot(x,np.sin(x))\n",
    "plt.scatter(x,np.sin(x) + np.random.normal(scale=0.2,size=len(x)), color=\"red\", label=\"noisy signal\")\n",
    "plt.legend()\n",
    "plt.savefig(\"/mnt/g/Studium/Master V/dataqualiy_4ai/figures/noise.png\", dpi=150)"
   ]
  },
  {
   "cell_type": "code",
   "execution_count": 62,
   "metadata": {
    "pycharm": {
     "name": "#%%\n"
    }
   },
   "outputs": [
    {
     "data": {
      "text/plain": [
       "(6.912039058343426, 6.876672784915735)"
      ]
     },
     "execution_count": 62,
     "metadata": {},
     "output_type": "execute_result"
    }
   ],
   "source": [
    "last_polluter.pollute(df_regression).Rate.mean(), df_regression.Rate.mean()"
   ]
  },
  {
   "cell_type": "code",
   "execution_count": null,
   "metadata": {
    "pycharm": {
     "name": "#%%\n"
    }
   },
   "outputs": [],
   "source": [
    "print(df_regression.shape)\n",
    "df_regression.head()"
   ]
  },
  {
   "cell_type": "code",
   "execution_count": null,
   "metadata": {
    "pycharm": {
     "name": "#%%\n"
    }
   },
   "outputs": [],
   "source": [
    "5993 * 0.2"
   ]
  },
  {
   "cell_type": "code",
   "execution_count": null,
   "metadata": {
    "pycharm": {
     "name": "#%%\n"
    }
   },
   "outputs": [],
   "source": [
    "from sklearn.linear_model import LinearRegression\n",
    "attributes = [\"Votes\",\"Genre\",\"Duration\",\"Type\",\"Certificate\",\"Episodes\",\"Nudity\",\"Violence\",\"Profanity\",\"Alcohol\",\"Frightening\"]\n",
    "\n",
    "clf = LinearRegression().fit(pd.get_dummies(df_regression[attributes]).iloc[1198:], df_regression[\"Rate\"].iloc[1198:])\n",
    "clf.score(pd.get_dummies(df_regression[attributes]).iloc[0:1198], df_regression[\"Rate\"].iloc[0:1198])"
   ]
  },
  {
   "cell_type": "code",
   "execution_count": null,
   "metadata": {
    "pycharm": {
     "name": "#%%\n"
    }
   },
   "outputs": [],
   "source": [
    "for poll in [\"original\", \"pollution 0.25\", \"pollution 0.5\", \"pollution 0.75\", \"pollution 1.0\"]:\n",
    "    clf = LinearRegression().fit(pd.get_dummies(df_reg[attributes]).iloc[1198:], df_reg[poll].iloc[1198:])\n",
    "    print(f\"Pollution: {poll}\")\n",
    "    orig_score = clf.score(pd.get_dummies(df_reg[attributes]).iloc[0:1198], df_reg[\"original\"].iloc[0:1198])\n",
    "    polluted_score = clf.score(pd.get_dummies(df_reg[attributes]).iloc[0:1198], df_reg[poll].iloc[0:1198])\n",
    "    print(f\"org score: {orig_score}, polluted_score: {polluted_score}\")"
   ]
  },
  {
   "cell_type": "code",
   "execution_count": null,
   "metadata": {
    "pycharm": {
     "name": "#%%\n"
    }
   },
   "outputs": [],
   "source": [
    "for poll in [\"original\", \"pollution 0.25\", \"pollution 0.5\", \"pollution 0.75\", \"pollution 1.0\"]:\n",
    "    clf = LinearRegression().fit(pd.get_dummies(df_reg_experimental[attributes]).iloc[1198:], df_reg_experimental[poll].iloc[1198:])\n",
    "    print(f\"Pollution: {poll}\")\n",
    "    orig_score = clf.score(pd.get_dummies(df_reg_experimental[attributes]).iloc[0:1198], df_reg_experimental[\"original\"].iloc[0:1198])\n",
    "    polluted_score = clf.score(pd.get_dummies(df_reg_experimental[attributes]).iloc[0:1198], df_reg_experimental[poll].iloc[0:1198])\n",
    "    print(f\"org score: {orig_score}, polluted_score: {polluted_score}\")"
   ]
  },
  {
   "cell_type": "code",
   "execution_count": null,
   "metadata": {
    "pycharm": {
     "name": "#%%\n"
    }
   },
   "outputs": [],
   "source": [
    "df_reg = df_regression.copy()\n",
    "df_reg = df_reg.rename({\"Rate\":\"original\"}, axis=1)\n",
    "\n",
    "polluter_std_025 = TargetAccuracyPolluter(0.25,\"original\", False, pollution_method = \"std\", random_seed=1)\n",
    "polluter_std_05 = TargetAccuracyPolluter(0.5,\"original\", False, pollution_method = \"std\", random_seed=1)\n",
    "polluter_std_075 = TargetAccuracyPolluter(0.75,\"original\", False, pollution_method = \"std\", random_seed=1)\n",
    "polluter_std_1 = TargetAccuracyPolluter(1.,\"original\", False, pollution_method = \"std\", random_seed=1)\n",
    "\n",
    "df_reg[\"pollution 0.25\"] = polluter_std_025.pollute(df_reg).original.values\n",
    "df_reg[\"pollution 0.5\"] = polluter_std_05.pollute(df_reg).original.values\n",
    "df_reg[\"pollution 0.75\"] = polluter_std_075.pollute(df_reg).original.values\n",
    "df_reg[\"pollution 1.0\"] = polluter_std_1.pollute(df_reg).original.values"
   ]
  },
  {
   "cell_type": "code",
   "execution_count": null,
   "metadata": {
    "pycharm": {
     "name": "#%%\n"
    }
   },
   "outputs": [],
   "source": [
    "sns.displot(df_reg[[\"original\", \"pollution 0.25\", \"pollution 0.5\", \"pollution 0.75\", \"pollution 1.0\"]], kind=\"kde\", linewidth=3.5, alpha=0.6, bw_adjust=.25)\n",
    "plt.grid()\n",
    "# plt.vlines(df_reg.original.mean(), ymin=0.0, ymax=0.08, color=\"black\", linewidth=3, label=\"Mean\")\n",
    "#plt.vlines(df_reg[\"pollution 0.25\"].mean(), ymin=0.0, ymax=0.001, color=\"red\")\n",
    "# plt.title(\"pollution input = std of gaussian noise distribution\")\n",
    "# plt.legend(loc=\"upper right\")\n",
    "# plt.savefig(\"pollution_kde.png\",dpi=300)\n",
    "plt.show()"
   ]
  },
  {
   "cell_type": "code",
   "execution_count": null,
   "metadata": {
    "pycharm": {
     "name": "#%%\n"
    }
   },
   "outputs": [],
   "source": [
    "df_reg[[\"Genre\",\"original\", \"pollution 0.25\", \"pollution 0.5\", \"pollution 0.75\", \"pollution 1.0\"]].sample(5)"
   ]
  },
  {
   "cell_type": "code",
   "execution_count": null,
   "metadata": {
    "pycharm": {
     "name": "#%%\n"
    }
   },
   "outputs": [],
   "source": [
    "df_reg_experimental = df_reg.copy()"
   ]
  },
  {
   "cell_type": "code",
   "execution_count": null,
   "metadata": {
    "pycharm": {
     "name": "#%%\n"
    }
   },
   "outputs": [],
   "source": [
    "for col in [\"original\", \"pollution 0.25\", \"pollution 0.5\", \"pollution 0.75\", \"pollution 1.0\"]:\n",
    "    df_reg_experimental[col] = df_reg_experimental[col].apply(lambda x: 0.0 if x < 0.0 else x)\n",
    "    df_reg_experimental[col] = df_reg_experimental[col].apply(lambda x: 10.0 if x > 10.0 else x)"
   ]
  },
  {
   "cell_type": "code",
   "execution_count": null,
   "metadata": {
    "pycharm": {
     "name": "#%%\n"
    }
   },
   "outputs": [],
   "source": [
    "df_reg_experimental[\"pollution 0.25\"].min()"
   ]
  },
  {
   "cell_type": "code",
   "execution_count": null,
   "metadata": {
    "pycharm": {
     "name": "#%%\n"
    }
   },
   "outputs": [],
   "source": [
    "sns.displot(df_reg_experimental[[\"original\", \"pollution 0.25\", \"pollution 0.5\", \"pollution 0.75\", \"pollution 1.0\"]], kind=\"kde\", linewidth=3.5, alpha=0.6, bw_adjust=.25)\n",
    "plt.grid()\n",
    "# plt.vlines(df_reg.original.mean(), ymin=0.0, ymax=0.08, color=\"black\", linewidth=3, label=\"Mean\")\n",
    "#plt.vlines(df_reg[\"pollution 0.25\"].mean(), ymin=0.0, ymax=0.001, color=\"red\")\n",
    "# plt.title(\"pollution input = std of gaussian noise distribution\")\n",
    "# plt.legend(loc=\"upper right\")\n",
    "plt.savefig(\"/mnt/g/Studium/Master V/dataqualiy_4ai/figures/pollution_kde_cutoff.png\",dpi=300)\n",
    "plt.show()"
   ]
  },
  {
   "cell_type": "code",
   "execution_count": null,
   "metadata": {
    "pycharm": {
     "name": "#%%\n"
    }
   },
   "outputs": [],
   "source": [
    "qualities_std = []\n",
    "qualities_variance = []\n",
    "qualities_mean = []\n",
    "qualities_blubb = []\n",
    "qualities_categorical = []\n",
    "x = np.arange(start=0.0,stop=2., step=0.05)\n",
    "for pollution_parameter in x:\n",
    "    polluter_std = TargetAccuracyPolluter(pollution_parameter,\"target\", False, pollution_method=\"std\", random_seed=477)\n",
    "    # polluter_variance = TargetAccuracyPolluter(pollution_parameter,\"target\", False, pollution_method=\"variance\", random_seed=477)\n",
    "    # polluter_mean = TargetAccuracyPolluter(pollution_parameter,\"target\", False, pollution_method=\"mean\", random_seed=477)\n",
    "    # polluter_blubb = TargetAccuracyPolluter(pollution_parameter,\"target\", False, pollution_method=\"lambda scaling\", random_seed=477)\n",
    "    \n",
    "\n",
    "    qualities_std.append(polluter_std.compute_quality_measure(df_regression, polluter_std.pollute(df_regression)))\n",
    "    # qualities_variance.append(polluter_variance.compute_quality_measure(df_regression, polluter_variance.pollute(df_regression)))\n",
    "    # qualities_mean.append(polluter_mean.compute_quality_measure(df_regression, polluter_mean.pollute(df_regression)))\n",
    "    # qualities_blubb.append(polluter_blubb.compute_quality_measure(df_regression, polluter_blubb.pollute(df_regression)))\n",
    "    if(pollution_parameter <= 1.0):\n",
    "        polluter_categorical = TargetAccuracyPolluter(pollution_parameter, \"kredit\", True, random_seed=477)\n",
    "        qualities_categorical.append(polluter_categorical.compute_quality_measure(df_classification, polluter_categorical.pollute(df_classification)))\n",
    "\n",
    "plt.plot(x, qualities_std, label=\"numercial target\")\n",
    "# plt.plot(x, qualities_variance, label=\"λ = variance, mean = 0\")\n",
    "# plt.plot(x, qualities_mean, label=\"λ = mean, variance = 0.5\")\n",
    "# plt.plot(x, qualities_blubb, label=\"λ scaling, mean = 1, variance = 0.5\")\n",
    "plt.plot(np.arange(start=0.0,stop=1.01, step=0.05), qualities_categorical, label=\"categorical target\")\n",
    "plt.xlabel(\"pollution parameter λ\")\n",
    "plt.ylabel(\"target accuracy quality measure\")\n",
    "#plt.xticks(np.arange(start=0.0,stop=1.3, step=0.1))\n",
    "plt.yticks(np.arange(start=0.0,stop=1.1, step=0.1))\n",
    "plt.grid()\n",
    "plt.title(\"Pollution Methods for Numerical and Categorical Targets\")\n",
    "\n",
    "ax = plt.gca()\n",
    "ax.set_ylim([0.0, 1.0])\n",
    "plt.legend()\n",
    "plt.savefig(\"/mnt/g/Studium/Master V/dataqualiy_4ai/figures/pollution_difference_cat_numerical.png\", dpi=300)\n",
    "plt.show()"
   ]
  },
  {
   "cell_type": "code",
   "execution_count": null,
   "metadata": {
    "pycharm": {
     "name": "#%%\n"
    }
   },
   "outputs": [],
   "source": [
    "qualities_std = []\n",
    "qualities_variance = []\n",
    "qualities_mean = []\n",
    "qualities_blubb = []\n",
    "x = np.arange(start=0.0,stop=2., step=0.05)\n",
    "for pollution_parameter in x:\n",
    "    polluter_std = TargetAccuracyPolluter(pollution_parameter,\"target\", False, pollution_method=\"std\", random_seed=477)\n",
    "    polluter_variance = TargetAccuracyPolluter(pollution_parameter,\"target\", False, pollution_method=\"variance\", random_seed=477)\n",
    "    polluter_mean = TargetAccuracyPolluter(pollution_parameter,\"target\", False, pollution_method=\"mean\", random_seed=477)\n",
    "    # polluter_blubb = TargetAccuracyPolluter(pollution_parameter,\"target\", False, pollution_method=\"lambda scaling\", random_seed=477)\n",
    "\n",
    "    qualities_std.append(polluter_std.compute_quality_measure(df_regression, polluter_std.pollute(df_regression, use_qdiff=False)))\n",
    "    qualities_variance.append(polluter_variance.compute_quality_measure(df_regression, polluter_variance.pollute(df_regression, use_qdiff=False)))\n",
    "    qualities_mean.append(polluter_mean.compute_quality_measure(df_regression, polluter_mean.pollute(df_regression, use_qdiff=False)))\n",
    "    # qualities_blubb.append(polluter_blubb.compute_quality_measure(df_regression, polluter_blubb.pollute(df_regression, use_qdiff=True)))\n",
    "\n",
    "plt.plot(x, qualities_std, label=\"λ = std\")\n",
    "plt.plot(x, qualities_variance, label=\"λ = variance\")\n",
    "plt.plot(x, qualities_mean, label=\"λ = mean\")\n",
    "# plt.plot(x, qualities_blubb, label=\"λ scaling, mean = 1, variance = 0.5\")\n",
    "plt.xlabel(\"pollution parameter\")\n",
    "plt.ylabel(\"target accuracy quality measure\")\n",
    "#plt.xticks(np.arange(start=0.0,stop=1.3, step=0.1))\n",
    "plt.yticks(np.arange(start=0.0,stop=1.1, step=0.1))\n",
    "plt.grid()\n",
    "plt.title(\"Pollution Methods for Numerical Targets, scaled by mean\")\n",
    "\n",
    "ax = plt.gca()\n",
    "ax.set_ylim([0.0, 1.0])\n",
    "plt.legend()\n",
    "plt.savefig(\"/mnt/g/Studium/Master V/dataqualiy_4ai/figures/std_pollution.png\", dpi=300)\n",
    "plt.show()"
   ]
  },
  {
   "cell_type": "code",
   "execution_count": null,
   "metadata": {
    "pycharm": {
     "name": "#%%\n"
    }
   },
   "outputs": [],
   "source": [
    "df_reg = df_regression.copy()\n",
    "df_reg = df_reg.rename({\"target\":\"original\"}, axis=1)\n",
    "\n",
    "polluter_std_025 = TargetAccuracyPolluter(0.25,\"original\", False, pollution_method = \"std\", random_seed=1)\n",
    "polluter_std_05 = TargetAccuracyPolluter(0.5,\"original\", False, pollution_method = \"std\", random_seed=1)\n",
    "polluter_std_075 = TargetAccuracyPolluter(0.75,\"original\", False, pollution_method = \"std\", random_seed=1)\n",
    "polluter_std_1 = TargetAccuracyPolluter(1.,\"original\", False, pollution_method = \"std\", random_seed=1)\n",
    "\n",
    "df_reg[\"pollution 0.25\"] = polluter_std_025.pollute(df_reg).original.values\n",
    "df_reg[\"pollution 0.5\"] = polluter_std_05.pollute(df_reg).original.values\n",
    "df_reg[\"pollution 0.75\"] = polluter_std_075.pollute(df_reg).original.values\n",
    "df_reg[\"pollution 1.0\"] = polluter_std_1.pollute(df_reg).original.values"
   ]
  },
  {
   "cell_type": "code",
   "execution_count": null,
   "metadata": {
    "pycharm": {
     "name": "#%%\n"
    }
   },
   "outputs": [],
   "source": [
    "df_reg.original.mode()"
   ]
  },
  {
   "cell_type": "code",
   "execution_count": null,
   "metadata": {
    "pycharm": {
     "name": "#%%\n"
    }
   },
   "outputs": [],
   "source": [
    "sns.displot(df_reg, kind=\"kde\", linewidth=3.5, alpha=0.6)\n",
    "plt.grid()\n",
    "plt.vlines(df_reg.original.mean(), ymin=0.0, ymax=0.001, color=\"black\", linewidth=3, label=\"Mean\")\n",
    "#plt.vlines(df_reg[\"pollution 0.25\"].mean(), ymin=0.0, ymax=0.001, color=\"red\")\n",
    "plt.title(\"pollution input = std of gaussian noise distribution\")\n",
    "plt.legend(loc=\"upper right\")\n",
    "plt.savefig(\"pollution_kde.png\",dpi=300)\n",
    "plt.show()"
   ]
  },
  {
   "cell_type": "code",
   "execution_count": null,
   "metadata": {
    "pycharm": {
     "name": "#%%\n"
    }
   },
   "outputs": [],
   "source": [
    "np.mean(np.abs(np.random.normal(0,1,10000)))"
   ]
  },
  {
   "cell_type": "code",
   "execution_count": null,
   "metadata": {
    "pycharm": {
     "name": "#%%\n"
    }
   },
   "outputs": [],
   "source": [
    "plt.hist(np.abs(np.random.normal(0,1,100000)), bins=40)"
   ]
  },
  {
   "cell_type": "code",
   "execution_count": null,
   "metadata": {
    "pycharm": {
     "name": "#%%\n"
    }
   },
   "outputs": [],
   "source": [
    "\n",
    "\n",
    "\n",
    "sns.histplot()\n",
    "#sns.histplot(polluter_std_05.pollute(df_regression), color=\"red\", label=\"pollution=0.5\")\n",
    "#sns.histplot(polluter_std_075.pollute(df_regression), color=\"blue\", label=\"pollution=0.75\")\n",
    "plt.legend()\n",
    "plt.title(\"Std Pollution on the Data\")\n",
    "plt.show()"
   ]
  },
  {
   "cell_type": "code",
   "execution_count": null,
   "metadata": {
    "pycharm": {
     "name": "#%%\n"
    }
   },
   "outputs": [],
   "source": [
    "import matplotlib.pyplot as plt\n",
    "import numpy as np\n",
    "from sklearn import datasets, linear_model\n",
    "from sklearn.metrics import mean_squared_error, r2_score\n",
    "\n",
    "# Load the diabetes dataset\n",
    "diabetes_X, diabetes_y = datasets.load_diabetes(return_X_y=True)\n",
    "\n",
    "# Use only one feature\n",
    "diabetes_X = diabetes_X[:, np.newaxis, 2]\n",
    "\n",
    "# Split the data into training/testing sets\n",
    "diabetes_X_train = diabetes_X[:-20]\n",
    "diabetes_X_test = diabetes_X[-20:]\n",
    "\n",
    "# Split the targets into training/testing sets\n",
    "diabetes_y_train = diabetes_y[:-20]\n",
    "diabetes_y_test = diabetes_y[-20:]\n",
    "\n",
    "# Create linear regression object\n",
    "regr = linear_model.LinearRegression()\n",
    "\n",
    "# Train the model using the training sets\n",
    "regr.fit(diabetes_X_train, diabetes_y_train)\n",
    "\n",
    "# Make predictions using the testing set\n",
    "diabetes_y_pred = regr.predict(diabetes_X_test)"
   ]
  },
  {
   "cell_type": "code",
   "execution_count": null,
   "metadata": {
    "pycharm": {
     "name": "#%%\n"
    }
   },
   "outputs": [],
   "source": [
    "df_regression"
   ]
  },
  {
   "cell_type": "code",
   "execution_count": null,
   "metadata": {
    "pycharm": {
     "name": "#%%\n"
    }
   },
   "outputs": [],
   "source": [
    "# The coefficients\n",
    "print(\"Coefficients: \\n\", regr.coef_)\n",
    "# The mean squared error\n",
    "print(\"Mean squared error: %.2f\" % mean_squared_error(diabetes_y_test, diabetes_y_pred))\n",
    "# The coefficient of determination: 1 is perfect prediction\n",
    "print(\"Coefficient of determination: %.2f\" % r2_score(diabetes_y_test, diabetes_y_pred))"
   ]
  },
  {
   "cell_type": "markdown",
   "metadata": {
    "pycharm": {
     "name": "#%% md\n"
    }
   },
   "source": [
    "# Clustering"
   ]
  },
  {
   "cell_type": "code",
   "execution_count": null,
   "metadata": {
    "pycharm": {
     "name": "#%%\n"
    }
   },
   "outputs": [],
   "source": [
    "clustering_df = pd.read_csv(\"/mnt/g/Studium/Master V/dataqualiy_4ai/datasets/clustering/bank.csv\", sep=\",\")\n",
    "#df_classification = pd.read_csv(\"/mnt/g/Studium/Master V/dataqualiy_4ai/datasets/SouthGermanCredit.csv\", sep=\",\")"
   ]
  },
  {
   "cell_type": "code",
   "execution_count": null,
   "metadata": {
    "pycharm": {
     "name": "#%%\n"
    }
   },
   "outputs": [],
   "source": [
    "clustering_df.education.unique()"
   ]
  },
  {
   "cell_type": "code",
   "execution_count": null,
   "metadata": {
    "pycharm": {
     "name": "#%%\n"
    }
   },
   "outputs": [],
   "source": [
    "cluster_polluter = TargetAccuracyPolluter(0.5,\"education\", True, random_seed=1)"
   ]
  },
  {
   "cell_type": "code",
   "execution_count": null,
   "metadata": {
    "pycharm": {
     "name": "#%%\n"
    }
   },
   "outputs": [],
   "source": [
    "polluted_clustering_df = cluster_polluter.pollute(clustering_df)"
   ]
  },
  {
   "cell_type": "code",
   "execution_count": null,
   "metadata": {
    "pycharm": {
     "name": "#%%\n"
    }
   },
   "outputs": [],
   "source": [
    "polluted_clustering_df.education.value_counts()"
   ]
  },
  {
   "cell_type": "code",
   "execution_count": null,
   "metadata": {
    "pycharm": {
     "name": "#%%\n"
    }
   },
   "outputs": [],
   "source": [
    "index = np.arange(len(clustering_df.education.unique()))\n",
    "bar_width = 0.35\n",
    "\n",
    "fig, ax = plt.subplots()\n",
    "clean = ax.bar(index, clustering_df[\"education\"].value_counts(), bar_width,\n",
    "                label=\"clean data\")\n",
    "\n",
    "polluted = ax.bar(index+bar_width, polluted_clustering_df[\"education\"].value_counts(),\n",
    "                 bar_width, label=\"pollluted\")\n",
    "\n",
    "ax.set_xlabel('Category')\n",
    "ax.set_ylabel('Incidence')\n",
    "ax.set_title('Crime incidence by season, type')\n",
    "ax.set_xticks(index + bar_width / 2)\n",
    "ax.set_xticklabels([\"ASB\", \"Violence\", \"Theft\", \"Public Order\", \"Drugs\"])\n",
    "ax.legend()\n",
    "\n",
    "plt.show()"
   ]
  },
  {
   "cell_type": "code",
   "execution_count": null,
   "metadata": {
    "pycharm": {
     "name": "#%%\n"
    }
   },
   "outputs": [],
   "source": [
    "diff_df = (clustering_df.education.value_counts() - polluted_clustering_df.education.value_counts())"
   ]
  },
  {
   "cell_type": "code",
   "execution_count": null,
   "metadata": {
    "pycharm": {
     "name": "#%%\n"
    }
   },
   "outputs": [],
   "source": [
    "fig, ax = plt.subplots()\n",
    "ax.bar(diff_df.index, diff_df.values)"
   ]
  },
  {
   "cell_type": "code",
   "execution_count": null,
   "metadata": {
    "pycharm": {
     "name": "#%%\n"
    }
   },
   "outputs": [],
   "source": [
    "ax = plt.subplot(111)\n",
    "\n",
    "ax.bar(clustering_df.education.value_counts().keys(), clustering_df.education.value_counts().values)\n",
    "ax.bar(polluted_clustering_df.education.value_counts().keys(), polluted_clustering_df.education.value_counts().values, color=\"red\")\n",
    "# polluted_clustering_df.education.hist()\n",
    "# clustering_df.education.hist()\n",
    "plt.xticks(rotation=90)"
   ]
  },
  {
   "cell_type": "code",
   "execution_count": null,
   "metadata": {
    "pycharm": {
     "name": "#%%\n"
    }
   },
   "outputs": [],
   "source": [
    "random_targets = pd.DataFrame({\"target\":np.random.choice([1,2,3], size=1000)})\n",
    "\n",
    "for poll in np.arange(start=0.0, stop=1.0, step=0.1):\n",
    "    polluter = TargetAccuracyPolluter(poll,\"target\", True, random_seed=1)\n",
    "    random_targets_polluted = polluter.pollute(random_targets)\n",
    "    score = fowlkes_mallows_score(random_targets.target.values,random_targets_polluted.target.values)\n",
    "    print(f\"pollution: {np.round(poll, decimals=1)}, score: {score}\")"
   ]
  },
  {
   "cell_type": "code",
   "execution_count": null,
   "metadata": {
    "pycharm": {
     "name": "#%%\n"
    }
   },
   "outputs": [],
   "source": [
    "fowlkes_mallows_score([0, 0, 1, 1], [0, 0, 0, 0])"
   ]
  }
 ],
 "metadata": {
  "interpreter": {
   "hash": "233b6e452f20f0fc46739ae856a33cce9480b80b042a79d93b6707e978e89d2f"
  },
  "kernelspec": {
   "display_name": "Python 3.8.10 64-bit ('onetask': conda)",
   "language": "python",
   "name": "python3"
  },
  "language_info": {
   "codemirror_mode": {
    "name": "ipython",
    "version": 3
   },
   "file_extension": ".py",
   "mimetype": "text/x-python",
   "name": "python",
   "nbconvert_exporter": "python",
   "pygments_lexer": "ipython3",
   "version": "3.8.10"
  },
  "orig_nbformat": 4
 },
 "nbformat": 4,
 "nbformat_minor": 2
}
