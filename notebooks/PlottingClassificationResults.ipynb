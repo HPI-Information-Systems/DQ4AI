{
 "cells": [
  {
   "cell_type": "markdown",
   "metadata": {
    "pycharm": {
     "name": "#%% md\n"
    }
   },
   "source": [
    "In our experiments we split up the code execution to achieve maximum parallelization. This resulted in seperate result json files (included in this repo) which are quickly merged in this notebook. If you re-run the experiments on a single node, you will end up with a single classification_results.json, which you can load manually instead of all the separate files."
   ]
  },
  {
   "cell_type": "code",
   "metadata": {
    "pycharm": {
     "name": "#%%\n"
    },
    "ExecuteTime": {
     "end_time": "2024-11-07T14:32:50.104460Z",
     "start_time": "2024-11-07T14:32:48.105018Z"
    }
   },
   "source": [
    "from os import getcwd\n",
    "from os.path import dirname\n",
    "import sys\n",
    "sys.path.insert(0, dirname(getcwd()))\n",
    "from json import loads\n",
    "from classification.preprocessing import results_json_to_dataframe, get_baselines\n",
    "from classification.plotting import plot_performances\n",
    "from pandas import concat\n",
    "from os import path, mkdir, makedirs"
   ],
   "outputs": [],
   "execution_count": 1
  },
  {
   "cell_type": "code",
   "metadata": {
    "pycharm": {
     "name": "#%%\n"
    },
    "ExecuteTime": {
     "end_time": "2024-11-07T14:32:50.113533Z",
     "start_time": "2024-11-07T14:32:50.110716Z"
    }
   },
   "source": [
    "RESULTS_PATH = \"../classification/results/\""
   ],
   "outputs": [],
   "execution_count": 2
  },
  {
   "cell_type": "code",
   "metadata": {
    "pycharm": {
     "name": "#%%\n"
    },
    "ExecuteTime": {
     "end_time": "2024-11-07T14:32:50.290825Z",
     "start_time": "2024-11-07T14:32:50.174486Z"
    }
   },
   "source": [
    "with open(RESULTS_PATH + \"classification_results_class_balance_no_svm.json\", 'r') as file:\n",
    "    class_balance_raw = loads(file.read())\n",
    "df_class_balance = results_json_to_dataframe(class_balance_raw)"
   ],
   "outputs": [],
   "execution_count": 3
  },
  {
   "cell_type": "code",
   "metadata": {
    "pycharm": {
     "name": "#%%\n"
    },
    "ExecuteTime": {
     "end_time": "2024-11-07T14:32:50.519407Z",
     "start_time": "2024-11-07T14:32:50.305413Z"
    }
   },
   "source": [
    "with open(RESULTS_PATH + \"classification_results_completeness_no_svm.json\", 'r') as file:\n",
    "    completeness_raw = loads(file.read())\n",
    "df_completeness = results_json_to_dataframe(completeness_raw)"
   ],
   "outputs": [],
   "execution_count": 4
  },
  {
   "cell_type": "code",
   "metadata": {
    "pycharm": {
     "name": "#%%\n"
    },
    "ExecuteTime": {
     "end_time": "2024-11-07T14:32:51.206851Z",
     "start_time": "2024-11-07T14:32:50.536510Z"
    }
   },
   "source": [
    "with open(RESULTS_PATH+ \"classification_results_consistent_representation_no_svm.json\", 'r') as file:\n",
    "    cons_repr_raw = loads(file.read())\n",
    "df_consistent_representation = results_json_to_dataframe(cons_repr_raw)"
   ],
   "outputs": [
    {
     "name": "stderr",
     "output_type": "stream",
     "text": [
      "/home/sedirmohammed/dev/DataQuality_4AI/dataqualiy_4ai/classification/preprocessing.py:82: FutureWarning: In a future version, `df.iloc[:, i] = newvals` will attempt to set the values inplace instead of always setting a new array. To retain the old behavior, use either `df[df.columns[i]] = newvals` or, if columns are non-unique, `df.isetitem(i, newvals)`\n",
      "  df.loc[mask, 'quality_train'] = df[mask].quality_train.str[0]\n",
      "/home/sedirmohammed/dev/DataQuality_4AI/dataqualiy_4ai/classification/preprocessing.py:83: FutureWarning: In a future version, `df.iloc[:, i] = newvals` will attempt to set the values inplace instead of always setting a new array. To retain the old behavior, use either `df[df.columns[i]] = newvals` or, if columns are non-unique, `df.isetitem(i, newvals)`\n",
      "  df.loc[mask, 'quality_test'] = df[mask].quality_test.str[0]\n"
     ]
    }
   ],
   "execution_count": 5
  },
  {
   "cell_type": "code",
   "metadata": {
    "pycharm": {
     "name": "#%%\n"
    },
    "ExecuteTime": {
     "end_time": "2024-11-07T14:32:51.367080Z",
     "start_time": "2024-11-07T14:32:51.226609Z"
    }
   },
   "source": [
    "with open(RESULTS_PATH + \"classification_results_target_accuracy_no_svm.json\", 'r') as file:\n",
    "    target_accuracy_raw = loads(file.read())\n",
    "df_target_accuracy = results_json_to_dataframe(target_accuracy_raw)"
   ],
   "outputs": [],
   "execution_count": 6
  },
  {
   "cell_type": "code",
   "metadata": {
    "pycharm": {
     "name": "#%%\n"
    },
    "ExecuteTime": {
     "end_time": "2024-11-07T14:32:51.558387Z",
     "start_time": "2024-11-07T14:32:51.391008Z"
    }
   },
   "source": [
    "with open(RESULTS_PATH + \"classification_results_feature_accuracy_no_svm.json\", 'r') as file:\n",
    "    feature_accuracy_raw = loads(file.read())\n",
    "df_feature_accuracy = results_json_to_dataframe(feature_accuracy_raw)"
   ],
   "outputs": [],
   "execution_count": 7
  },
  {
   "cell_type": "code",
   "metadata": {
    "pycharm": {
     "name": "#%%\n"
    },
    "ExecuteTime": {
     "end_time": "2024-11-07T14:32:51.942435Z",
     "start_time": "2024-11-07T14:32:51.583552Z"
    }
   },
   "source": [
    "with open(RESULTS_PATH + \"classification_results_uniqueness_no_svm.json\", 'r') as file:\n",
    "    uniqueness_raw = loads(file.read())\n",
    "df_uniqueness = results_json_to_dataframe(uniqueness_raw)"
   ],
   "outputs": [],
   "execution_count": 8
  },
  {
   "cell_type": "code",
   "metadata": {
    "pycharm": {
     "name": "#%%\n"
    },
    "ExecuteTime": {
     "end_time": "2024-11-07T14:32:52.561694Z",
     "start_time": "2024-11-07T14:32:51.976588Z"
    }
   },
   "source": [
    "with open(RESULTS_PATH + \"classification_results_svm.json\", 'r') as file:\n",
    "    svm_raw = loads(file.read())\n",
    "df_svm = results_json_to_dataframe(svm_raw)"
   ],
   "outputs": [],
   "execution_count": 9
  },
  {
   "cell_type": "code",
   "source": [
    "with open(RESULTS_PATH + \"classification_results_deep_learning.json\", 'r') as file:\n",
    "    dl_raw = loads(file.read())\n",
    "df_dl = results_json_to_dataframe(dl_raw)"
   ],
   "metadata": {
    "collapsed": false,
    "pycharm": {
     "name": "#%%\n"
    },
    "ExecuteTime": {
     "end_time": "2024-11-07T14:32:54.229257Z",
     "start_time": "2024-11-07T14:32:52.598777Z"
    }
   },
   "outputs": [],
   "execution_count": 10
  },
  {
   "metadata": {
    "ExecuteTime": {
     "end_time": "2024-11-07T14:32:55.203519Z",
     "start_time": "2024-11-07T14:32:54.290183Z"
    }
   },
   "cell_type": "code",
   "source": [
    "with open(RESULTS_PATH + \"classification_results_covid_no_tabnet.json\", 'r') as file:\n",
    "    dl_raw = loads(file.read())\n",
    "df_covid = results_json_to_dataframe(dl_raw)"
   ],
   "outputs": [
    {
     "name": "stderr",
     "output_type": "stream",
     "text": [
      "/home/sedirmohammed/dev/DataQuality_4AI/dataqualiy_4ai/classification/preprocessing.py:59: FutureWarning: In a future version, `df.iloc[:, i] = newvals` will attempt to set the values inplace instead of always setting a new array. To retain the old behavior, use either `df[df.columns[i]] = newvals` or, if columns are non-unique, `df.isetitem(i, newvals)`\n",
      "  return_df.loc[mask, quality] = new_quality_values\n"
     ]
    }
   ],
   "execution_count": 11
  },
  {
   "metadata": {
    "ExecuteTime": {
     "end_time": "2024-11-07T14:33:30.382807Z",
     "start_time": "2024-11-07T14:33:30.290375Z"
    }
   },
   "cell_type": "code",
   "source": [
    "with open(RESULTS_PATH + \"classification_results_covid_tabnet.json\", 'r') as file:\n",
    "    dl_raw = loads(file.read())\n",
    "df_covid_tabnet = results_json_to_dataframe(dl_raw)"
   ],
   "outputs": [
    {
     "name": "stderr",
     "output_type": "stream",
     "text": [
      "/home/sedirmohammed/dev/DataQuality_4AI/dataqualiy_4ai/classification/preprocessing.py:59: FutureWarning: In a future version, `df.iloc[:, i] = newvals` will attempt to set the values inplace instead of always setting a new array. To retain the old behavior, use either `df[df.columns[i]] = newvals` or, if columns are non-unique, `df.isetitem(i, newvals)`\n",
      "  return_df.loc[mask, quality] = new_quality_values\n"
     ]
    }
   ],
   "execution_count": 12
  },
  {
   "metadata": {
    "ExecuteTime": {
     "end_time": "2024-11-07T14:33:31.134600Z",
     "start_time": "2024-11-07T14:33:30.669509Z"
    }
   },
   "cell_type": "code",
   "source": [
    "with open(RESULTS_PATH + \"classification_results_tabnet_original_data.json\", 'r') as file:\n",
    "    dl_raw = loads(file.read())\n",
    "df_tabnet = results_json_to_dataframe(dl_raw)"
   ],
   "outputs": [],
   "execution_count": 13
  },
  {
   "cell_type": "code",
   "metadata": {
    "pycharm": {
     "name": "#%%\n"
    },
    "ExecuteTime": {
     "end_time": "2024-11-07T14:33:31.159045Z",
     "start_time": "2024-11-07T14:33:31.139682Z"
    }
   },
   "source": "df = concat([df_consistent_representation, df_feature_accuracy, df_class_balance, df_completeness, df_target_accuracy, df_uniqueness, df_svm, df_dl, df_tabnet, df_covid, df_covid_tabnet])",
   "outputs": [],
   "execution_count": 14
  },
  {
   "cell_type": "code",
   "metadata": {
    "pycharm": {
     "name": "#%%\n"
    },
    "ExecuteTime": {
     "end_time": "2024-11-07T14:33:34.287602Z",
     "start_time": "2024-11-07T14:33:31.373001Z"
    }
   },
   "source": [
    "baselines = get_baselines()\n",
    "scenarios = ['train_polluted_test_clean', 'train_clean_test_polluted', 'train_polluted_test_polluted']"
   ],
   "outputs": [],
   "execution_count": 15
  },
  {
   "metadata": {
    "pycharm": {
     "name": "#%%\n"
    },
    "ExecuteTime": {
     "end_time": "2024-11-08T08:27:33.003664Z",
     "start_time": "2024-11-08T08:22:44.965779Z"
    }
   },
   "cell_type": "code",
   "source": [
    "DATASET_NAMES = {\n",
    "    'SouthGermanCredit.csv': 'credit',\n",
    "    'TelcoCustomerChurn.csv': 'telco',\n",
    "    'cmc.data': 'contraceptive',\n",
    "    'covid_data_pre_processed.csv': 'covid',\n",
    "}\n",
    "\n",
    "for polluter in df.polluter.unique():\n",
    "    for dataset in df.dataset.unique():\n",
    "        for scenario in scenarios:\n",
    "            #save_path = f\"../classification/results/figures/{polluter}/accuracy/{DATASET_NAMES[dataset]}_{scenario}_{polluter}\"\n",
    "            #makedirs(path.dirname(save_path), exist_ok=True)\n",
    "            #plot_performances(df, dataset, polluter, scenario, baselines, save_path=f\"{save_path}.png\")\n",
    "            # save_path = f\"../classification/results/figures/{polluter}/f1_score/{DATASET_NAMES[dataset]}_{scenario}_{polluter}\"\n",
    "            if scenario == 'train_polluted_test_polluted':\n",
    "                show_legend = True\n",
    "                save_path = f\"../classification/results/figures/{DATASET_NAMES[dataset]}_{scenario}_{polluter}_legend\"\n",
    "                makedirs(path.dirname(save_path), exist_ok=True)\n",
    "                plot_performances(df, dataset, polluter, scenario, baselines, use_f1=True, save_path=f\"{save_path}.png\", show_legend=show_legend)\n",
    "\n",
    "            save_path = f\"../classification/results/figures/{DATASET_NAMES[dataset]}_{scenario}_{polluter}\"\n",
    "            makedirs(path.dirname(save_path), exist_ok=True)\n",
    "            plot_performances(df, dataset, polluter, scenario, baselines, use_f1=True, save_path=f\"{save_path}.png\", show_legend=False)"
   ],
   "outputs": [
    {
     "name": "stderr",
     "output_type": "stream",
     "text": [
      "/home/sedirmohammed/dev/DataQuality_4AI/dataqualiy_4ai/classification/preprocessing.py:194: FutureWarning: ['polluter_config'] did not aggregate successfully. If any error is raised this will raise in a future version of pandas. Drop these columns/ops to avoid this warning.\n",
      "  grouped_df = df.drop(columns=['seed']).groupby(by, as_index=False).agg([mean, std]).reset_index()\n",
      "/home/sedirmohammed/dev/DataQuality_4AI/dataqualiy_4ai/classification/preprocessing.py:194: FutureWarning: ['polluter_config'] did not aggregate successfully. If any error is raised this will raise in a future version of pandas. Drop these columns/ops to avoid this warning.\n",
      "  grouped_df = df.drop(columns=['seed']).groupby(by, as_index=False).agg([mean, std]).reset_index()\n",
      "/home/sedirmohammed/dev/DataQuality_4AI/dataqualiy_4ai/classification/preprocessing.py:194: FutureWarning: ['polluter_config'] did not aggregate successfully. If any error is raised this will raise in a future version of pandas. Drop these columns/ops to avoid this warning.\n",
      "  grouped_df = df.drop(columns=['seed']).groupby(by, as_index=False).agg([mean, std]).reset_index()\n",
      "/home/sedirmohammed/dev/DataQuality_4AI/dataqualiy_4ai/classification/preprocessing.py:194: FutureWarning: ['polluter_config'] did not aggregate successfully. If any error is raised this will raise in a future version of pandas. Drop these columns/ops to avoid this warning.\n",
      "  grouped_df = df.drop(columns=['seed']).groupby(by, as_index=False).agg([mean, std]).reset_index()\n",
      "/home/sedirmohammed/dev/DataQuality_4AI/dataqualiy_4ai/classification/preprocessing.py:194: FutureWarning: ['polluter_config'] did not aggregate successfully. If any error is raised this will raise in a future version of pandas. Drop these columns/ops to avoid this warning.\n",
      "  grouped_df = df.drop(columns=['seed']).groupby(by, as_index=False).agg([mean, std]).reset_index()\n",
      "/home/sedirmohammed/dev/DataQuality_4AI/dataqualiy_4ai/classification/preprocessing.py:194: FutureWarning: ['polluter_config'] did not aggregate successfully. If any error is raised this will raise in a future version of pandas. Drop these columns/ops to avoid this warning.\n",
      "  grouped_df = df.drop(columns=['seed']).groupby(by, as_index=False).agg([mean, std]).reset_index()\n",
      "/home/sedirmohammed/dev/DataQuality_4AI/dataqualiy_4ai/classification/preprocessing.py:194: FutureWarning: ['polluter_config'] did not aggregate successfully. If any error is raised this will raise in a future version of pandas. Drop these columns/ops to avoid this warning.\n",
      "  grouped_df = df.drop(columns=['seed']).groupby(by, as_index=False).agg([mean, std]).reset_index()\n",
      "/home/sedirmohammed/dev/DataQuality_4AI/dataqualiy_4ai/classification/preprocessing.py:194: FutureWarning: ['polluter_config'] did not aggregate successfully. If any error is raised this will raise in a future version of pandas. Drop these columns/ops to avoid this warning.\n",
      "  grouped_df = df.drop(columns=['seed']).groupby(by, as_index=False).agg([mean, std]).reset_index()\n",
      "/home/sedirmohammed/dev/DataQuality_4AI/dataqualiy_4ai/classification/preprocessing.py:194: FutureWarning: ['polluter_config'] did not aggregate successfully. If any error is raised this will raise in a future version of pandas. Drop these columns/ops to avoid this warning.\n",
      "  grouped_df = df.drop(columns=['seed']).groupby(by, as_index=False).agg([mean, std]).reset_index()\n",
      "/home/sedirmohammed/dev/DataQuality_4AI/dataqualiy_4ai/classification/preprocessing.py:194: FutureWarning: ['polluter_config'] did not aggregate successfully. If any error is raised this will raise in a future version of pandas. Drop these columns/ops to avoid this warning.\n",
      "  grouped_df = df.drop(columns=['seed']).groupby(by, as_index=False).agg([mean, std]).reset_index()\n",
      "/home/sedirmohammed/dev/DataQuality_4AI/dataqualiy_4ai/classification/preprocessing.py:194: FutureWarning: ['polluter_config'] did not aggregate successfully. If any error is raised this will raise in a future version of pandas. Drop these columns/ops to avoid this warning.\n",
      "  grouped_df = df.drop(columns=['seed']).groupby(by, as_index=False).agg([mean, std]).reset_index()\n",
      "/home/sedirmohammed/dev/DataQuality_4AI/dataqualiy_4ai/classification/preprocessing.py:194: FutureWarning: ['polluter_config'] did not aggregate successfully. If any error is raised this will raise in a future version of pandas. Drop these columns/ops to avoid this warning.\n",
      "  grouped_df = df.drop(columns=['seed']).groupby(by, as_index=False).agg([mean, std]).reset_index()\n",
      "/home/sedirmohammed/dev/DataQuality_4AI/dataqualiy_4ai/classification/preprocessing.py:194: FutureWarning: ['polluter_config'] did not aggregate successfully. If any error is raised this will raise in a future version of pandas. Drop these columns/ops to avoid this warning.\n",
      "  grouped_df = df.drop(columns=['seed']).groupby(by, as_index=False).agg([mean, std]).reset_index()\n",
      "/home/sedirmohammed/dev/DataQuality_4AI/dataqualiy_4ai/classification/preprocessing.py:194: FutureWarning: ['polluter_config'] did not aggregate successfully. If any error is raised this will raise in a future version of pandas. Drop these columns/ops to avoid this warning.\n",
      "  grouped_df = df.drop(columns=['seed']).groupby(by, as_index=False).agg([mean, std]).reset_index()\n",
      "/home/sedirmohammed/dev/DataQuality_4AI/dataqualiy_4ai/classification/preprocessing.py:194: FutureWarning: ['polluter_config'] did not aggregate successfully. If any error is raised this will raise in a future version of pandas. Drop these columns/ops to avoid this warning.\n",
      "  grouped_df = df.drop(columns=['seed']).groupby(by, as_index=False).agg([mean, std]).reset_index()\n",
      "/home/sedirmohammed/dev/DataQuality_4AI/dataqualiy_4ai/classification/preprocessing.py:194: FutureWarning: ['polluter_config'] did not aggregate successfully. If any error is raised this will raise in a future version of pandas. Drop these columns/ops to avoid this warning.\n",
      "  grouped_df = df.drop(columns=['seed']).groupby(by, as_index=False).agg([mean, std]).reset_index()\n",
      "/home/sedirmohammed/dev/DataQuality_4AI/dataqualiy_4ai/classification/preprocessing.py:194: FutureWarning: ['polluter_config'] did not aggregate successfully. If any error is raised this will raise in a future version of pandas. Drop these columns/ops to avoid this warning.\n",
      "  grouped_df = df.drop(columns=['seed']).groupby(by, as_index=False).agg([mean, std]).reset_index()\n",
      "/home/sedirmohammed/dev/DataQuality_4AI/dataqualiy_4ai/classification/preprocessing.py:194: FutureWarning: ['polluter_config'] did not aggregate successfully. If any error is raised this will raise in a future version of pandas. Drop these columns/ops to avoid this warning.\n",
      "  grouped_df = df.drop(columns=['seed']).groupby(by, as_index=False).agg([mean, std]).reset_index()\n",
      "/home/sedirmohammed/dev/DataQuality_4AI/dataqualiy_4ai/classification/preprocessing.py:194: FutureWarning: ['polluter_config'] did not aggregate successfully. If any error is raised this will raise in a future version of pandas. Drop these columns/ops to avoid this warning.\n",
      "  grouped_df = df.drop(columns=['seed']).groupby(by, as_index=False).agg([mean, std]).reset_index()\n",
      "/home/sedirmohammed/dev/DataQuality_4AI/dataqualiy_4ai/classification/preprocessing.py:194: FutureWarning: ['polluter_config'] did not aggregate successfully. If any error is raised this will raise in a future version of pandas. Drop these columns/ops to avoid this warning.\n",
      "  grouped_df = df.drop(columns=['seed']).groupby(by, as_index=False).agg([mean, std]).reset_index()\n",
      "/home/sedirmohammed/dev/DataQuality_4AI/dataqualiy_4ai/classification/preprocessing.py:194: FutureWarning: ['polluter_config'] did not aggregate successfully. If any error is raised this will raise in a future version of pandas. Drop these columns/ops to avoid this warning.\n",
      "  grouped_df = df.drop(columns=['seed']).groupby(by, as_index=False).agg([mean, std]).reset_index()\n",
      "/home/sedirmohammed/dev/DataQuality_4AI/dataqualiy_4ai/classification/preprocessing.py:194: FutureWarning: ['polluter_config'] did not aggregate successfully. If any error is raised this will raise in a future version of pandas. Drop these columns/ops to avoid this warning.\n",
      "  grouped_df = df.drop(columns=['seed']).groupby(by, as_index=False).agg([mean, std]).reset_index()\n",
      "/home/sedirmohammed/dev/DataQuality_4AI/dataqualiy_4ai/classification/preprocessing.py:194: FutureWarning: ['polluter_config'] did not aggregate successfully. If any error is raised this will raise in a future version of pandas. Drop these columns/ops to avoid this warning.\n",
      "  grouped_df = df.drop(columns=['seed']).groupby(by, as_index=False).agg([mean, std]).reset_index()\n",
      "/home/sedirmohammed/dev/DataQuality_4AI/dataqualiy_4ai/classification/preprocessing.py:194: FutureWarning: ['polluter_config'] did not aggregate successfully. If any error is raised this will raise in a future version of pandas. Drop these columns/ops to avoid this warning.\n",
      "  grouped_df = df.drop(columns=['seed']).groupby(by, as_index=False).agg([mean, std]).reset_index()\n",
      "/home/sedirmohammed/dev/DataQuality_4AI/dataqualiy_4ai/classification/preprocessing.py:194: FutureWarning: ['polluter_config'] did not aggregate successfully. If any error is raised this will raise in a future version of pandas. Drop these columns/ops to avoid this warning.\n",
      "  grouped_df = df.drop(columns=['seed']).groupby(by, as_index=False).agg([mean, std]).reset_index()\n",
      "/home/sedirmohammed/dev/DataQuality_4AI/dataqualiy_4ai/classification/preprocessing.py:194: FutureWarning: ['polluter_config'] did not aggregate successfully. If any error is raised this will raise in a future version of pandas. Drop these columns/ops to avoid this warning.\n",
      "  grouped_df = df.drop(columns=['seed']).groupby(by, as_index=False).agg([mean, std]).reset_index()\n",
      "/home/sedirmohammed/dev/DataQuality_4AI/dataqualiy_4ai/classification/preprocessing.py:194: FutureWarning: ['polluter_config'] did not aggregate successfully. If any error is raised this will raise in a future version of pandas. Drop these columns/ops to avoid this warning.\n",
      "  grouped_df = df.drop(columns=['seed']).groupby(by, as_index=False).agg([mean, std]).reset_index()\n",
      "/home/sedirmohammed/dev/DataQuality_4AI/dataqualiy_4ai/classification/preprocessing.py:194: FutureWarning: ['polluter_config'] did not aggregate successfully. If any error is raised this will raise in a future version of pandas. Drop these columns/ops to avoid this warning.\n",
      "  grouped_df = df.drop(columns=['seed']).groupby(by, as_index=False).agg([mean, std]).reset_index()\n",
      "/home/sedirmohammed/dev/DataQuality_4AI/dataqualiy_4ai/classification/preprocessing.py:194: FutureWarning: ['polluter_config'] did not aggregate successfully. If any error is raised this will raise in a future version of pandas. Drop these columns/ops to avoid this warning.\n",
      "  grouped_df = df.drop(columns=['seed']).groupby(by, as_index=False).agg([mean, std]).reset_index()\n",
      "/home/sedirmohammed/dev/DataQuality_4AI/dataqualiy_4ai/classification/preprocessing.py:194: FutureWarning: ['polluter_config'] did not aggregate successfully. If any error is raised this will raise in a future version of pandas. Drop these columns/ops to avoid this warning.\n",
      "  grouped_df = df.drop(columns=['seed']).groupby(by, as_index=False).agg([mean, std]).reset_index()\n",
      "/home/sedirmohammed/dev/DataQuality_4AI/dataqualiy_4ai/classification/preprocessing.py:194: FutureWarning: ['polluter_config'] did not aggregate successfully. If any error is raised this will raise in a future version of pandas. Drop these columns/ops to avoid this warning.\n",
      "  grouped_df = df.drop(columns=['seed']).groupby(by, as_index=False).agg([mean, std]).reset_index()\n",
      "/home/sedirmohammed/dev/DataQuality_4AI/dataqualiy_4ai/classification/preprocessing.py:194: FutureWarning: ['polluter_config'] did not aggregate successfully. If any error is raised this will raise in a future version of pandas. Drop these columns/ops to avoid this warning.\n",
      "  grouped_df = df.drop(columns=['seed']).groupby(by, as_index=False).agg([mean, std]).reset_index()\n",
      "/home/sedirmohammed/dev/DataQuality_4AI/dataqualiy_4ai/classification/preprocessing.py:194: FutureWarning: ['polluter_config'] did not aggregate successfully. If any error is raised this will raise in a future version of pandas. Drop these columns/ops to avoid this warning.\n",
      "  grouped_df = df.drop(columns=['seed']).groupby(by, as_index=False).agg([mean, std]).reset_index()\n"
     ]
    },
    {
     "name": "stdout",
     "output_type": "stream",
     "text": [
      "TelcoCustomerChurn.csv ConsistentRepresentationPolluter train_polluted_test_clean\n",
      "Quality not in columns\n",
      "Index(['dataset', 'polluter', 'scenario', 'algorithm', 'pollution_level',\n",
      "       'accuracy_mean', 'accuracy_std', 'f1-score_mean', 'f1-score_std',\n",
      "       'quality_mean', 'quality_std', 'quality_train_mean',\n",
      "       'quality_train_std', 'quality_test_mean', 'quality_test_std'],\n",
      "      dtype='object')\n"
     ]
    },
    {
     "name": "stderr",
     "output_type": "stream",
     "text": [
      "/home/sedirmohammed/dev/DataQuality_4AI/dataqualiy_4ai/classification/preprocessing.py:194: FutureWarning: ['polluter_config'] did not aggregate successfully. If any error is raised this will raise in a future version of pandas. Drop these columns/ops to avoid this warning.\n",
      "  grouped_df = df.drop(columns=['seed']).groupby(by, as_index=False).agg([mean, std]).reset_index()\n"
     ]
    },
    {
     "name": "stdout",
     "output_type": "stream",
     "text": [
      "TelcoCustomerChurn.csv ConsistentRepresentationPolluter train_clean_test_polluted\n",
      "Quality not in columns\n",
      "Index(['dataset', 'polluter', 'scenario', 'algorithm', 'pollution_level',\n",
      "       'accuracy_mean', 'accuracy_std', 'f1-score_mean', 'f1-score_std',\n",
      "       'quality_mean', 'quality_std', 'quality_train_mean',\n",
      "       'quality_train_std', 'quality_test_mean', 'quality_test_std'],\n",
      "      dtype='object')\n"
     ]
    },
    {
     "name": "stderr",
     "output_type": "stream",
     "text": [
      "/home/sedirmohammed/dev/DataQuality_4AI/dataqualiy_4ai/classification/preprocessing.py:194: FutureWarning: ['polluter_config'] did not aggregate successfully. If any error is raised this will raise in a future version of pandas. Drop these columns/ops to avoid this warning.\n",
      "  grouped_df = df.drop(columns=['seed']).groupby(by, as_index=False).agg([mean, std]).reset_index()\n"
     ]
    },
    {
     "name": "stdout",
     "output_type": "stream",
     "text": [
      "TelcoCustomerChurn.csv ConsistentRepresentationPolluter train_polluted_test_polluted\n",
      "Quality not in columns\n",
      "Index(['dataset', 'polluter', 'scenario', 'algorithm', 'pollution_level',\n",
      "       'accuracy_mean', 'accuracy_std', 'f1-score_mean', 'f1-score_std',\n",
      "       'quality_mean', 'quality_std', 'quality_train_mean',\n",
      "       'quality_train_std', 'quality_test_mean', 'quality_test_std'],\n",
      "      dtype='object')\n"
     ]
    },
    {
     "name": "stderr",
     "output_type": "stream",
     "text": [
      "/home/sedirmohammed/dev/DataQuality_4AI/dataqualiy_4ai/classification/preprocessing.py:194: FutureWarning: ['polluter_config'] did not aggregate successfully. If any error is raised this will raise in a future version of pandas. Drop these columns/ops to avoid this warning.\n",
      "  grouped_df = df.drop(columns=['seed']).groupby(by, as_index=False).agg([mean, std]).reset_index()\n"
     ]
    },
    {
     "name": "stdout",
     "output_type": "stream",
     "text": [
      "TelcoCustomerChurn.csv ConsistentRepresentationPolluter train_polluted_test_polluted\n",
      "Quality not in columns\n",
      "Index(['dataset', 'polluter', 'scenario', 'algorithm', 'pollution_level',\n",
      "       'accuracy_mean', 'accuracy_std', 'f1-score_mean', 'f1-score_std',\n",
      "       'quality_mean', 'quality_std', 'quality_train_mean',\n",
      "       'quality_train_std', 'quality_test_mean', 'quality_test_std'],\n",
      "      dtype='object')\n"
     ]
    },
    {
     "name": "stderr",
     "output_type": "stream",
     "text": [
      "/home/sedirmohammed/dev/DataQuality_4AI/dataqualiy_4ai/classification/preprocessing.py:194: FutureWarning: ['polluter_config'] did not aggregate successfully. If any error is raised this will raise in a future version of pandas. Drop these columns/ops to avoid this warning.\n",
      "  grouped_df = df.drop(columns=['seed']).groupby(by, as_index=False).agg([mean, std]).reset_index()\n"
     ]
    },
    {
     "name": "stdout",
     "output_type": "stream",
     "text": [
      "SouthGermanCredit.csv ConsistentRepresentationPolluter train_polluted_test_clean\n",
      "Quality not in columns\n",
      "Index(['dataset', 'polluter', 'scenario', 'algorithm', 'pollution_level',\n",
      "       'accuracy_mean', 'accuracy_std', 'f1-score_mean', 'f1-score_std',\n",
      "       'quality_mean', 'quality_std', 'quality_train_mean',\n",
      "       'quality_train_std', 'quality_test_mean', 'quality_test_std'],\n",
      "      dtype='object')\n"
     ]
    },
    {
     "name": "stderr",
     "output_type": "stream",
     "text": [
      "/home/sedirmohammed/dev/DataQuality_4AI/dataqualiy_4ai/classification/preprocessing.py:194: FutureWarning: ['polluter_config'] did not aggregate successfully. If any error is raised this will raise in a future version of pandas. Drop these columns/ops to avoid this warning.\n",
      "  grouped_df = df.drop(columns=['seed']).groupby(by, as_index=False).agg([mean, std]).reset_index()\n"
     ]
    },
    {
     "name": "stdout",
     "output_type": "stream",
     "text": [
      "SouthGermanCredit.csv ConsistentRepresentationPolluter train_clean_test_polluted\n",
      "Quality not in columns\n",
      "Index(['dataset', 'polluter', 'scenario', 'algorithm', 'pollution_level',\n",
      "       'accuracy_mean', 'accuracy_std', 'f1-score_mean', 'f1-score_std',\n",
      "       'quality_mean', 'quality_std', 'quality_train_mean',\n",
      "       'quality_train_std', 'quality_test_mean', 'quality_test_std'],\n",
      "      dtype='object')\n"
     ]
    },
    {
     "name": "stderr",
     "output_type": "stream",
     "text": [
      "/home/sedirmohammed/dev/DataQuality_4AI/dataqualiy_4ai/classification/preprocessing.py:194: FutureWarning: ['polluter_config'] did not aggregate successfully. If any error is raised this will raise in a future version of pandas. Drop these columns/ops to avoid this warning.\n",
      "  grouped_df = df.drop(columns=['seed']).groupby(by, as_index=False).agg([mean, std]).reset_index()\n"
     ]
    },
    {
     "name": "stdout",
     "output_type": "stream",
     "text": [
      "SouthGermanCredit.csv ConsistentRepresentationPolluter train_polluted_test_polluted\n",
      "Quality not in columns\n",
      "Index(['dataset', 'polluter', 'scenario', 'algorithm', 'pollution_level',\n",
      "       'accuracy_mean', 'accuracy_std', 'f1-score_mean', 'f1-score_std',\n",
      "       'quality_mean', 'quality_std', 'quality_train_mean',\n",
      "       'quality_train_std', 'quality_test_mean', 'quality_test_std'],\n",
      "      dtype='object')\n"
     ]
    },
    {
     "name": "stderr",
     "output_type": "stream",
     "text": [
      "/home/sedirmohammed/dev/DataQuality_4AI/dataqualiy_4ai/classification/preprocessing.py:194: FutureWarning: ['polluter_config'] did not aggregate successfully. If any error is raised this will raise in a future version of pandas. Drop these columns/ops to avoid this warning.\n",
      "  grouped_df = df.drop(columns=['seed']).groupby(by, as_index=False).agg([mean, std]).reset_index()\n"
     ]
    },
    {
     "name": "stdout",
     "output_type": "stream",
     "text": [
      "SouthGermanCredit.csv ConsistentRepresentationPolluter train_polluted_test_polluted\n",
      "Quality not in columns\n",
      "Index(['dataset', 'polluter', 'scenario', 'algorithm', 'pollution_level',\n",
      "       'accuracy_mean', 'accuracy_std', 'f1-score_mean', 'f1-score_std',\n",
      "       'quality_mean', 'quality_std', 'quality_train_mean',\n",
      "       'quality_train_std', 'quality_test_mean', 'quality_test_std'],\n",
      "      dtype='object')\n"
     ]
    },
    {
     "name": "stderr",
     "output_type": "stream",
     "text": [
      "/home/sedirmohammed/dev/DataQuality_4AI/dataqualiy_4ai/classification/preprocessing.py:194: FutureWarning: ['polluter_config'] did not aggregate successfully. If any error is raised this will raise in a future version of pandas. Drop these columns/ops to avoid this warning.\n",
      "  grouped_df = df.drop(columns=['seed']).groupby(by, as_index=False).agg([mean, std]).reset_index()\n"
     ]
    },
    {
     "name": "stdout",
     "output_type": "stream",
     "text": [
      "cmc.data ConsistentRepresentationPolluter train_polluted_test_clean\n",
      "Quality not in columns\n",
      "Index(['dataset', 'polluter', 'scenario', 'algorithm', 'pollution_level',\n",
      "       'accuracy_mean', 'accuracy_std', 'f1-score_mean', 'f1-score_std',\n",
      "       'quality_mean', 'quality_std', 'quality_train_mean',\n",
      "       'quality_train_std', 'quality_test_mean', 'quality_test_std'],\n",
      "      dtype='object')\n"
     ]
    },
    {
     "name": "stderr",
     "output_type": "stream",
     "text": [
      "/home/sedirmohammed/dev/DataQuality_4AI/dataqualiy_4ai/classification/preprocessing.py:194: FutureWarning: ['polluter_config'] did not aggregate successfully. If any error is raised this will raise in a future version of pandas. Drop these columns/ops to avoid this warning.\n",
      "  grouped_df = df.drop(columns=['seed']).groupby(by, as_index=False).agg([mean, std]).reset_index()\n"
     ]
    },
    {
     "name": "stdout",
     "output_type": "stream",
     "text": [
      "cmc.data ConsistentRepresentationPolluter train_clean_test_polluted\n",
      "Quality not in columns\n",
      "Index(['dataset', 'polluter', 'scenario', 'algorithm', 'pollution_level',\n",
      "       'accuracy_mean', 'accuracy_std', 'f1-score_mean', 'f1-score_std',\n",
      "       'quality_mean', 'quality_std', 'quality_train_mean',\n",
      "       'quality_train_std', 'quality_test_mean', 'quality_test_std'],\n",
      "      dtype='object')\n"
     ]
    },
    {
     "name": "stderr",
     "output_type": "stream",
     "text": [
      "/home/sedirmohammed/dev/DataQuality_4AI/dataqualiy_4ai/classification/preprocessing.py:194: FutureWarning: ['polluter_config'] did not aggregate successfully. If any error is raised this will raise in a future version of pandas. Drop these columns/ops to avoid this warning.\n",
      "  grouped_df = df.drop(columns=['seed']).groupby(by, as_index=False).agg([mean, std]).reset_index()\n"
     ]
    },
    {
     "name": "stdout",
     "output_type": "stream",
     "text": [
      "cmc.data ConsistentRepresentationPolluter train_polluted_test_polluted\n",
      "Quality not in columns\n",
      "Index(['dataset', 'polluter', 'scenario', 'algorithm', 'pollution_level',\n",
      "       'accuracy_mean', 'accuracy_std', 'f1-score_mean', 'f1-score_std',\n",
      "       'quality_mean', 'quality_std', 'quality_train_mean',\n",
      "       'quality_train_std', 'quality_test_mean', 'quality_test_std'],\n",
      "      dtype='object')\n"
     ]
    },
    {
     "name": "stderr",
     "output_type": "stream",
     "text": [
      "/home/sedirmohammed/dev/DataQuality_4AI/dataqualiy_4ai/classification/preprocessing.py:194: FutureWarning: ['polluter_config'] did not aggregate successfully. If any error is raised this will raise in a future version of pandas. Drop these columns/ops to avoid this warning.\n",
      "  grouped_df = df.drop(columns=['seed']).groupby(by, as_index=False).agg([mean, std]).reset_index()\n"
     ]
    },
    {
     "name": "stdout",
     "output_type": "stream",
     "text": [
      "cmc.data ConsistentRepresentationPolluter train_polluted_test_polluted\n",
      "Quality not in columns\n",
      "Index(['dataset', 'polluter', 'scenario', 'algorithm', 'pollution_level',\n",
      "       'accuracy_mean', 'accuracy_std', 'f1-score_mean', 'f1-score_std',\n",
      "       'quality_mean', 'quality_std', 'quality_train_mean',\n",
      "       'quality_train_std', 'quality_test_mean', 'quality_test_std'],\n",
      "      dtype='object')\n"
     ]
    },
    {
     "name": "stderr",
     "output_type": "stream",
     "text": [
      "/home/sedirmohammed/dev/DataQuality_4AI/dataqualiy_4ai/classification/preprocessing.py:194: FutureWarning: ['polluter_config'] did not aggregate successfully. If any error is raised this will raise in a future version of pandas. Drop these columns/ops to avoid this warning.\n",
      "  grouped_df = df.drop(columns=['seed']).groupby(by, as_index=False).agg([mean, std]).reset_index()\n"
     ]
    },
    {
     "name": "stdout",
     "output_type": "stream",
     "text": [
      "covid_data_pre_processed.csv ConsistentRepresentationPolluter train_polluted_test_clean\n",
      "Quality not in columns\n",
      "Index(['dataset', 'polluter', 'scenario', 'algorithm', 'pollution_level',\n",
      "       'accuracy_mean', 'accuracy_std', 'f1-score_mean', 'f1-score_std',\n",
      "       'quality_mean', 'quality_std', 'quality_train_mean',\n",
      "       'quality_train_std', 'quality_test_mean', 'quality_test_std'],\n",
      "      dtype='object')\n"
     ]
    },
    {
     "name": "stderr",
     "output_type": "stream",
     "text": [
      "/home/sedirmohammed/dev/DataQuality_4AI/dataqualiy_4ai/classification/preprocessing.py:194: FutureWarning: ['polluter_config'] did not aggregate successfully. If any error is raised this will raise in a future version of pandas. Drop these columns/ops to avoid this warning.\n",
      "  grouped_df = df.drop(columns=['seed']).groupby(by, as_index=False).agg([mean, std]).reset_index()\n"
     ]
    },
    {
     "name": "stdout",
     "output_type": "stream",
     "text": [
      "covid_data_pre_processed.csv ConsistentRepresentationPolluter train_clean_test_polluted\n",
      "Quality not in columns\n",
      "Index(['dataset', 'polluter', 'scenario', 'algorithm', 'pollution_level',\n",
      "       'accuracy_mean', 'accuracy_std', 'f1-score_mean', 'f1-score_std',\n",
      "       'quality_mean', 'quality_std', 'quality_train_mean',\n",
      "       'quality_train_std', 'quality_test_mean', 'quality_test_std'],\n",
      "      dtype='object')\n"
     ]
    },
    {
     "name": "stderr",
     "output_type": "stream",
     "text": [
      "/home/sedirmohammed/dev/DataQuality_4AI/dataqualiy_4ai/classification/preprocessing.py:194: FutureWarning: ['polluter_config'] did not aggregate successfully. If any error is raised this will raise in a future version of pandas. Drop these columns/ops to avoid this warning.\n",
      "  grouped_df = df.drop(columns=['seed']).groupby(by, as_index=False).agg([mean, std]).reset_index()\n"
     ]
    },
    {
     "name": "stdout",
     "output_type": "stream",
     "text": [
      "covid_data_pre_processed.csv ConsistentRepresentationPolluter train_polluted_test_polluted\n",
      "Quality not in columns\n",
      "Index(['dataset', 'polluter', 'scenario', 'algorithm', 'pollution_level',\n",
      "       'accuracy_mean', 'accuracy_std', 'f1-score_mean', 'f1-score_std',\n",
      "       'quality_mean', 'quality_std', 'quality_train_mean',\n",
      "       'quality_train_std', 'quality_test_mean', 'quality_test_std'],\n",
      "      dtype='object')\n"
     ]
    },
    {
     "name": "stderr",
     "output_type": "stream",
     "text": [
      "/home/sedirmohammed/dev/DataQuality_4AI/dataqualiy_4ai/classification/preprocessing.py:194: FutureWarning: ['polluter_config'] did not aggregate successfully. If any error is raised this will raise in a future version of pandas. Drop these columns/ops to avoid this warning.\n",
      "  grouped_df = df.drop(columns=['seed']).groupby(by, as_index=False).agg([mean, std]).reset_index()\n"
     ]
    },
    {
     "name": "stdout",
     "output_type": "stream",
     "text": [
      "covid_data_pre_processed.csv ConsistentRepresentationPolluter train_polluted_test_polluted\n",
      "Quality not in columns\n",
      "Index(['dataset', 'polluter', 'scenario', 'algorithm', 'pollution_level',\n",
      "       'accuracy_mean', 'accuracy_std', 'f1-score_mean', 'f1-score_std',\n",
      "       'quality_mean', 'quality_std', 'quality_train_mean',\n",
      "       'quality_train_std', 'quality_test_mean', 'quality_test_std'],\n",
      "      dtype='object')\n"
     ]
    },
    {
     "name": "stderr",
     "output_type": "stream",
     "text": [
      "/home/sedirmohammed/dev/DataQuality_4AI/dataqualiy_4ai/classification/preprocessing.py:194: FutureWarning: ['polluter_config'] did not aggregate successfully. If any error is raised this will raise in a future version of pandas. Drop these columns/ops to avoid this warning.\n",
      "  grouped_df = df.drop(columns=['seed']).groupby(by, as_index=False).agg([mean, std]).reset_index()\n",
      "/home/sedirmohammed/dev/DataQuality_4AI/dataqualiy_4ai/classification/preprocessing.py:241: FutureWarning: In a future version, `df.iloc[:, i] = newvals` will attempt to set the values inplace instead of always setting a new array. To retain the old behavior, use either `df[df.columns[i]] = newvals` or, if columns are non-unique, `df.isetitem(i, newvals)`\n",
      "  return_df.loc[mask, 'binned'] = cut(return_df[mask].quality, bins=len(bins), labels=bins)\n",
      "/home/sedirmohammed/dev/DataQuality_4AI/dataqualiy_4ai/classification/preprocessing.py:260: SettingWithCopyWarning: \n",
      "A value is trying to be set on a copy of a slice from a DataFrame\n",
      "\n",
      "See the caveats in the documentation: https://pandas.pydata.org/pandas-docs/stable/user_guide/indexing.html#returning-a-view-versus-a-copy\n",
      "  return_df_rest.drop(columns='binned', inplace=True)\n"
     ]
    },
    {
     "name": "stdout",
     "output_type": "stream",
     "text": [
      "TelcoCustomerChurn.csv FeatureAccuracyPolluter train_polluted_test_clean\n"
     ]
    },
    {
     "name": "stderr",
     "output_type": "stream",
     "text": [
      "/home/sedirmohammed/dev/DataQuality_4AI/dataqualiy_4ai/classification/preprocessing.py:194: FutureWarning: ['polluter_config'] did not aggregate successfully. If any error is raised this will raise in a future version of pandas. Drop these columns/ops to avoid this warning.\n",
      "  grouped_df = df.drop(columns=['seed']).groupby(by, as_index=False).agg([mean, std]).reset_index()\n",
      "/home/sedirmohammed/dev/DataQuality_4AI/dataqualiy_4ai/classification/preprocessing.py:241: FutureWarning: In a future version, `df.iloc[:, i] = newvals` will attempt to set the values inplace instead of always setting a new array. To retain the old behavior, use either `df[df.columns[i]] = newvals` or, if columns are non-unique, `df.isetitem(i, newvals)`\n",
      "  return_df.loc[mask, 'binned'] = cut(return_df[mask].quality, bins=len(bins), labels=bins)\n",
      "/home/sedirmohammed/dev/DataQuality_4AI/dataqualiy_4ai/classification/preprocessing.py:260: SettingWithCopyWarning: \n",
      "A value is trying to be set on a copy of a slice from a DataFrame\n",
      "\n",
      "See the caveats in the documentation: https://pandas.pydata.org/pandas-docs/stable/user_guide/indexing.html#returning-a-view-versus-a-copy\n",
      "  return_df_rest.drop(columns='binned', inplace=True)\n"
     ]
    },
    {
     "name": "stdout",
     "output_type": "stream",
     "text": [
      "TelcoCustomerChurn.csv FeatureAccuracyPolluter train_clean_test_polluted\n"
     ]
    },
    {
     "name": "stderr",
     "output_type": "stream",
     "text": [
      "/home/sedirmohammed/dev/DataQuality_4AI/dataqualiy_4ai/classification/preprocessing.py:194: FutureWarning: ['polluter_config'] did not aggregate successfully. If any error is raised this will raise in a future version of pandas. Drop these columns/ops to avoid this warning.\n",
      "  grouped_df = df.drop(columns=['seed']).groupby(by, as_index=False).agg([mean, std]).reset_index()\n",
      "/home/sedirmohammed/dev/DataQuality_4AI/dataqualiy_4ai/classification/preprocessing.py:241: FutureWarning: In a future version, `df.iloc[:, i] = newvals` will attempt to set the values inplace instead of always setting a new array. To retain the old behavior, use either `df[df.columns[i]] = newvals` or, if columns are non-unique, `df.isetitem(i, newvals)`\n",
      "  return_df.loc[mask, 'binned'] = cut(return_df[mask].quality, bins=len(bins), labels=bins)\n",
      "/home/sedirmohammed/dev/DataQuality_4AI/dataqualiy_4ai/classification/preprocessing.py:260: SettingWithCopyWarning: \n",
      "A value is trying to be set on a copy of a slice from a DataFrame\n",
      "\n",
      "See the caveats in the documentation: https://pandas.pydata.org/pandas-docs/stable/user_guide/indexing.html#returning-a-view-versus-a-copy\n",
      "  return_df_rest.drop(columns='binned', inplace=True)\n"
     ]
    },
    {
     "name": "stdout",
     "output_type": "stream",
     "text": [
      "TelcoCustomerChurn.csv FeatureAccuracyPolluter train_polluted_test_polluted\n"
     ]
    },
    {
     "name": "stderr",
     "output_type": "stream",
     "text": [
      "/home/sedirmohammed/dev/DataQuality_4AI/dataqualiy_4ai/classification/preprocessing.py:194: FutureWarning: ['polluter_config'] did not aggregate successfully. If any error is raised this will raise in a future version of pandas. Drop these columns/ops to avoid this warning.\n",
      "  grouped_df = df.drop(columns=['seed']).groupby(by, as_index=False).agg([mean, std]).reset_index()\n",
      "/home/sedirmohammed/dev/DataQuality_4AI/dataqualiy_4ai/classification/preprocessing.py:241: FutureWarning: In a future version, `df.iloc[:, i] = newvals` will attempt to set the values inplace instead of always setting a new array. To retain the old behavior, use either `df[df.columns[i]] = newvals` or, if columns are non-unique, `df.isetitem(i, newvals)`\n",
      "  return_df.loc[mask, 'binned'] = cut(return_df[mask].quality, bins=len(bins), labels=bins)\n",
      "/home/sedirmohammed/dev/DataQuality_4AI/dataqualiy_4ai/classification/preprocessing.py:260: SettingWithCopyWarning: \n",
      "A value is trying to be set on a copy of a slice from a DataFrame\n",
      "\n",
      "See the caveats in the documentation: https://pandas.pydata.org/pandas-docs/stable/user_guide/indexing.html#returning-a-view-versus-a-copy\n",
      "  return_df_rest.drop(columns='binned', inplace=True)\n"
     ]
    },
    {
     "name": "stdout",
     "output_type": "stream",
     "text": [
      "TelcoCustomerChurn.csv FeatureAccuracyPolluter train_polluted_test_polluted\n"
     ]
    },
    {
     "name": "stderr",
     "output_type": "stream",
     "text": [
      "/home/sedirmohammed/dev/DataQuality_4AI/dataqualiy_4ai/classification/preprocessing.py:194: FutureWarning: ['polluter_config'] did not aggregate successfully. If any error is raised this will raise in a future version of pandas. Drop these columns/ops to avoid this warning.\n",
      "  grouped_df = df.drop(columns=['seed']).groupby(by, as_index=False).agg([mean, std]).reset_index()\n",
      "/home/sedirmohammed/dev/DataQuality_4AI/dataqualiy_4ai/classification/preprocessing.py:241: FutureWarning: In a future version, `df.iloc[:, i] = newvals` will attempt to set the values inplace instead of always setting a new array. To retain the old behavior, use either `df[df.columns[i]] = newvals` or, if columns are non-unique, `df.isetitem(i, newvals)`\n",
      "  return_df.loc[mask, 'binned'] = cut(return_df[mask].quality, bins=len(bins), labels=bins)\n",
      "/home/sedirmohammed/dev/DataQuality_4AI/dataqualiy_4ai/classification/preprocessing.py:260: SettingWithCopyWarning: \n",
      "A value is trying to be set on a copy of a slice from a DataFrame\n",
      "\n",
      "See the caveats in the documentation: https://pandas.pydata.org/pandas-docs/stable/user_guide/indexing.html#returning-a-view-versus-a-copy\n",
      "  return_df_rest.drop(columns='binned', inplace=True)\n"
     ]
    },
    {
     "name": "stdout",
     "output_type": "stream",
     "text": [
      "SouthGermanCredit.csv FeatureAccuracyPolluter train_polluted_test_clean\n"
     ]
    },
    {
     "name": "stderr",
     "output_type": "stream",
     "text": [
      "/home/sedirmohammed/dev/DataQuality_4AI/dataqualiy_4ai/classification/preprocessing.py:194: FutureWarning: ['polluter_config'] did not aggregate successfully. If any error is raised this will raise in a future version of pandas. Drop these columns/ops to avoid this warning.\n",
      "  grouped_df = df.drop(columns=['seed']).groupby(by, as_index=False).agg([mean, std]).reset_index()\n",
      "/home/sedirmohammed/dev/DataQuality_4AI/dataqualiy_4ai/classification/preprocessing.py:241: FutureWarning: In a future version, `df.iloc[:, i] = newvals` will attempt to set the values inplace instead of always setting a new array. To retain the old behavior, use either `df[df.columns[i]] = newvals` or, if columns are non-unique, `df.isetitem(i, newvals)`\n",
      "  return_df.loc[mask, 'binned'] = cut(return_df[mask].quality, bins=len(bins), labels=bins)\n",
      "/home/sedirmohammed/dev/DataQuality_4AI/dataqualiy_4ai/classification/preprocessing.py:260: SettingWithCopyWarning: \n",
      "A value is trying to be set on a copy of a slice from a DataFrame\n",
      "\n",
      "See the caveats in the documentation: https://pandas.pydata.org/pandas-docs/stable/user_guide/indexing.html#returning-a-view-versus-a-copy\n",
      "  return_df_rest.drop(columns='binned', inplace=True)\n"
     ]
    },
    {
     "name": "stdout",
     "output_type": "stream",
     "text": [
      "SouthGermanCredit.csv FeatureAccuracyPolluter train_clean_test_polluted\n"
     ]
    },
    {
     "name": "stderr",
     "output_type": "stream",
     "text": [
      "/home/sedirmohammed/dev/DataQuality_4AI/dataqualiy_4ai/classification/preprocessing.py:194: FutureWarning: ['polluter_config'] did not aggregate successfully. If any error is raised this will raise in a future version of pandas. Drop these columns/ops to avoid this warning.\n",
      "  grouped_df = df.drop(columns=['seed']).groupby(by, as_index=False).agg([mean, std]).reset_index()\n",
      "/home/sedirmohammed/dev/DataQuality_4AI/dataqualiy_4ai/classification/preprocessing.py:241: FutureWarning: In a future version, `df.iloc[:, i] = newvals` will attempt to set the values inplace instead of always setting a new array. To retain the old behavior, use either `df[df.columns[i]] = newvals` or, if columns are non-unique, `df.isetitem(i, newvals)`\n",
      "  return_df.loc[mask, 'binned'] = cut(return_df[mask].quality, bins=len(bins), labels=bins)\n",
      "/home/sedirmohammed/dev/DataQuality_4AI/dataqualiy_4ai/classification/preprocessing.py:260: SettingWithCopyWarning: \n",
      "A value is trying to be set on a copy of a slice from a DataFrame\n",
      "\n",
      "See the caveats in the documentation: https://pandas.pydata.org/pandas-docs/stable/user_guide/indexing.html#returning-a-view-versus-a-copy\n",
      "  return_df_rest.drop(columns='binned', inplace=True)\n"
     ]
    },
    {
     "name": "stdout",
     "output_type": "stream",
     "text": [
      "SouthGermanCredit.csv FeatureAccuracyPolluter train_polluted_test_polluted\n"
     ]
    },
    {
     "name": "stderr",
     "output_type": "stream",
     "text": [
      "/home/sedirmohammed/dev/DataQuality_4AI/dataqualiy_4ai/classification/preprocessing.py:194: FutureWarning: ['polluter_config'] did not aggregate successfully. If any error is raised this will raise in a future version of pandas. Drop these columns/ops to avoid this warning.\n",
      "  grouped_df = df.drop(columns=['seed']).groupby(by, as_index=False).agg([mean, std]).reset_index()\n",
      "/home/sedirmohammed/dev/DataQuality_4AI/dataqualiy_4ai/classification/preprocessing.py:241: FutureWarning: In a future version, `df.iloc[:, i] = newvals` will attempt to set the values inplace instead of always setting a new array. To retain the old behavior, use either `df[df.columns[i]] = newvals` or, if columns are non-unique, `df.isetitem(i, newvals)`\n",
      "  return_df.loc[mask, 'binned'] = cut(return_df[mask].quality, bins=len(bins), labels=bins)\n",
      "/home/sedirmohammed/dev/DataQuality_4AI/dataqualiy_4ai/classification/preprocessing.py:260: SettingWithCopyWarning: \n",
      "A value is trying to be set on a copy of a slice from a DataFrame\n",
      "\n",
      "See the caveats in the documentation: https://pandas.pydata.org/pandas-docs/stable/user_guide/indexing.html#returning-a-view-versus-a-copy\n",
      "  return_df_rest.drop(columns='binned', inplace=True)\n"
     ]
    },
    {
     "name": "stdout",
     "output_type": "stream",
     "text": [
      "SouthGermanCredit.csv FeatureAccuracyPolluter train_polluted_test_polluted\n"
     ]
    },
    {
     "name": "stderr",
     "output_type": "stream",
     "text": [
      "/home/sedirmohammed/dev/DataQuality_4AI/dataqualiy_4ai/classification/preprocessing.py:194: FutureWarning: ['polluter_config'] did not aggregate successfully. If any error is raised this will raise in a future version of pandas. Drop these columns/ops to avoid this warning.\n",
      "  grouped_df = df.drop(columns=['seed']).groupby(by, as_index=False).agg([mean, std]).reset_index()\n",
      "/home/sedirmohammed/dev/DataQuality_4AI/dataqualiy_4ai/classification/preprocessing.py:241: FutureWarning: In a future version, `df.iloc[:, i] = newvals` will attempt to set the values inplace instead of always setting a new array. To retain the old behavior, use either `df[df.columns[i]] = newvals` or, if columns are non-unique, `df.isetitem(i, newvals)`\n",
      "  return_df.loc[mask, 'binned'] = cut(return_df[mask].quality, bins=len(bins), labels=bins)\n",
      "/home/sedirmohammed/dev/DataQuality_4AI/dataqualiy_4ai/classification/preprocessing.py:260: SettingWithCopyWarning: \n",
      "A value is trying to be set on a copy of a slice from a DataFrame\n",
      "\n",
      "See the caveats in the documentation: https://pandas.pydata.org/pandas-docs/stable/user_guide/indexing.html#returning-a-view-versus-a-copy\n",
      "  return_df_rest.drop(columns='binned', inplace=True)\n"
     ]
    },
    {
     "name": "stdout",
     "output_type": "stream",
     "text": [
      "cmc.data FeatureAccuracyPolluter train_polluted_test_clean\n"
     ]
    },
    {
     "name": "stderr",
     "output_type": "stream",
     "text": [
      "/home/sedirmohammed/dev/DataQuality_4AI/dataqualiy_4ai/classification/preprocessing.py:194: FutureWarning: ['polluter_config'] did not aggregate successfully. If any error is raised this will raise in a future version of pandas. Drop these columns/ops to avoid this warning.\n",
      "  grouped_df = df.drop(columns=['seed']).groupby(by, as_index=False).agg([mean, std]).reset_index()\n",
      "/home/sedirmohammed/dev/DataQuality_4AI/dataqualiy_4ai/classification/preprocessing.py:241: FutureWarning: In a future version, `df.iloc[:, i] = newvals` will attempt to set the values inplace instead of always setting a new array. To retain the old behavior, use either `df[df.columns[i]] = newvals` or, if columns are non-unique, `df.isetitem(i, newvals)`\n",
      "  return_df.loc[mask, 'binned'] = cut(return_df[mask].quality, bins=len(bins), labels=bins)\n",
      "/home/sedirmohammed/dev/DataQuality_4AI/dataqualiy_4ai/classification/preprocessing.py:260: SettingWithCopyWarning: \n",
      "A value is trying to be set on a copy of a slice from a DataFrame\n",
      "\n",
      "See the caveats in the documentation: https://pandas.pydata.org/pandas-docs/stable/user_guide/indexing.html#returning-a-view-versus-a-copy\n",
      "  return_df_rest.drop(columns='binned', inplace=True)\n"
     ]
    },
    {
     "name": "stdout",
     "output_type": "stream",
     "text": [
      "cmc.data FeatureAccuracyPolluter train_clean_test_polluted\n"
     ]
    },
    {
     "name": "stderr",
     "output_type": "stream",
     "text": [
      "/home/sedirmohammed/dev/DataQuality_4AI/dataqualiy_4ai/classification/preprocessing.py:194: FutureWarning: ['polluter_config'] did not aggregate successfully. If any error is raised this will raise in a future version of pandas. Drop these columns/ops to avoid this warning.\n",
      "  grouped_df = df.drop(columns=['seed']).groupby(by, as_index=False).agg([mean, std]).reset_index()\n",
      "/home/sedirmohammed/dev/DataQuality_4AI/dataqualiy_4ai/classification/preprocessing.py:241: FutureWarning: In a future version, `df.iloc[:, i] = newvals` will attempt to set the values inplace instead of always setting a new array. To retain the old behavior, use either `df[df.columns[i]] = newvals` or, if columns are non-unique, `df.isetitem(i, newvals)`\n",
      "  return_df.loc[mask, 'binned'] = cut(return_df[mask].quality, bins=len(bins), labels=bins)\n",
      "/home/sedirmohammed/dev/DataQuality_4AI/dataqualiy_4ai/classification/preprocessing.py:260: SettingWithCopyWarning: \n",
      "A value is trying to be set on a copy of a slice from a DataFrame\n",
      "\n",
      "See the caveats in the documentation: https://pandas.pydata.org/pandas-docs/stable/user_guide/indexing.html#returning-a-view-versus-a-copy\n",
      "  return_df_rest.drop(columns='binned', inplace=True)\n"
     ]
    },
    {
     "name": "stdout",
     "output_type": "stream",
     "text": [
      "cmc.data FeatureAccuracyPolluter train_polluted_test_polluted\n"
     ]
    },
    {
     "name": "stderr",
     "output_type": "stream",
     "text": [
      "/home/sedirmohammed/dev/DataQuality_4AI/dataqualiy_4ai/classification/preprocessing.py:194: FutureWarning: ['polluter_config'] did not aggregate successfully. If any error is raised this will raise in a future version of pandas. Drop these columns/ops to avoid this warning.\n",
      "  grouped_df = df.drop(columns=['seed']).groupby(by, as_index=False).agg([mean, std]).reset_index()\n",
      "/home/sedirmohammed/dev/DataQuality_4AI/dataqualiy_4ai/classification/preprocessing.py:241: FutureWarning: In a future version, `df.iloc[:, i] = newvals` will attempt to set the values inplace instead of always setting a new array. To retain the old behavior, use either `df[df.columns[i]] = newvals` or, if columns are non-unique, `df.isetitem(i, newvals)`\n",
      "  return_df.loc[mask, 'binned'] = cut(return_df[mask].quality, bins=len(bins), labels=bins)\n",
      "/home/sedirmohammed/dev/DataQuality_4AI/dataqualiy_4ai/classification/preprocessing.py:260: SettingWithCopyWarning: \n",
      "A value is trying to be set on a copy of a slice from a DataFrame\n",
      "\n",
      "See the caveats in the documentation: https://pandas.pydata.org/pandas-docs/stable/user_guide/indexing.html#returning-a-view-versus-a-copy\n",
      "  return_df_rest.drop(columns='binned', inplace=True)\n"
     ]
    },
    {
     "name": "stdout",
     "output_type": "stream",
     "text": [
      "cmc.data FeatureAccuracyPolluter train_polluted_test_polluted\n"
     ]
    },
    {
     "name": "stderr",
     "output_type": "stream",
     "text": [
      "/home/sedirmohammed/dev/DataQuality_4AI/dataqualiy_4ai/classification/preprocessing.py:194: FutureWarning: ['polluter_config'] did not aggregate successfully. If any error is raised this will raise in a future version of pandas. Drop these columns/ops to avoid this warning.\n",
      "  grouped_df = df.drop(columns=['seed']).groupby(by, as_index=False).agg([mean, std]).reset_index()\n",
      "/home/sedirmohammed/dev/DataQuality_4AI/dataqualiy_4ai/classification/preprocessing.py:241: FutureWarning: In a future version, `df.iloc[:, i] = newvals` will attempt to set the values inplace instead of always setting a new array. To retain the old behavior, use either `df[df.columns[i]] = newvals` or, if columns are non-unique, `df.isetitem(i, newvals)`\n",
      "  return_df.loc[mask, 'binned'] = cut(return_df[mask].quality, bins=len(bins), labels=bins)\n",
      "/home/sedirmohammed/dev/DataQuality_4AI/dataqualiy_4ai/classification/preprocessing.py:260: SettingWithCopyWarning: \n",
      "A value is trying to be set on a copy of a slice from a DataFrame\n",
      "\n",
      "See the caveats in the documentation: https://pandas.pydata.org/pandas-docs/stable/user_guide/indexing.html#returning-a-view-versus-a-copy\n",
      "  return_df_rest.drop(columns='binned', inplace=True)\n"
     ]
    },
    {
     "name": "stdout",
     "output_type": "stream",
     "text": [
      "covid_data_pre_processed.csv FeatureAccuracyPolluter train_polluted_test_clean\n"
     ]
    },
    {
     "name": "stderr",
     "output_type": "stream",
     "text": [
      "/home/sedirmohammed/dev/DataQuality_4AI/dataqualiy_4ai/classification/preprocessing.py:194: FutureWarning: ['polluter_config'] did not aggregate successfully. If any error is raised this will raise in a future version of pandas. Drop these columns/ops to avoid this warning.\n",
      "  grouped_df = df.drop(columns=['seed']).groupby(by, as_index=False).agg([mean, std]).reset_index()\n",
      "/home/sedirmohammed/dev/DataQuality_4AI/dataqualiy_4ai/classification/preprocessing.py:241: FutureWarning: In a future version, `df.iloc[:, i] = newvals` will attempt to set the values inplace instead of always setting a new array. To retain the old behavior, use either `df[df.columns[i]] = newvals` or, if columns are non-unique, `df.isetitem(i, newvals)`\n",
      "  return_df.loc[mask, 'binned'] = cut(return_df[mask].quality, bins=len(bins), labels=bins)\n",
      "/home/sedirmohammed/dev/DataQuality_4AI/dataqualiy_4ai/classification/preprocessing.py:260: SettingWithCopyWarning: \n",
      "A value is trying to be set on a copy of a slice from a DataFrame\n",
      "\n",
      "See the caveats in the documentation: https://pandas.pydata.org/pandas-docs/stable/user_guide/indexing.html#returning-a-view-versus-a-copy\n",
      "  return_df_rest.drop(columns='binned', inplace=True)\n"
     ]
    },
    {
     "name": "stdout",
     "output_type": "stream",
     "text": [
      "covid_data_pre_processed.csv FeatureAccuracyPolluter train_clean_test_polluted\n"
     ]
    },
    {
     "name": "stderr",
     "output_type": "stream",
     "text": [
      "/home/sedirmohammed/dev/DataQuality_4AI/dataqualiy_4ai/classification/preprocessing.py:194: FutureWarning: ['polluter_config'] did not aggregate successfully. If any error is raised this will raise in a future version of pandas. Drop these columns/ops to avoid this warning.\n",
      "  grouped_df = df.drop(columns=['seed']).groupby(by, as_index=False).agg([mean, std]).reset_index()\n",
      "/home/sedirmohammed/dev/DataQuality_4AI/dataqualiy_4ai/classification/preprocessing.py:241: FutureWarning: In a future version, `df.iloc[:, i] = newvals` will attempt to set the values inplace instead of always setting a new array. To retain the old behavior, use either `df[df.columns[i]] = newvals` or, if columns are non-unique, `df.isetitem(i, newvals)`\n",
      "  return_df.loc[mask, 'binned'] = cut(return_df[mask].quality, bins=len(bins), labels=bins)\n",
      "/home/sedirmohammed/dev/DataQuality_4AI/dataqualiy_4ai/classification/preprocessing.py:260: SettingWithCopyWarning: \n",
      "A value is trying to be set on a copy of a slice from a DataFrame\n",
      "\n",
      "See the caveats in the documentation: https://pandas.pydata.org/pandas-docs/stable/user_guide/indexing.html#returning-a-view-versus-a-copy\n",
      "  return_df_rest.drop(columns='binned', inplace=True)\n"
     ]
    },
    {
     "name": "stdout",
     "output_type": "stream",
     "text": [
      "covid_data_pre_processed.csv FeatureAccuracyPolluter train_polluted_test_polluted\n"
     ]
    },
    {
     "name": "stderr",
     "output_type": "stream",
     "text": [
      "/home/sedirmohammed/dev/DataQuality_4AI/dataqualiy_4ai/classification/preprocessing.py:194: FutureWarning: ['polluter_config'] did not aggregate successfully. If any error is raised this will raise in a future version of pandas. Drop these columns/ops to avoid this warning.\n",
      "  grouped_df = df.drop(columns=['seed']).groupby(by, as_index=False).agg([mean, std]).reset_index()\n",
      "/home/sedirmohammed/dev/DataQuality_4AI/dataqualiy_4ai/classification/preprocessing.py:241: FutureWarning: In a future version, `df.iloc[:, i] = newvals` will attempt to set the values inplace instead of always setting a new array. To retain the old behavior, use either `df[df.columns[i]] = newvals` or, if columns are non-unique, `df.isetitem(i, newvals)`\n",
      "  return_df.loc[mask, 'binned'] = cut(return_df[mask].quality, bins=len(bins), labels=bins)\n",
      "/home/sedirmohammed/dev/DataQuality_4AI/dataqualiy_4ai/classification/preprocessing.py:260: SettingWithCopyWarning: \n",
      "A value is trying to be set on a copy of a slice from a DataFrame\n",
      "\n",
      "See the caveats in the documentation: https://pandas.pydata.org/pandas-docs/stable/user_guide/indexing.html#returning-a-view-versus-a-copy\n",
      "  return_df_rest.drop(columns='binned', inplace=True)\n"
     ]
    },
    {
     "name": "stdout",
     "output_type": "stream",
     "text": [
      "covid_data_pre_processed.csv FeatureAccuracyPolluter train_polluted_test_polluted\n"
     ]
    },
    {
     "name": "stderr",
     "output_type": "stream",
     "text": [
      "/home/sedirmohammed/dev/DataQuality_4AI/dataqualiy_4ai/classification/preprocessing.py:194: FutureWarning: ['polluter_config'] did not aggregate successfully. If any error is raised this will raise in a future version of pandas. Drop these columns/ops to avoid this warning.\n",
      "  grouped_df = df.drop(columns=['seed']).groupby(by, as_index=False).agg([mean, std]).reset_index()\n"
     ]
    },
    {
     "name": "stdout",
     "output_type": "stream",
     "text": [
      "TelcoCustomerChurn.csv ClassBalancePolluter train_polluted_test_clean\n"
     ]
    },
    {
     "name": "stderr",
     "output_type": "stream",
     "text": [
      "/home/sedirmohammed/dev/DataQuality_4AI/dataqualiy_4ai/classification/preprocessing.py:194: FutureWarning: ['polluter_config'] did not aggregate successfully. If any error is raised this will raise in a future version of pandas. Drop these columns/ops to avoid this warning.\n",
      "  grouped_df = df.drop(columns=['seed']).groupby(by, as_index=False).agg([mean, std]).reset_index()\n"
     ]
    },
    {
     "name": "stdout",
     "output_type": "stream",
     "text": [
      "TelcoCustomerChurn.csv ClassBalancePolluter train_clean_test_polluted\n"
     ]
    },
    {
     "name": "stderr",
     "output_type": "stream",
     "text": [
      "/home/sedirmohammed/dev/DataQuality_4AI/dataqualiy_4ai/classification/preprocessing.py:194: FutureWarning: ['polluter_config'] did not aggregate successfully. If any error is raised this will raise in a future version of pandas. Drop these columns/ops to avoid this warning.\n",
      "  grouped_df = df.drop(columns=['seed']).groupby(by, as_index=False).agg([mean, std]).reset_index()\n"
     ]
    },
    {
     "name": "stdout",
     "output_type": "stream",
     "text": [
      "TelcoCustomerChurn.csv ClassBalancePolluter train_polluted_test_polluted\n"
     ]
    },
    {
     "name": "stderr",
     "output_type": "stream",
     "text": [
      "/home/sedirmohammed/dev/DataQuality_4AI/dataqualiy_4ai/classification/preprocessing.py:194: FutureWarning: ['polluter_config'] did not aggregate successfully. If any error is raised this will raise in a future version of pandas. Drop these columns/ops to avoid this warning.\n",
      "  grouped_df = df.drop(columns=['seed']).groupby(by, as_index=False).agg([mean, std]).reset_index()\n"
     ]
    },
    {
     "name": "stdout",
     "output_type": "stream",
     "text": [
      "TelcoCustomerChurn.csv ClassBalancePolluter train_polluted_test_polluted\n"
     ]
    },
    {
     "name": "stderr",
     "output_type": "stream",
     "text": [
      "/home/sedirmohammed/dev/DataQuality_4AI/dataqualiy_4ai/classification/preprocessing.py:194: FutureWarning: ['polluter_config'] did not aggregate successfully. If any error is raised this will raise in a future version of pandas. Drop these columns/ops to avoid this warning.\n",
      "  grouped_df = df.drop(columns=['seed']).groupby(by, as_index=False).agg([mean, std]).reset_index()\n"
     ]
    },
    {
     "name": "stdout",
     "output_type": "stream",
     "text": [
      "SouthGermanCredit.csv ClassBalancePolluter train_polluted_test_clean\n"
     ]
    },
    {
     "name": "stderr",
     "output_type": "stream",
     "text": [
      "/home/sedirmohammed/dev/DataQuality_4AI/dataqualiy_4ai/classification/preprocessing.py:194: FutureWarning: ['polluter_config'] did not aggregate successfully. If any error is raised this will raise in a future version of pandas. Drop these columns/ops to avoid this warning.\n",
      "  grouped_df = df.drop(columns=['seed']).groupby(by, as_index=False).agg([mean, std]).reset_index()\n"
     ]
    },
    {
     "name": "stdout",
     "output_type": "stream",
     "text": [
      "SouthGermanCredit.csv ClassBalancePolluter train_clean_test_polluted\n"
     ]
    },
    {
     "name": "stderr",
     "output_type": "stream",
     "text": [
      "/home/sedirmohammed/dev/DataQuality_4AI/dataqualiy_4ai/classification/preprocessing.py:194: FutureWarning: ['polluter_config'] did not aggregate successfully. If any error is raised this will raise in a future version of pandas. Drop these columns/ops to avoid this warning.\n",
      "  grouped_df = df.drop(columns=['seed']).groupby(by, as_index=False).agg([mean, std]).reset_index()\n"
     ]
    },
    {
     "name": "stdout",
     "output_type": "stream",
     "text": [
      "SouthGermanCredit.csv ClassBalancePolluter train_polluted_test_polluted\n"
     ]
    },
    {
     "name": "stderr",
     "output_type": "stream",
     "text": [
      "/home/sedirmohammed/dev/DataQuality_4AI/dataqualiy_4ai/classification/preprocessing.py:194: FutureWarning: ['polluter_config'] did not aggregate successfully. If any error is raised this will raise in a future version of pandas. Drop these columns/ops to avoid this warning.\n",
      "  grouped_df = df.drop(columns=['seed']).groupby(by, as_index=False).agg([mean, std]).reset_index()\n"
     ]
    },
    {
     "name": "stdout",
     "output_type": "stream",
     "text": [
      "SouthGermanCredit.csv ClassBalancePolluter train_polluted_test_polluted\n"
     ]
    },
    {
     "name": "stderr",
     "output_type": "stream",
     "text": [
      "/home/sedirmohammed/dev/DataQuality_4AI/dataqualiy_4ai/classification/preprocessing.py:194: FutureWarning: ['polluter_config'] did not aggregate successfully. If any error is raised this will raise in a future version of pandas. Drop these columns/ops to avoid this warning.\n",
      "  grouped_df = df.drop(columns=['seed']).groupby(by, as_index=False).agg([mean, std]).reset_index()\n"
     ]
    },
    {
     "name": "stdout",
     "output_type": "stream",
     "text": [
      "cmc.data ClassBalancePolluter train_polluted_test_clean\n"
     ]
    },
    {
     "name": "stderr",
     "output_type": "stream",
     "text": [
      "/home/sedirmohammed/dev/DataQuality_4AI/dataqualiy_4ai/classification/preprocessing.py:194: FutureWarning: ['polluter_config'] did not aggregate successfully. If any error is raised this will raise in a future version of pandas. Drop these columns/ops to avoid this warning.\n",
      "  grouped_df = df.drop(columns=['seed']).groupby(by, as_index=False).agg([mean, std]).reset_index()\n"
     ]
    },
    {
     "name": "stdout",
     "output_type": "stream",
     "text": [
      "cmc.data ClassBalancePolluter train_clean_test_polluted\n"
     ]
    },
    {
     "name": "stderr",
     "output_type": "stream",
     "text": [
      "/home/sedirmohammed/dev/DataQuality_4AI/dataqualiy_4ai/classification/preprocessing.py:194: FutureWarning: ['polluter_config'] did not aggregate successfully. If any error is raised this will raise in a future version of pandas. Drop these columns/ops to avoid this warning.\n",
      "  grouped_df = df.drop(columns=['seed']).groupby(by, as_index=False).agg([mean, std]).reset_index()\n"
     ]
    },
    {
     "name": "stdout",
     "output_type": "stream",
     "text": [
      "cmc.data ClassBalancePolluter train_polluted_test_polluted\n"
     ]
    },
    {
     "name": "stderr",
     "output_type": "stream",
     "text": [
      "/home/sedirmohammed/dev/DataQuality_4AI/dataqualiy_4ai/classification/preprocessing.py:194: FutureWarning: ['polluter_config'] did not aggregate successfully. If any error is raised this will raise in a future version of pandas. Drop these columns/ops to avoid this warning.\n",
      "  grouped_df = df.drop(columns=['seed']).groupby(by, as_index=False).agg([mean, std]).reset_index()\n"
     ]
    },
    {
     "name": "stdout",
     "output_type": "stream",
     "text": [
      "cmc.data ClassBalancePolluter train_polluted_test_polluted\n"
     ]
    },
    {
     "name": "stderr",
     "output_type": "stream",
     "text": [
      "/home/sedirmohammed/dev/DataQuality_4AI/dataqualiy_4ai/classification/preprocessing.py:194: FutureWarning: ['polluter_config'] did not aggregate successfully. If any error is raised this will raise in a future version of pandas. Drop these columns/ops to avoid this warning.\n",
      "  grouped_df = df.drop(columns=['seed']).groupby(by, as_index=False).agg([mean, std]).reset_index()\n"
     ]
    },
    {
     "name": "stdout",
     "output_type": "stream",
     "text": [
      "covid_data_pre_processed.csv ClassBalancePolluter train_polluted_test_clean\n"
     ]
    },
    {
     "name": "stderr",
     "output_type": "stream",
     "text": [
      "/home/sedirmohammed/dev/DataQuality_4AI/dataqualiy_4ai/classification/preprocessing.py:194: FutureWarning: ['polluter_config'] did not aggregate successfully. If any error is raised this will raise in a future version of pandas. Drop these columns/ops to avoid this warning.\n",
      "  grouped_df = df.drop(columns=['seed']).groupby(by, as_index=False).agg([mean, std]).reset_index()\n"
     ]
    },
    {
     "name": "stdout",
     "output_type": "stream",
     "text": [
      "covid_data_pre_processed.csv ClassBalancePolluter train_clean_test_polluted\n"
     ]
    },
    {
     "name": "stderr",
     "output_type": "stream",
     "text": [
      "/home/sedirmohammed/dev/DataQuality_4AI/dataqualiy_4ai/classification/preprocessing.py:194: FutureWarning: ['polluter_config'] did not aggregate successfully. If any error is raised this will raise in a future version of pandas. Drop these columns/ops to avoid this warning.\n",
      "  grouped_df = df.drop(columns=['seed']).groupby(by, as_index=False).agg([mean, std]).reset_index()\n"
     ]
    },
    {
     "name": "stdout",
     "output_type": "stream",
     "text": [
      "covid_data_pre_processed.csv ClassBalancePolluter train_polluted_test_polluted\n"
     ]
    },
    {
     "name": "stderr",
     "output_type": "stream",
     "text": [
      "/home/sedirmohammed/dev/DataQuality_4AI/dataqualiy_4ai/classification/preprocessing.py:194: FutureWarning: ['polluter_config'] did not aggregate successfully. If any error is raised this will raise in a future version of pandas. Drop these columns/ops to avoid this warning.\n",
      "  grouped_df = df.drop(columns=['seed']).groupby(by, as_index=False).agg([mean, std]).reset_index()\n"
     ]
    },
    {
     "name": "stdout",
     "output_type": "stream",
     "text": [
      "covid_data_pre_processed.csv ClassBalancePolluter train_polluted_test_polluted\n"
     ]
    },
    {
     "name": "stderr",
     "output_type": "stream",
     "text": [
      "/home/sedirmohammed/dev/DataQuality_4AI/dataqualiy_4ai/classification/preprocessing.py:194: FutureWarning: ['polluter_config'] did not aggregate successfully. If any error is raised this will raise in a future version of pandas. Drop these columns/ops to avoid this warning.\n",
      "  grouped_df = df.drop(columns=['seed']).groupby(by, as_index=False).agg([mean, std]).reset_index()\n"
     ]
    },
    {
     "name": "stdout",
     "output_type": "stream",
     "text": [
      "TelcoCustomerChurn.csv CompletenessPolluter train_polluted_test_clean\n"
     ]
    },
    {
     "name": "stderr",
     "output_type": "stream",
     "text": [
      "/home/sedirmohammed/dev/DataQuality_4AI/dataqualiy_4ai/classification/preprocessing.py:194: FutureWarning: ['polluter_config'] did not aggregate successfully. If any error is raised this will raise in a future version of pandas. Drop these columns/ops to avoid this warning.\n",
      "  grouped_df = df.drop(columns=['seed']).groupby(by, as_index=False).agg([mean, std]).reset_index()\n"
     ]
    },
    {
     "name": "stdout",
     "output_type": "stream",
     "text": [
      "TelcoCustomerChurn.csv CompletenessPolluter train_clean_test_polluted\n"
     ]
    },
    {
     "name": "stderr",
     "output_type": "stream",
     "text": [
      "/home/sedirmohammed/dev/DataQuality_4AI/dataqualiy_4ai/classification/preprocessing.py:194: FutureWarning: ['polluter_config'] did not aggregate successfully. If any error is raised this will raise in a future version of pandas. Drop these columns/ops to avoid this warning.\n",
      "  grouped_df = df.drop(columns=['seed']).groupby(by, as_index=False).agg([mean, std]).reset_index()\n"
     ]
    },
    {
     "name": "stdout",
     "output_type": "stream",
     "text": [
      "TelcoCustomerChurn.csv CompletenessPolluter train_polluted_test_polluted\n"
     ]
    },
    {
     "name": "stderr",
     "output_type": "stream",
     "text": [
      "/home/sedirmohammed/dev/DataQuality_4AI/dataqualiy_4ai/classification/preprocessing.py:194: FutureWarning: ['polluter_config'] did not aggregate successfully. If any error is raised this will raise in a future version of pandas. Drop these columns/ops to avoid this warning.\n",
      "  grouped_df = df.drop(columns=['seed']).groupby(by, as_index=False).agg([mean, std]).reset_index()\n"
     ]
    },
    {
     "name": "stdout",
     "output_type": "stream",
     "text": [
      "TelcoCustomerChurn.csv CompletenessPolluter train_polluted_test_polluted\n"
     ]
    },
    {
     "name": "stderr",
     "output_type": "stream",
     "text": [
      "/home/sedirmohammed/dev/DataQuality_4AI/dataqualiy_4ai/classification/preprocessing.py:194: FutureWarning: ['polluter_config'] did not aggregate successfully. If any error is raised this will raise in a future version of pandas. Drop these columns/ops to avoid this warning.\n",
      "  grouped_df = df.drop(columns=['seed']).groupby(by, as_index=False).agg([mean, std]).reset_index()\n"
     ]
    },
    {
     "name": "stdout",
     "output_type": "stream",
     "text": [
      "SouthGermanCredit.csv CompletenessPolluter train_polluted_test_clean\n"
     ]
    },
    {
     "name": "stderr",
     "output_type": "stream",
     "text": [
      "/home/sedirmohammed/dev/DataQuality_4AI/dataqualiy_4ai/classification/preprocessing.py:194: FutureWarning: ['polluter_config'] did not aggregate successfully. If any error is raised this will raise in a future version of pandas. Drop these columns/ops to avoid this warning.\n",
      "  grouped_df = df.drop(columns=['seed']).groupby(by, as_index=False).agg([mean, std]).reset_index()\n"
     ]
    },
    {
     "name": "stdout",
     "output_type": "stream",
     "text": [
      "SouthGermanCredit.csv CompletenessPolluter train_clean_test_polluted\n"
     ]
    },
    {
     "name": "stderr",
     "output_type": "stream",
     "text": [
      "/home/sedirmohammed/dev/DataQuality_4AI/dataqualiy_4ai/classification/preprocessing.py:194: FutureWarning: ['polluter_config'] did not aggregate successfully. If any error is raised this will raise in a future version of pandas. Drop these columns/ops to avoid this warning.\n",
      "  grouped_df = df.drop(columns=['seed']).groupby(by, as_index=False).agg([mean, std]).reset_index()\n"
     ]
    },
    {
     "name": "stdout",
     "output_type": "stream",
     "text": [
      "SouthGermanCredit.csv CompletenessPolluter train_polluted_test_polluted\n"
     ]
    },
    {
     "name": "stderr",
     "output_type": "stream",
     "text": [
      "/home/sedirmohammed/dev/DataQuality_4AI/dataqualiy_4ai/classification/preprocessing.py:194: FutureWarning: ['polluter_config'] did not aggregate successfully. If any error is raised this will raise in a future version of pandas. Drop these columns/ops to avoid this warning.\n",
      "  grouped_df = df.drop(columns=['seed']).groupby(by, as_index=False).agg([mean, std]).reset_index()\n"
     ]
    },
    {
     "name": "stdout",
     "output_type": "stream",
     "text": [
      "SouthGermanCredit.csv CompletenessPolluter train_polluted_test_polluted\n"
     ]
    },
    {
     "name": "stderr",
     "output_type": "stream",
     "text": [
      "/home/sedirmohammed/dev/DataQuality_4AI/dataqualiy_4ai/classification/preprocessing.py:194: FutureWarning: ['polluter_config'] did not aggregate successfully. If any error is raised this will raise in a future version of pandas. Drop these columns/ops to avoid this warning.\n",
      "  grouped_df = df.drop(columns=['seed']).groupby(by, as_index=False).agg([mean, std]).reset_index()\n"
     ]
    },
    {
     "name": "stdout",
     "output_type": "stream",
     "text": [
      "cmc.data CompletenessPolluter train_polluted_test_clean\n"
     ]
    },
    {
     "name": "stderr",
     "output_type": "stream",
     "text": [
      "/home/sedirmohammed/dev/DataQuality_4AI/dataqualiy_4ai/classification/preprocessing.py:194: FutureWarning: ['polluter_config'] did not aggregate successfully. If any error is raised this will raise in a future version of pandas. Drop these columns/ops to avoid this warning.\n",
      "  grouped_df = df.drop(columns=['seed']).groupby(by, as_index=False).agg([mean, std]).reset_index()\n"
     ]
    },
    {
     "name": "stdout",
     "output_type": "stream",
     "text": [
      "cmc.data CompletenessPolluter train_clean_test_polluted\n"
     ]
    },
    {
     "name": "stderr",
     "output_type": "stream",
     "text": [
      "/home/sedirmohammed/dev/DataQuality_4AI/dataqualiy_4ai/classification/preprocessing.py:194: FutureWarning: ['polluter_config'] did not aggregate successfully. If any error is raised this will raise in a future version of pandas. Drop these columns/ops to avoid this warning.\n",
      "  grouped_df = df.drop(columns=['seed']).groupby(by, as_index=False).agg([mean, std]).reset_index()\n"
     ]
    },
    {
     "name": "stdout",
     "output_type": "stream",
     "text": [
      "cmc.data CompletenessPolluter train_polluted_test_polluted\n"
     ]
    },
    {
     "name": "stderr",
     "output_type": "stream",
     "text": [
      "/home/sedirmohammed/dev/DataQuality_4AI/dataqualiy_4ai/classification/preprocessing.py:194: FutureWarning: ['polluter_config'] did not aggregate successfully. If any error is raised this will raise in a future version of pandas. Drop these columns/ops to avoid this warning.\n",
      "  grouped_df = df.drop(columns=['seed']).groupby(by, as_index=False).agg([mean, std]).reset_index()\n"
     ]
    },
    {
     "name": "stdout",
     "output_type": "stream",
     "text": [
      "cmc.data CompletenessPolluter train_polluted_test_polluted\n"
     ]
    },
    {
     "name": "stderr",
     "output_type": "stream",
     "text": [
      "/home/sedirmohammed/dev/DataQuality_4AI/dataqualiy_4ai/classification/preprocessing.py:194: FutureWarning: ['polluter_config'] did not aggregate successfully. If any error is raised this will raise in a future version of pandas. Drop these columns/ops to avoid this warning.\n",
      "  grouped_df = df.drop(columns=['seed']).groupby(by, as_index=False).agg([mean, std]).reset_index()\n"
     ]
    },
    {
     "name": "stdout",
     "output_type": "stream",
     "text": [
      "covid_data_pre_processed.csv CompletenessPolluter train_polluted_test_clean\n"
     ]
    },
    {
     "name": "stderr",
     "output_type": "stream",
     "text": [
      "/home/sedirmohammed/dev/DataQuality_4AI/dataqualiy_4ai/classification/preprocessing.py:194: FutureWarning: ['polluter_config'] did not aggregate successfully. If any error is raised this will raise in a future version of pandas. Drop these columns/ops to avoid this warning.\n",
      "  grouped_df = df.drop(columns=['seed']).groupby(by, as_index=False).agg([mean, std]).reset_index()\n"
     ]
    },
    {
     "name": "stdout",
     "output_type": "stream",
     "text": [
      "covid_data_pre_processed.csv CompletenessPolluter train_clean_test_polluted\n"
     ]
    },
    {
     "name": "stderr",
     "output_type": "stream",
     "text": [
      "/home/sedirmohammed/dev/DataQuality_4AI/dataqualiy_4ai/classification/preprocessing.py:194: FutureWarning: ['polluter_config'] did not aggregate successfully. If any error is raised this will raise in a future version of pandas. Drop these columns/ops to avoid this warning.\n",
      "  grouped_df = df.drop(columns=['seed']).groupby(by, as_index=False).agg([mean, std]).reset_index()\n"
     ]
    },
    {
     "name": "stdout",
     "output_type": "stream",
     "text": [
      "covid_data_pre_processed.csv CompletenessPolluter train_polluted_test_polluted\n"
     ]
    },
    {
     "name": "stderr",
     "output_type": "stream",
     "text": [
      "/home/sedirmohammed/dev/DataQuality_4AI/dataqualiy_4ai/classification/preprocessing.py:194: FutureWarning: ['polluter_config'] did not aggregate successfully. If any error is raised this will raise in a future version of pandas. Drop these columns/ops to avoid this warning.\n",
      "  grouped_df = df.drop(columns=['seed']).groupby(by, as_index=False).agg([mean, std]).reset_index()\n"
     ]
    },
    {
     "name": "stdout",
     "output_type": "stream",
     "text": [
      "covid_data_pre_processed.csv CompletenessPolluter train_polluted_test_polluted\n"
     ]
    },
    {
     "name": "stderr",
     "output_type": "stream",
     "text": [
      "/home/sedirmohammed/dev/DataQuality_4AI/dataqualiy_4ai/classification/preprocessing.py:194: FutureWarning: ['polluter_config'] did not aggregate successfully. If any error is raised this will raise in a future version of pandas. Drop these columns/ops to avoid this warning.\n",
      "  grouped_df = df.drop(columns=['seed']).groupby(by, as_index=False).agg([mean, std]).reset_index()\n"
     ]
    },
    {
     "name": "stdout",
     "output_type": "stream",
     "text": [
      "TelcoCustomerChurn.csv TargetAccuracyPolluter train_polluted_test_clean\n"
     ]
    },
    {
     "name": "stderr",
     "output_type": "stream",
     "text": [
      "/home/sedirmohammed/dev/DataQuality_4AI/dataqualiy_4ai/classification/preprocessing.py:194: FutureWarning: ['polluter_config'] did not aggregate successfully. If any error is raised this will raise in a future version of pandas. Drop these columns/ops to avoid this warning.\n",
      "  grouped_df = df.drop(columns=['seed']).groupby(by, as_index=False).agg([mean, std]).reset_index()\n"
     ]
    },
    {
     "name": "stdout",
     "output_type": "stream",
     "text": [
      "TelcoCustomerChurn.csv TargetAccuracyPolluter train_clean_test_polluted\n"
     ]
    },
    {
     "name": "stderr",
     "output_type": "stream",
     "text": [
      "/home/sedirmohammed/dev/DataQuality_4AI/dataqualiy_4ai/classification/preprocessing.py:194: FutureWarning: ['polluter_config'] did not aggregate successfully. If any error is raised this will raise in a future version of pandas. Drop these columns/ops to avoid this warning.\n",
      "  grouped_df = df.drop(columns=['seed']).groupby(by, as_index=False).agg([mean, std]).reset_index()\n"
     ]
    },
    {
     "name": "stdout",
     "output_type": "stream",
     "text": [
      "TelcoCustomerChurn.csv TargetAccuracyPolluter train_polluted_test_polluted\n"
     ]
    },
    {
     "name": "stderr",
     "output_type": "stream",
     "text": [
      "/home/sedirmohammed/dev/DataQuality_4AI/dataqualiy_4ai/classification/preprocessing.py:194: FutureWarning: ['polluter_config'] did not aggregate successfully. If any error is raised this will raise in a future version of pandas. Drop these columns/ops to avoid this warning.\n",
      "  grouped_df = df.drop(columns=['seed']).groupby(by, as_index=False).agg([mean, std]).reset_index()\n"
     ]
    },
    {
     "name": "stdout",
     "output_type": "stream",
     "text": [
      "TelcoCustomerChurn.csv TargetAccuracyPolluter train_polluted_test_polluted\n"
     ]
    },
    {
     "name": "stderr",
     "output_type": "stream",
     "text": [
      "/home/sedirmohammed/dev/DataQuality_4AI/dataqualiy_4ai/classification/preprocessing.py:194: FutureWarning: ['polluter_config'] did not aggregate successfully. If any error is raised this will raise in a future version of pandas. Drop these columns/ops to avoid this warning.\n",
      "  grouped_df = df.drop(columns=['seed']).groupby(by, as_index=False).agg([mean, std]).reset_index()\n"
     ]
    },
    {
     "name": "stdout",
     "output_type": "stream",
     "text": [
      "SouthGermanCredit.csv TargetAccuracyPolluter train_polluted_test_clean\n"
     ]
    },
    {
     "name": "stderr",
     "output_type": "stream",
     "text": [
      "/home/sedirmohammed/dev/DataQuality_4AI/dataqualiy_4ai/classification/preprocessing.py:194: FutureWarning: ['polluter_config'] did not aggregate successfully. If any error is raised this will raise in a future version of pandas. Drop these columns/ops to avoid this warning.\n",
      "  grouped_df = df.drop(columns=['seed']).groupby(by, as_index=False).agg([mean, std]).reset_index()\n"
     ]
    },
    {
     "name": "stdout",
     "output_type": "stream",
     "text": [
      "SouthGermanCredit.csv TargetAccuracyPolluter train_clean_test_polluted\n"
     ]
    },
    {
     "name": "stderr",
     "output_type": "stream",
     "text": [
      "/home/sedirmohammed/dev/DataQuality_4AI/dataqualiy_4ai/classification/preprocessing.py:194: FutureWarning: ['polluter_config'] did not aggregate successfully. If any error is raised this will raise in a future version of pandas. Drop these columns/ops to avoid this warning.\n",
      "  grouped_df = df.drop(columns=['seed']).groupby(by, as_index=False).agg([mean, std]).reset_index()\n"
     ]
    },
    {
     "name": "stdout",
     "output_type": "stream",
     "text": [
      "SouthGermanCredit.csv TargetAccuracyPolluter train_polluted_test_polluted\n"
     ]
    },
    {
     "name": "stderr",
     "output_type": "stream",
     "text": [
      "/home/sedirmohammed/dev/DataQuality_4AI/dataqualiy_4ai/classification/preprocessing.py:194: FutureWarning: ['polluter_config'] did not aggregate successfully. If any error is raised this will raise in a future version of pandas. Drop these columns/ops to avoid this warning.\n",
      "  grouped_df = df.drop(columns=['seed']).groupby(by, as_index=False).agg([mean, std]).reset_index()\n"
     ]
    },
    {
     "name": "stdout",
     "output_type": "stream",
     "text": [
      "SouthGermanCredit.csv TargetAccuracyPolluter train_polluted_test_polluted\n"
     ]
    },
    {
     "name": "stderr",
     "output_type": "stream",
     "text": [
      "/home/sedirmohammed/dev/DataQuality_4AI/dataqualiy_4ai/classification/preprocessing.py:194: FutureWarning: ['polluter_config'] did not aggregate successfully. If any error is raised this will raise in a future version of pandas. Drop these columns/ops to avoid this warning.\n",
      "  grouped_df = df.drop(columns=['seed']).groupby(by, as_index=False).agg([mean, std]).reset_index()\n"
     ]
    },
    {
     "name": "stdout",
     "output_type": "stream",
     "text": [
      "cmc.data TargetAccuracyPolluter train_polluted_test_clean\n"
     ]
    },
    {
     "name": "stderr",
     "output_type": "stream",
     "text": [
      "/home/sedirmohammed/dev/DataQuality_4AI/dataqualiy_4ai/classification/preprocessing.py:194: FutureWarning: ['polluter_config'] did not aggregate successfully. If any error is raised this will raise in a future version of pandas. Drop these columns/ops to avoid this warning.\n",
      "  grouped_df = df.drop(columns=['seed']).groupby(by, as_index=False).agg([mean, std]).reset_index()\n"
     ]
    },
    {
     "name": "stdout",
     "output_type": "stream",
     "text": [
      "cmc.data TargetAccuracyPolluter train_clean_test_polluted\n"
     ]
    },
    {
     "name": "stderr",
     "output_type": "stream",
     "text": [
      "/home/sedirmohammed/dev/DataQuality_4AI/dataqualiy_4ai/classification/preprocessing.py:194: FutureWarning: ['polluter_config'] did not aggregate successfully. If any error is raised this will raise in a future version of pandas. Drop these columns/ops to avoid this warning.\n",
      "  grouped_df = df.drop(columns=['seed']).groupby(by, as_index=False).agg([mean, std]).reset_index()\n"
     ]
    },
    {
     "name": "stdout",
     "output_type": "stream",
     "text": [
      "cmc.data TargetAccuracyPolluter train_polluted_test_polluted\n"
     ]
    },
    {
     "name": "stderr",
     "output_type": "stream",
     "text": [
      "/home/sedirmohammed/dev/DataQuality_4AI/dataqualiy_4ai/classification/preprocessing.py:194: FutureWarning: ['polluter_config'] did not aggregate successfully. If any error is raised this will raise in a future version of pandas. Drop these columns/ops to avoid this warning.\n",
      "  grouped_df = df.drop(columns=['seed']).groupby(by, as_index=False).agg([mean, std]).reset_index()\n"
     ]
    },
    {
     "name": "stdout",
     "output_type": "stream",
     "text": [
      "cmc.data TargetAccuracyPolluter train_polluted_test_polluted\n"
     ]
    },
    {
     "name": "stderr",
     "output_type": "stream",
     "text": [
      "/home/sedirmohammed/dev/DataQuality_4AI/dataqualiy_4ai/classification/preprocessing.py:194: FutureWarning: ['polluter_config'] did not aggregate successfully. If any error is raised this will raise in a future version of pandas. Drop these columns/ops to avoid this warning.\n",
      "  grouped_df = df.drop(columns=['seed']).groupby(by, as_index=False).agg([mean, std]).reset_index()\n"
     ]
    },
    {
     "name": "stdout",
     "output_type": "stream",
     "text": [
      "covid_data_pre_processed.csv TargetAccuracyPolluter train_polluted_test_clean\n"
     ]
    },
    {
     "name": "stderr",
     "output_type": "stream",
     "text": [
      "/home/sedirmohammed/dev/DataQuality_4AI/dataqualiy_4ai/classification/preprocessing.py:194: FutureWarning: ['polluter_config'] did not aggregate successfully. If any error is raised this will raise in a future version of pandas. Drop these columns/ops to avoid this warning.\n",
      "  grouped_df = df.drop(columns=['seed']).groupby(by, as_index=False).agg([mean, std]).reset_index()\n"
     ]
    },
    {
     "name": "stdout",
     "output_type": "stream",
     "text": [
      "covid_data_pre_processed.csv TargetAccuracyPolluter train_clean_test_polluted\n"
     ]
    },
    {
     "name": "stderr",
     "output_type": "stream",
     "text": [
      "/home/sedirmohammed/dev/DataQuality_4AI/dataqualiy_4ai/classification/preprocessing.py:194: FutureWarning: ['polluter_config'] did not aggregate successfully. If any error is raised this will raise in a future version of pandas. Drop these columns/ops to avoid this warning.\n",
      "  grouped_df = df.drop(columns=['seed']).groupby(by, as_index=False).agg([mean, std]).reset_index()\n"
     ]
    },
    {
     "name": "stdout",
     "output_type": "stream",
     "text": [
      "covid_data_pre_processed.csv TargetAccuracyPolluter train_polluted_test_polluted\n"
     ]
    },
    {
     "name": "stderr",
     "output_type": "stream",
     "text": [
      "/home/sedirmohammed/dev/DataQuality_4AI/dataqualiy_4ai/classification/preprocessing.py:194: FutureWarning: ['polluter_config'] did not aggregate successfully. If any error is raised this will raise in a future version of pandas. Drop these columns/ops to avoid this warning.\n",
      "  grouped_df = df.drop(columns=['seed']).groupby(by, as_index=False).agg([mean, std]).reset_index()\n"
     ]
    },
    {
     "name": "stdout",
     "output_type": "stream",
     "text": [
      "covid_data_pre_processed.csv TargetAccuracyPolluter train_polluted_test_polluted\n"
     ]
    },
    {
     "name": "stderr",
     "output_type": "stream",
     "text": [
      "/home/sedirmohammed/dev/DataQuality_4AI/dataqualiy_4ai/classification/preprocessing.py:194: FutureWarning: ['polluter_config'] did not aggregate successfully. If any error is raised this will raise in a future version of pandas. Drop these columns/ops to avoid this warning.\n",
      "  grouped_df = df.drop(columns=['seed']).groupby(by, as_index=False).agg([mean, std]).reset_index()\n"
     ]
    },
    {
     "name": "stdout",
     "output_type": "stream",
     "text": [
      "TelcoCustomerChurn.csv UniquenessPolluter_normal train_polluted_test_clean\n"
     ]
    },
    {
     "name": "stderr",
     "output_type": "stream",
     "text": [
      "/home/sedirmohammed/dev/DataQuality_4AI/dataqualiy_4ai/classification/preprocessing.py:194: FutureWarning: ['polluter_config'] did not aggregate successfully. If any error is raised this will raise in a future version of pandas. Drop these columns/ops to avoid this warning.\n",
      "  grouped_df = df.drop(columns=['seed']).groupby(by, as_index=False).agg([mean, std]).reset_index()\n"
     ]
    },
    {
     "name": "stdout",
     "output_type": "stream",
     "text": [
      "TelcoCustomerChurn.csv UniquenessPolluter_normal train_clean_test_polluted\n"
     ]
    },
    {
     "name": "stderr",
     "output_type": "stream",
     "text": [
      "/home/sedirmohammed/dev/DataQuality_4AI/dataqualiy_4ai/classification/preprocessing.py:194: FutureWarning: ['polluter_config'] did not aggregate successfully. If any error is raised this will raise in a future version of pandas. Drop these columns/ops to avoid this warning.\n",
      "  grouped_df = df.drop(columns=['seed']).groupby(by, as_index=False).agg([mean, std]).reset_index()\n"
     ]
    },
    {
     "name": "stdout",
     "output_type": "stream",
     "text": [
      "TelcoCustomerChurn.csv UniquenessPolluter_normal train_polluted_test_polluted\n"
     ]
    },
    {
     "name": "stderr",
     "output_type": "stream",
     "text": [
      "/home/sedirmohammed/dev/DataQuality_4AI/dataqualiy_4ai/classification/preprocessing.py:194: FutureWarning: ['polluter_config'] did not aggregate successfully. If any error is raised this will raise in a future version of pandas. Drop these columns/ops to avoid this warning.\n",
      "  grouped_df = df.drop(columns=['seed']).groupby(by, as_index=False).agg([mean, std]).reset_index()\n"
     ]
    },
    {
     "name": "stdout",
     "output_type": "stream",
     "text": [
      "TelcoCustomerChurn.csv UniquenessPolluter_normal train_polluted_test_polluted\n"
     ]
    },
    {
     "name": "stderr",
     "output_type": "stream",
     "text": [
      "/home/sedirmohammed/dev/DataQuality_4AI/dataqualiy_4ai/classification/preprocessing.py:194: FutureWarning: ['polluter_config'] did not aggregate successfully. If any error is raised this will raise in a future version of pandas. Drop these columns/ops to avoid this warning.\n",
      "  grouped_df = df.drop(columns=['seed']).groupby(by, as_index=False).agg([mean, std]).reset_index()\n"
     ]
    },
    {
     "name": "stdout",
     "output_type": "stream",
     "text": [
      "SouthGermanCredit.csv UniquenessPolluter_normal train_polluted_test_clean\n"
     ]
    },
    {
     "name": "stderr",
     "output_type": "stream",
     "text": [
      "/home/sedirmohammed/dev/DataQuality_4AI/dataqualiy_4ai/classification/preprocessing.py:194: FutureWarning: ['polluter_config'] did not aggregate successfully. If any error is raised this will raise in a future version of pandas. Drop these columns/ops to avoid this warning.\n",
      "  grouped_df = df.drop(columns=['seed']).groupby(by, as_index=False).agg([mean, std]).reset_index()\n"
     ]
    },
    {
     "name": "stdout",
     "output_type": "stream",
     "text": [
      "SouthGermanCredit.csv UniquenessPolluter_normal train_clean_test_polluted\n"
     ]
    },
    {
     "name": "stderr",
     "output_type": "stream",
     "text": [
      "/home/sedirmohammed/dev/DataQuality_4AI/dataqualiy_4ai/classification/preprocessing.py:194: FutureWarning: ['polluter_config'] did not aggregate successfully. If any error is raised this will raise in a future version of pandas. Drop these columns/ops to avoid this warning.\n",
      "  grouped_df = df.drop(columns=['seed']).groupby(by, as_index=False).agg([mean, std]).reset_index()\n"
     ]
    },
    {
     "name": "stdout",
     "output_type": "stream",
     "text": [
      "SouthGermanCredit.csv UniquenessPolluter_normal train_polluted_test_polluted\n"
     ]
    },
    {
     "name": "stderr",
     "output_type": "stream",
     "text": [
      "/home/sedirmohammed/dev/DataQuality_4AI/dataqualiy_4ai/classification/preprocessing.py:194: FutureWarning: ['polluter_config'] did not aggregate successfully. If any error is raised this will raise in a future version of pandas. Drop these columns/ops to avoid this warning.\n",
      "  grouped_df = df.drop(columns=['seed']).groupby(by, as_index=False).agg([mean, std]).reset_index()\n"
     ]
    },
    {
     "name": "stdout",
     "output_type": "stream",
     "text": [
      "SouthGermanCredit.csv UniquenessPolluter_normal train_polluted_test_polluted\n"
     ]
    },
    {
     "name": "stderr",
     "output_type": "stream",
     "text": [
      "/home/sedirmohammed/dev/DataQuality_4AI/dataqualiy_4ai/classification/preprocessing.py:194: FutureWarning: ['polluter_config'] did not aggregate successfully. If any error is raised this will raise in a future version of pandas. Drop these columns/ops to avoid this warning.\n",
      "  grouped_df = df.drop(columns=['seed']).groupby(by, as_index=False).agg([mean, std]).reset_index()\n"
     ]
    },
    {
     "name": "stdout",
     "output_type": "stream",
     "text": [
      "cmc.data UniquenessPolluter_normal train_polluted_test_clean\n"
     ]
    },
    {
     "name": "stderr",
     "output_type": "stream",
     "text": [
      "/home/sedirmohammed/dev/DataQuality_4AI/dataqualiy_4ai/classification/preprocessing.py:194: FutureWarning: ['polluter_config'] did not aggregate successfully. If any error is raised this will raise in a future version of pandas. Drop these columns/ops to avoid this warning.\n",
      "  grouped_df = df.drop(columns=['seed']).groupby(by, as_index=False).agg([mean, std]).reset_index()\n"
     ]
    },
    {
     "name": "stdout",
     "output_type": "stream",
     "text": [
      "cmc.data UniquenessPolluter_normal train_clean_test_polluted\n"
     ]
    },
    {
     "name": "stderr",
     "output_type": "stream",
     "text": [
      "/home/sedirmohammed/dev/DataQuality_4AI/dataqualiy_4ai/classification/preprocessing.py:194: FutureWarning: ['polluter_config'] did not aggregate successfully. If any error is raised this will raise in a future version of pandas. Drop these columns/ops to avoid this warning.\n",
      "  grouped_df = df.drop(columns=['seed']).groupby(by, as_index=False).agg([mean, std]).reset_index()\n"
     ]
    },
    {
     "name": "stdout",
     "output_type": "stream",
     "text": [
      "cmc.data UniquenessPolluter_normal train_polluted_test_polluted\n"
     ]
    },
    {
     "name": "stderr",
     "output_type": "stream",
     "text": [
      "/home/sedirmohammed/dev/DataQuality_4AI/dataqualiy_4ai/classification/preprocessing.py:194: FutureWarning: ['polluter_config'] did not aggregate successfully. If any error is raised this will raise in a future version of pandas. Drop these columns/ops to avoid this warning.\n",
      "  grouped_df = df.drop(columns=['seed']).groupby(by, as_index=False).agg([mean, std]).reset_index()\n"
     ]
    },
    {
     "name": "stdout",
     "output_type": "stream",
     "text": [
      "cmc.data UniquenessPolluter_normal train_polluted_test_polluted\n"
     ]
    },
    {
     "name": "stderr",
     "output_type": "stream",
     "text": [
      "/home/sedirmohammed/dev/DataQuality_4AI/dataqualiy_4ai/classification/preprocessing.py:194: FutureWarning: ['polluter_config'] did not aggregate successfully. If any error is raised this will raise in a future version of pandas. Drop these columns/ops to avoid this warning.\n",
      "  grouped_df = df.drop(columns=['seed']).groupby(by, as_index=False).agg([mean, std]).reset_index()\n"
     ]
    },
    {
     "name": "stdout",
     "output_type": "stream",
     "text": [
      "covid_data_pre_processed.csv UniquenessPolluter_normal train_polluted_test_clean\n"
     ]
    },
    {
     "name": "stderr",
     "output_type": "stream",
     "text": [
      "/home/sedirmohammed/dev/DataQuality_4AI/dataqualiy_4ai/classification/preprocessing.py:194: FutureWarning: ['polluter_config'] did not aggregate successfully. If any error is raised this will raise in a future version of pandas. Drop these columns/ops to avoid this warning.\n",
      "  grouped_df = df.drop(columns=['seed']).groupby(by, as_index=False).agg([mean, std]).reset_index()\n"
     ]
    },
    {
     "name": "stdout",
     "output_type": "stream",
     "text": [
      "covid_data_pre_processed.csv UniquenessPolluter_normal train_clean_test_polluted\n"
     ]
    },
    {
     "name": "stderr",
     "output_type": "stream",
     "text": [
      "/home/sedirmohammed/dev/DataQuality_4AI/dataqualiy_4ai/classification/preprocessing.py:194: FutureWarning: ['polluter_config'] did not aggregate successfully. If any error is raised this will raise in a future version of pandas. Drop these columns/ops to avoid this warning.\n",
      "  grouped_df = df.drop(columns=['seed']).groupby(by, as_index=False).agg([mean, std]).reset_index()\n"
     ]
    },
    {
     "name": "stdout",
     "output_type": "stream",
     "text": [
      "covid_data_pre_processed.csv UniquenessPolluter_normal train_polluted_test_polluted\n"
     ]
    },
    {
     "name": "stderr",
     "output_type": "stream",
     "text": [
      "/home/sedirmohammed/dev/DataQuality_4AI/dataqualiy_4ai/classification/preprocessing.py:194: FutureWarning: ['polluter_config'] did not aggregate successfully. If any error is raised this will raise in a future version of pandas. Drop these columns/ops to avoid this warning.\n",
      "  grouped_df = df.drop(columns=['seed']).groupby(by, as_index=False).agg([mean, std]).reset_index()\n"
     ]
    },
    {
     "name": "stdout",
     "output_type": "stream",
     "text": [
      "covid_data_pre_processed.csv UniquenessPolluter_normal train_polluted_test_polluted\n"
     ]
    },
    {
     "name": "stderr",
     "output_type": "stream",
     "text": [
      "/home/sedirmohammed/dev/DataQuality_4AI/dataqualiy_4ai/classification/preprocessing.py:194: FutureWarning: ['polluter_config'] did not aggregate successfully. If any error is raised this will raise in a future version of pandas. Drop these columns/ops to avoid this warning.\n",
      "  grouped_df = df.drop(columns=['seed']).groupby(by, as_index=False).agg([mean, std]).reset_index()\n"
     ]
    },
    {
     "name": "stdout",
     "output_type": "stream",
     "text": [
      "TelcoCustomerChurn.csv UniquenessPolluter_uniform train_polluted_test_clean\n"
     ]
    },
    {
     "name": "stderr",
     "output_type": "stream",
     "text": [
      "/home/sedirmohammed/dev/DataQuality_4AI/dataqualiy_4ai/classification/preprocessing.py:194: FutureWarning: ['polluter_config'] did not aggregate successfully. If any error is raised this will raise in a future version of pandas. Drop these columns/ops to avoid this warning.\n",
      "  grouped_df = df.drop(columns=['seed']).groupby(by, as_index=False).agg([mean, std]).reset_index()\n"
     ]
    },
    {
     "name": "stdout",
     "output_type": "stream",
     "text": [
      "TelcoCustomerChurn.csv UniquenessPolluter_uniform train_clean_test_polluted\n"
     ]
    },
    {
     "name": "stderr",
     "output_type": "stream",
     "text": [
      "/home/sedirmohammed/dev/DataQuality_4AI/dataqualiy_4ai/classification/preprocessing.py:194: FutureWarning: ['polluter_config'] did not aggregate successfully. If any error is raised this will raise in a future version of pandas. Drop these columns/ops to avoid this warning.\n",
      "  grouped_df = df.drop(columns=['seed']).groupby(by, as_index=False).agg([mean, std]).reset_index()\n"
     ]
    },
    {
     "name": "stdout",
     "output_type": "stream",
     "text": [
      "TelcoCustomerChurn.csv UniquenessPolluter_uniform train_polluted_test_polluted\n"
     ]
    },
    {
     "name": "stderr",
     "output_type": "stream",
     "text": [
      "/home/sedirmohammed/dev/DataQuality_4AI/dataqualiy_4ai/classification/preprocessing.py:194: FutureWarning: ['polluter_config'] did not aggregate successfully. If any error is raised this will raise in a future version of pandas. Drop these columns/ops to avoid this warning.\n",
      "  grouped_df = df.drop(columns=['seed']).groupby(by, as_index=False).agg([mean, std]).reset_index()\n"
     ]
    },
    {
     "name": "stdout",
     "output_type": "stream",
     "text": [
      "TelcoCustomerChurn.csv UniquenessPolluter_uniform train_polluted_test_polluted\n"
     ]
    },
    {
     "name": "stderr",
     "output_type": "stream",
     "text": [
      "/home/sedirmohammed/dev/DataQuality_4AI/dataqualiy_4ai/classification/preprocessing.py:194: FutureWarning: ['polluter_config'] did not aggregate successfully. If any error is raised this will raise in a future version of pandas. Drop these columns/ops to avoid this warning.\n",
      "  grouped_df = df.drop(columns=['seed']).groupby(by, as_index=False).agg([mean, std]).reset_index()\n"
     ]
    },
    {
     "name": "stdout",
     "output_type": "stream",
     "text": [
      "SouthGermanCredit.csv UniquenessPolluter_uniform train_polluted_test_clean\n"
     ]
    },
    {
     "name": "stderr",
     "output_type": "stream",
     "text": [
      "/home/sedirmohammed/dev/DataQuality_4AI/dataqualiy_4ai/classification/preprocessing.py:194: FutureWarning: ['polluter_config'] did not aggregate successfully. If any error is raised this will raise in a future version of pandas. Drop these columns/ops to avoid this warning.\n",
      "  grouped_df = df.drop(columns=['seed']).groupby(by, as_index=False).agg([mean, std]).reset_index()\n"
     ]
    },
    {
     "name": "stdout",
     "output_type": "stream",
     "text": [
      "SouthGermanCredit.csv UniquenessPolluter_uniform train_clean_test_polluted\n"
     ]
    },
    {
     "name": "stderr",
     "output_type": "stream",
     "text": [
      "/home/sedirmohammed/dev/DataQuality_4AI/dataqualiy_4ai/classification/preprocessing.py:194: FutureWarning: ['polluter_config'] did not aggregate successfully. If any error is raised this will raise in a future version of pandas. Drop these columns/ops to avoid this warning.\n",
      "  grouped_df = df.drop(columns=['seed']).groupby(by, as_index=False).agg([mean, std]).reset_index()\n"
     ]
    },
    {
     "name": "stdout",
     "output_type": "stream",
     "text": [
      "SouthGermanCredit.csv UniquenessPolluter_uniform train_polluted_test_polluted\n"
     ]
    },
    {
     "name": "stderr",
     "output_type": "stream",
     "text": [
      "/home/sedirmohammed/dev/DataQuality_4AI/dataqualiy_4ai/classification/preprocessing.py:194: FutureWarning: ['polluter_config'] did not aggregate successfully. If any error is raised this will raise in a future version of pandas. Drop these columns/ops to avoid this warning.\n",
      "  grouped_df = df.drop(columns=['seed']).groupby(by, as_index=False).agg([mean, std]).reset_index()\n"
     ]
    },
    {
     "name": "stdout",
     "output_type": "stream",
     "text": [
      "SouthGermanCredit.csv UniquenessPolluter_uniform train_polluted_test_polluted\n"
     ]
    },
    {
     "name": "stderr",
     "output_type": "stream",
     "text": [
      "/home/sedirmohammed/dev/DataQuality_4AI/dataqualiy_4ai/classification/preprocessing.py:194: FutureWarning: ['polluter_config'] did not aggregate successfully. If any error is raised this will raise in a future version of pandas. Drop these columns/ops to avoid this warning.\n",
      "  grouped_df = df.drop(columns=['seed']).groupby(by, as_index=False).agg([mean, std]).reset_index()\n"
     ]
    },
    {
     "name": "stdout",
     "output_type": "stream",
     "text": [
      "cmc.data UniquenessPolluter_uniform train_polluted_test_clean\n"
     ]
    },
    {
     "name": "stderr",
     "output_type": "stream",
     "text": [
      "/home/sedirmohammed/dev/DataQuality_4AI/dataqualiy_4ai/classification/preprocessing.py:194: FutureWarning: ['polluter_config'] did not aggregate successfully. If any error is raised this will raise in a future version of pandas. Drop these columns/ops to avoid this warning.\n",
      "  grouped_df = df.drop(columns=['seed']).groupby(by, as_index=False).agg([mean, std]).reset_index()\n"
     ]
    },
    {
     "name": "stdout",
     "output_type": "stream",
     "text": [
      "cmc.data UniquenessPolluter_uniform train_clean_test_polluted\n"
     ]
    },
    {
     "name": "stderr",
     "output_type": "stream",
     "text": [
      "/home/sedirmohammed/dev/DataQuality_4AI/dataqualiy_4ai/classification/preprocessing.py:194: FutureWarning: ['polluter_config'] did not aggregate successfully. If any error is raised this will raise in a future version of pandas. Drop these columns/ops to avoid this warning.\n",
      "  grouped_df = df.drop(columns=['seed']).groupby(by, as_index=False).agg([mean, std]).reset_index()\n"
     ]
    },
    {
     "name": "stdout",
     "output_type": "stream",
     "text": [
      "cmc.data UniquenessPolluter_uniform train_polluted_test_polluted\n"
     ]
    },
    {
     "name": "stderr",
     "output_type": "stream",
     "text": [
      "/home/sedirmohammed/dev/DataQuality_4AI/dataqualiy_4ai/classification/preprocessing.py:194: FutureWarning: ['polluter_config'] did not aggregate successfully. If any error is raised this will raise in a future version of pandas. Drop these columns/ops to avoid this warning.\n",
      "  grouped_df = df.drop(columns=['seed']).groupby(by, as_index=False).agg([mean, std]).reset_index()\n"
     ]
    },
    {
     "name": "stdout",
     "output_type": "stream",
     "text": [
      "cmc.data UniquenessPolluter_uniform train_polluted_test_polluted\n"
     ]
    },
    {
     "name": "stderr",
     "output_type": "stream",
     "text": [
      "/home/sedirmohammed/dev/DataQuality_4AI/dataqualiy_4ai/classification/preprocessing.py:194: FutureWarning: ['polluter_config'] did not aggregate successfully. If any error is raised this will raise in a future version of pandas. Drop these columns/ops to avoid this warning.\n",
      "  grouped_df = df.drop(columns=['seed']).groupby(by, as_index=False).agg([mean, std]).reset_index()\n"
     ]
    },
    {
     "name": "stdout",
     "output_type": "stream",
     "text": [
      "covid_data_pre_processed.csv UniquenessPolluter_uniform train_polluted_test_clean\n"
     ]
    },
    {
     "name": "stderr",
     "output_type": "stream",
     "text": [
      "/home/sedirmohammed/dev/DataQuality_4AI/dataqualiy_4ai/classification/preprocessing.py:194: FutureWarning: ['polluter_config'] did not aggregate successfully. If any error is raised this will raise in a future version of pandas. Drop these columns/ops to avoid this warning.\n",
      "  grouped_df = df.drop(columns=['seed']).groupby(by, as_index=False).agg([mean, std]).reset_index()\n"
     ]
    },
    {
     "name": "stdout",
     "output_type": "stream",
     "text": [
      "covid_data_pre_processed.csv UniquenessPolluter_uniform train_clean_test_polluted\n"
     ]
    },
    {
     "name": "stderr",
     "output_type": "stream",
     "text": [
      "/home/sedirmohammed/dev/DataQuality_4AI/dataqualiy_4ai/classification/preprocessing.py:194: FutureWarning: ['polluter_config'] did not aggregate successfully. If any error is raised this will raise in a future version of pandas. Drop these columns/ops to avoid this warning.\n",
      "  grouped_df = df.drop(columns=['seed']).groupby(by, as_index=False).agg([mean, std]).reset_index()\n"
     ]
    },
    {
     "name": "stdout",
     "output_type": "stream",
     "text": [
      "covid_data_pre_processed.csv UniquenessPolluter_uniform train_polluted_test_polluted\n"
     ]
    },
    {
     "name": "stderr",
     "output_type": "stream",
     "text": [
      "/home/sedirmohammed/dev/DataQuality_4AI/dataqualiy_4ai/classification/preprocessing.py:194: FutureWarning: ['polluter_config'] did not aggregate successfully. If any error is raised this will raise in a future version of pandas. Drop these columns/ops to avoid this warning.\n",
      "  grouped_df = df.drop(columns=['seed']).groupby(by, as_index=False).agg([mean, std]).reset_index()\n"
     ]
    },
    {
     "name": "stdout",
     "output_type": "stream",
     "text": [
      "covid_data_pre_processed.csv UniquenessPolluter_uniform train_polluted_test_polluted\n"
     ]
    },
    {
     "data": {
      "text/plain": [
       "<Figure size 1500x1000 with 1 Axes>"
      ],
      "image/png": "[encoded data removed]"
     },
     "metadata": {},
     "output_type": "display_data"
    },
    {
     "data": {
      "text/plain": [
       "<Figure size 1500x1000 with 1 Axes>"
      ],
      "image/png": "[encoded data removed]"
     },
     "metadata": {},
     "output_type": "display_data"
    },
    {
     "data": {
      "text/plain": [
       "<Figure size 1500x1000 with 1 Axes>"
      ],
      "image/png": "[encoded data removed]"
     },
     "metadata": {},
     "output_type": "display_data"
    },
    {
     "data": {
      "text/plain": [
       "<Figure size 1500x1000 with 1 Axes>"
      ],
      "image/png": "[encoded data removed]"
     },
     "metadata": {},
     "output_type": "display_data"
    },
    {
     "data": {
      "text/plain": [
       "<Figure size 1500x1000 with 1 Axes>"
      ],
      "image/png": "[encoded data removed]"
     },
     "metadata": {},
     "output_type": "display_data"
    },
    {
     "data": {
      "text/plain": [
       "<Figure size 1500x1000 with 1 Axes>"
      ],
      "image/png": "[encoded data removed]"
     },
     "metadata": {},
     "output_type": "display_data"
    },
    {
     "data": {
      "text/plain": [
       "<Figure size 1500x1000 with 1 Axes>"
      ],
      "image/png": "[encoded data removed]"
     },
     "metadata": {},
     "output_type": "display_data"
    },
    {
     "data": {
      "text/plain": [
       "<Figure size 1500x1000 with 1 Axes>"
      ],
      "image/png": "[encoded data removed]"
     },
     "metadata": {},
     "output_type": "display_data"
    },
    {
     "data": {
      "text/plain": [
       "<Figure size 1500x1000 with 1 Axes>"
      ],
      "image/png": "[encoded data removed]"
     },
     "metadata": {},
     "output_type": "display_data"
    },
    {
     "data": {
      "text/plain": [
       "<Figure size 1500x1000 with 1 Axes>"
      ],
      "image/png": "[encoded data removed]"
     },
     "metadata": {},
     "output_type": "display_data"
    },
    {
     "data": {
      "text/plain": [
       "<Figure size 1500x1000 with 1 Axes>"
      ],
      "image/png": "[encoded data removed]"
     },
     "metadata": {},
     "output_type": "display_data"
    },
    {
     "data": {
      "text/plain": [
       "<Figure size 1500x1000 with 1 Axes>"
      ],
      "image/png": "[encoded data removed]"
     },
     "metadata": {},
     "output_type": "display_data"
    },
    {
     "data": {
      "text/plain": [
       "<Figure size 1500x1000 with 1 Axes>"
      ],
      "image/png": "[encoded data removed]"
     },
     "metadata": {},
     "output_type": "display_data"
    },
    {
     "data": {
      "text/plain": [
       "<Figure size 1500x1000 with 1 Axes>"
      ],
      "image/png": "[encoded data removed]"
     },
     "metadata": {},
     "output_type": "display_data"
    },
    {
     "data": {
      "text/plain": [
       "<Figure size 1500x1000 with 1 Axes>"
      ],
      "image/png": "[encoded data removed]"
     },
     "metadata": {},
     "output_type": "display_data"
    },
    {
     "data": {
      "text/plain": [
       "<Figure size 1500x1000 with 1 Axes>"
      ],
      "image/png": "[encoded data removed]"
     },
     "metadata": {},
     "output_type": "display_data"
    }
   ],
   "execution_count": 20
  },
  {
   "cell_type": "code",
   "source": [
    "%load_ext autoreload\n",
    "%autoreload 2"
   ],
   "metadata": {
    "collapsed": false,
    "pycharm": {
     "name": "#%%\n"
    },
    "ExecuteTime": {
     "end_time": "2024-11-07T14:48:05.451117Z",
     "start_time": "2024-11-07T14:48:04.768484Z"
    }
   },
   "outputs": [
    {
     "name": "stdout",
     "output_type": "stream",
     "text": [
      "The autoreload extension is already loaded. To reload it, use:\n",
      "  %reload_ext autoreload\n"
     ]
    }
   ],
   "execution_count": 18
  },
  {
   "metadata": {},
   "cell_type": "code",
   "outputs": [],
   "execution_count": null,
   "source": ""
  }
 ],
 "metadata": {
  "kernelspec": {
   "display_name": "Python 3 (ipykernel)",
   "language": "python",
   "name": "python3"
  },
  "language_info": {
   "codemirror_mode": {
    "name": "ipython",
    "version": 3
   },
   "file_extension": ".py",
   "mimetype": "text/x-python",
   "name": "python",
   "nbconvert_exporter": "python",
   "pygments_lexer": "ipython3",
   "version": "3.9.7"
  }
 },
 "nbformat": 4,
 "nbformat_minor": 1
}
