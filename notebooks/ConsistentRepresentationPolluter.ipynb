{
 "cells": [
  {
   "cell_type": "code",
   "execution_count": 1,
   "outputs": [],
   "source": [
    "import pandas as pd\n",
    "from polluters import ConsistentRepresentationPolluter"
   ],
   "metadata": {
    "collapsed": false,
    "pycharm": {
     "name": "#%%\n"
    }
   }
  },
  {
   "cell_type": "markdown",
   "source": [
    "# Pollution"
   ],
   "metadata": {
    "collapsed": false,
    "pycharm": {
     "name": "#%% md\n"
    }
   }
  },
  {
   "cell_type": "markdown",
   "source": [
    "## Consistent Representation on Contraceptive Method Choice dataset"
   ],
   "metadata": {
    "collapsed": false,
    "pycharm": {
     "name": "#%% md\n"
    }
   }
  },
  {
   "cell_type": "code",
   "execution_count": 2,
   "id": "9c0dfadf",
   "metadata": {
    "pycharm": {
     "name": "#%%\n"
    }
   },
   "outputs": [],
   "source": [
    "column_names = [\"Wife's age\", \"Wife's education\", \"Husband's education\", \"Number of children\", \"Wife's religion\", \"Wife's now working?\", \"Husband's occupation\", \"Standard-of-living index\", \"Media exposure\", \"Contraceptive method used\"]\n",
    "df = pd.read_csv(\"https://archive.ics.uci.edu/ml/machine-learning-databases/cmc/cmc.data\", names=column_names, header=None)\n",
    "clean_df = df.copy()"
   ]
  },
  {
   "cell_type": "code",
   "execution_count": 3,
   "id": "1e3df89a",
   "metadata": {
    "pycharm": {
     "name": "#%%\n"
    }
   },
   "outputs": [
    {
     "data": {
      "text/plain": "      Wife's age  Wife's education  Husband's education  Number of children  \\\n0             24                 2                    3                   3   \n1             45                 1                    3                  10   \n2             43                 2                    3                   7   \n3             42                 3                    2                   9   \n4             36                 3                    3                   8   \n...          ...               ...                  ...                 ...   \n1468          33                 4                    4                   2   \n1469          33                 4                    4                   3   \n1470          39                 3                    3                   8   \n1471          33                 3                    3                   4   \n1472          17                 3                    3                   1   \n\n      Wife's religion  Wife's now working?  Husband's occupation  \\\n0                   1                    1                     2   \n1                   1                    1                     3   \n2                   1                    1                     3   \n3                   1                    1                     3   \n4                   1                    1                     3   \n...               ...                  ...                   ...   \n1468                1                    0                     2   \n1469                1                    1                     1   \n1470                1                    0                     1   \n1471                1                    0                     2   \n1472                1                    1                     2   \n\n      Standard-of-living index  Media exposure  Contraceptive method used  \n0                            3               0                          1  \n1                            4               0                          1  \n2                            4               0                          1  \n3                            3               0                          1  \n4                            2               0                          1  \n...                        ...             ...                        ...  \n1468                         4               0                          3  \n1469                         4               0                          3  \n1470                         4               0                          3  \n1471                         2               0                          3  \n1472                         4               0                          3  \n\n[1473 rows x 10 columns]",
      "text/html": "<div>\n<style scoped>\n    .dataframe tbody tr th:only-of-type {\n        vertical-align: middle;\n    }\n\n    .dataframe tbody tr th {\n        vertical-align: top;\n    }\n\n    .dataframe thead th {\n        text-align: right;\n    }\n</style>\n<table border=\"1\" class=\"dataframe\">\n  <thead>\n    <tr style=\"text-align: right;\">\n      <th></th>\n      <th>Wife's age</th>\n      <th>Wife's education</th>\n      <th>Husband's education</th>\n      <th>Number of children</th>\n      <th>Wife's religion</th>\n      <th>Wife's now working?</th>\n      <th>Husband's occupation</th>\n      <th>Standard-of-living index</th>\n      <th>Media exposure</th>\n      <th>Contraceptive method used</th>\n    </tr>\n  </thead>\n  <tbody>\n    <tr>\n      <th>0</th>\n      <td>24</td>\n      <td>2</td>\n      <td>3</td>\n      <td>3</td>\n      <td>1</td>\n      <td>1</td>\n      <td>2</td>\n      <td>3</td>\n      <td>0</td>\n      <td>1</td>\n    </tr>\n    <tr>\n      <th>1</th>\n      <td>45</td>\n      <td>1</td>\n      <td>3</td>\n      <td>10</td>\n      <td>1</td>\n      <td>1</td>\n      <td>3</td>\n      <td>4</td>\n      <td>0</td>\n      <td>1</td>\n    </tr>\n    <tr>\n      <th>2</th>\n      <td>43</td>\n      <td>2</td>\n      <td>3</td>\n      <td>7</td>\n      <td>1</td>\n      <td>1</td>\n      <td>3</td>\n      <td>4</td>\n      <td>0</td>\n      <td>1</td>\n    </tr>\n    <tr>\n      <th>3</th>\n      <td>42</td>\n      <td>3</td>\n      <td>2</td>\n      <td>9</td>\n      <td>1</td>\n      <td>1</td>\n      <td>3</td>\n      <td>3</td>\n      <td>0</td>\n      <td>1</td>\n    </tr>\n    <tr>\n      <th>4</th>\n      <td>36</td>\n      <td>3</td>\n      <td>3</td>\n      <td>8</td>\n      <td>1</td>\n      <td>1</td>\n      <td>3</td>\n      <td>2</td>\n      <td>0</td>\n      <td>1</td>\n    </tr>\n    <tr>\n      <th>...</th>\n      <td>...</td>\n      <td>...</td>\n      <td>...</td>\n      <td>...</td>\n      <td>...</td>\n      <td>...</td>\n      <td>...</td>\n      <td>...</td>\n      <td>...</td>\n      <td>...</td>\n    </tr>\n    <tr>\n      <th>1468</th>\n      <td>33</td>\n      <td>4</td>\n      <td>4</td>\n      <td>2</td>\n      <td>1</td>\n      <td>0</td>\n      <td>2</td>\n      <td>4</td>\n      <td>0</td>\n      <td>3</td>\n    </tr>\n    <tr>\n      <th>1469</th>\n      <td>33</td>\n      <td>4</td>\n      <td>4</td>\n      <td>3</td>\n      <td>1</td>\n      <td>1</td>\n      <td>1</td>\n      <td>4</td>\n      <td>0</td>\n      <td>3</td>\n    </tr>\n    <tr>\n      <th>1470</th>\n      <td>39</td>\n      <td>3</td>\n      <td>3</td>\n      <td>8</td>\n      <td>1</td>\n      <td>0</td>\n      <td>1</td>\n      <td>4</td>\n      <td>0</td>\n      <td>3</td>\n    </tr>\n    <tr>\n      <th>1471</th>\n      <td>33</td>\n      <td>3</td>\n      <td>3</td>\n      <td>4</td>\n      <td>1</td>\n      <td>0</td>\n      <td>2</td>\n      <td>2</td>\n      <td>0</td>\n      <td>3</td>\n    </tr>\n    <tr>\n      <th>1472</th>\n      <td>17</td>\n      <td>3</td>\n      <td>3</td>\n      <td>1</td>\n      <td>1</td>\n      <td>1</td>\n      <td>2</td>\n      <td>4</td>\n      <td>0</td>\n      <td>3</td>\n    </tr>\n  </tbody>\n</table>\n<p>1473 rows × 10 columns</p>\n</div>"
     },
     "execution_count": 3,
     "metadata": {},
     "output_type": "execute_result"
    }
   ],
   "source": [
    "df"
   ]
  },
  {
   "cell_type": "code",
   "execution_count": 4,
   "outputs": [
    {
     "data": {
      "text/plain": "{1, 2, 3, 4}"
     },
     "execution_count": 4,
     "metadata": {},
     "output_type": "execute_result"
    }
   ],
   "source": [
    "set(clean_df[\"Husband\\'s occupation\"])"
   ],
   "metadata": {
    "collapsed": false,
    "pycharm": {
     "name": "#%%\n"
    }
   }
  },
  {
   "cell_type": "code",
   "execution_count": 5,
   "outputs": [],
   "source": [
    "clean_df['Media exposure'].replace({0: 'Good', 1: 'Not good'}, inplace=True)"
   ],
   "metadata": {
    "collapsed": false,
    "pycharm": {
     "name": "#%%\n"
    }
   }
  },
  {
   "cell_type": "code",
   "execution_count": 6,
   "outputs": [
    {
     "data": {
      "text/plain": "{'Good', 'Not good'}"
     },
     "execution_count": 6,
     "metadata": {},
     "output_type": "execute_result"
    }
   ],
   "source": [
    "set(clean_df['Media exposure'])"
   ],
   "metadata": {
    "collapsed": false,
    "pycharm": {
     "name": "#%%\n"
    }
   }
  },
  {
   "cell_type": "code",
   "execution_count": 7,
   "outputs": [
    {
     "data": {
      "text/plain": "Good        1364\nNot good     109\nName: Media exposure, dtype: int64"
     },
     "execution_count": 7,
     "metadata": {},
     "output_type": "execute_result"
    }
   ],
   "source": [
    "clean_df['Media exposure'].value_counts()"
   ],
   "metadata": {
    "collapsed": false,
    "pycharm": {
     "name": "#%%\n"
    }
   }
  },
  {
   "cell_type": "code",
   "execution_count": 8,
   "outputs": [
    {
     "data": {
      "text/plain": "3    585\n1    436\n2    425\n4     27\nName: Husband's occupation, dtype: int64"
     },
     "execution_count": 8,
     "metadata": {},
     "output_type": "execute_result"
    }
   ],
   "source": [
    "clean_df[\"Husband\\'s occupation\"].value_counts()"
   ],
   "metadata": {
    "collapsed": false,
    "pycharm": {
     "name": "#%%\n"
    }
   }
  },
  {
   "cell_type": "code",
   "execution_count": 9,
   "outputs": [
    {
     "data": {
      "text/plain": "      Husband's occupation Media exposure\n0                        2           Good\n1                        3           Good\n2                        3           Good\n3                        3           Good\n4                        3           Good\n...                    ...            ...\n1468                     2           Good\n1469                     1           Good\n1470                     1           Good\n1471                     2           Good\n1472                     2           Good\n\n[1473 rows x 2 columns]",
      "text/html": "<div>\n<style scoped>\n    .dataframe tbody tr th:only-of-type {\n        vertical-align: middle;\n    }\n\n    .dataframe tbody tr th {\n        vertical-align: top;\n    }\n\n    .dataframe thead th {\n        text-align: right;\n    }\n</style>\n<table border=\"1\" class=\"dataframe\">\n  <thead>\n    <tr style=\"text-align: right;\">\n      <th></th>\n      <th>Husband's occupation</th>\n      <th>Media exposure</th>\n    </tr>\n  </thead>\n  <tbody>\n    <tr>\n      <th>0</th>\n      <td>2</td>\n      <td>Good</td>\n    </tr>\n    <tr>\n      <th>1</th>\n      <td>3</td>\n      <td>Good</td>\n    </tr>\n    <tr>\n      <th>2</th>\n      <td>3</td>\n      <td>Good</td>\n    </tr>\n    <tr>\n      <th>3</th>\n      <td>3</td>\n      <td>Good</td>\n    </tr>\n    <tr>\n      <th>4</th>\n      <td>3</td>\n      <td>Good</td>\n    </tr>\n    <tr>\n      <th>...</th>\n      <td>...</td>\n      <td>...</td>\n    </tr>\n    <tr>\n      <th>1468</th>\n      <td>2</td>\n      <td>Good</td>\n    </tr>\n    <tr>\n      <th>1469</th>\n      <td>1</td>\n      <td>Good</td>\n    </tr>\n    <tr>\n      <th>1470</th>\n      <td>1</td>\n      <td>Good</td>\n    </tr>\n    <tr>\n      <th>1471</th>\n      <td>2</td>\n      <td>Good</td>\n    </tr>\n    <tr>\n      <th>1472</th>\n      <td>2</td>\n      <td>Good</td>\n    </tr>\n  </tbody>\n</table>\n<p>1473 rows × 2 columns</p>\n</div>"
     },
     "execution_count": 9,
     "metadata": {},
     "output_type": "execute_result"
    }
   ],
   "source": [
    "clean_df[[\"Husband\\'s occupation\", \"Media exposure\"]]"
   ],
   "metadata": {
    "collapsed": false,
    "pycharm": {
     "name": "#%%\n"
    }
   }
  },
  {
   "cell_type": "code",
   "execution_count": 19,
   "outputs": [
    {
     "data": {
      "text/plain": "(1473, 10)"
     },
     "execution_count": 19,
     "metadata": {},
     "output_type": "execute_result"
    }
   ],
   "source": [
    "df.shape"
   ],
   "metadata": {
    "collapsed": false,
    "pycharm": {
     "name": "#%%\n"
    }
   }
  },
  {
   "cell_type": "code",
   "execution_count": 20,
   "outputs": [],
   "source": [
    "polluter = ConsistentRepresentationPolluter(random_seed=43, percentage_polluted_rows=0.5, num_pollutable_columns=7,\n",
    "                                            number_of_representations={\"Husband\\'s occupation\": {1: 2, 2: 5, 3: 3, 4: 2},\n",
    "                                                                       \"Media exposure\": {'Good': 5, 'Not good': 2}})\n",
    "polluted_df, quality = polluter(clean_df)"
   ],
   "metadata": {
    "collapsed": false,
    "pycharm": {
     "name": "#%%\n"
    }
   }
  },
  {
   "cell_type": "code",
   "execution_count": 21,
   "outputs": [
    {
     "name": "stdout",
     "output_type": "stream",
     "text": [
      "0.8905483895300595\n",
      "0.8592765008243624\n"
     ]
    }
   ],
   "source": [
    "quality_overall, quality_pollutables = quality\n",
    "print(quality_overall)\n",
    "print(quality_pollutables)"
   ],
   "metadata": {
    "collapsed": false,
    "pycharm": {
     "name": "#%%\n"
    }
   }
  },
  {
   "cell_type": "code",
   "execution_count": 22,
   "outputs": [
    {
     "data": {
      "text/plain": "{\"Husband's occupation\": {1: [5, 1],\n  2: [6, 7, 8, 9, 2],\n  3: [10, 11, 3],\n  4: [12, 4]},\n 'Media exposure': {'Good': ['Good-1', 'Good-2', 'Good-3', 'Good-4', 'Good'],\n  'Not good': ['Not good-1', 'Not good']}}"
     },
     "execution_count": 22,
     "metadata": {},
     "output_type": "execute_result"
    }
   ],
   "source": [
    "polluter.new_presentations"
   ],
   "metadata": {
    "collapsed": false,
    "pycharm": {
     "name": "#%%\n"
    }
   }
  },
  {
   "cell_type": "code",
   "execution_count": 23,
   "outputs": [
    {
     "data": {
      "text/plain": "      Husband's occupation Media exposure\n0                        2           Good\n1                        3         Good-4\n2                        3           Good\n3                       11           Good\n4                        3         Good-2\n...                    ...            ...\n1468                     6           Good\n1469                     5           Good\n1470                     1         Good-2\n1471                     9           Good\n1472                     8           Good\n\n[1473 rows x 2 columns]",
      "text/html": "<div>\n<style scoped>\n    .dataframe tbody tr th:only-of-type {\n        vertical-align: middle;\n    }\n\n    .dataframe tbody tr th {\n        vertical-align: top;\n    }\n\n    .dataframe thead th {\n        text-align: right;\n    }\n</style>\n<table border=\"1\" class=\"dataframe\">\n  <thead>\n    <tr style=\"text-align: right;\">\n      <th></th>\n      <th>Husband's occupation</th>\n      <th>Media exposure</th>\n    </tr>\n  </thead>\n  <tbody>\n    <tr>\n      <th>0</th>\n      <td>2</td>\n      <td>Good</td>\n    </tr>\n    <tr>\n      <th>1</th>\n      <td>3</td>\n      <td>Good-4</td>\n    </tr>\n    <tr>\n      <th>2</th>\n      <td>3</td>\n      <td>Good</td>\n    </tr>\n    <tr>\n      <th>3</th>\n      <td>11</td>\n      <td>Good</td>\n    </tr>\n    <tr>\n      <th>4</th>\n      <td>3</td>\n      <td>Good-2</td>\n    </tr>\n    <tr>\n      <th>...</th>\n      <td>...</td>\n      <td>...</td>\n    </tr>\n    <tr>\n      <th>1468</th>\n      <td>6</td>\n      <td>Good</td>\n    </tr>\n    <tr>\n      <th>1469</th>\n      <td>5</td>\n      <td>Good</td>\n    </tr>\n    <tr>\n      <th>1470</th>\n      <td>1</td>\n      <td>Good-2</td>\n    </tr>\n    <tr>\n      <th>1471</th>\n      <td>9</td>\n      <td>Good</td>\n    </tr>\n    <tr>\n      <th>1472</th>\n      <td>8</td>\n      <td>Good</td>\n    </tr>\n  </tbody>\n</table>\n<p>1473 rows × 2 columns</p>\n</div>"
     },
     "execution_count": 23,
     "metadata": {},
     "output_type": "execute_result"
    }
   ],
   "source": [
    "polluted_df[[\"Husband\\'s occupation\", \"Media exposure\"]]"
   ],
   "metadata": {
    "collapsed": false,
    "pycharm": {
     "name": "#%%\n"
    }
   }
  },
  {
   "cell_type": "code",
   "execution_count": 24,
   "outputs": [
    {
     "data": {
      "text/plain": "      Husband's occupation  Husband's occupation\n0                        2                     2\n1                        3                     3\n2                        3                     3\n3                        3                    11\n4                        3                     3\n...                    ...                   ...\n1468                     2                     6\n1469                     1                     5\n1470                     1                     1\n1471                     2                     9\n1472                     2                     8\n\n[1473 rows x 2 columns]",
      "text/html": "<div>\n<style scoped>\n    .dataframe tbody tr th:only-of-type {\n        vertical-align: middle;\n    }\n\n    .dataframe tbody tr th {\n        vertical-align: top;\n    }\n\n    .dataframe thead th {\n        text-align: right;\n    }\n</style>\n<table border=\"1\" class=\"dataframe\">\n  <thead>\n    <tr style=\"text-align: right;\">\n      <th></th>\n      <th>Husband's occupation</th>\n      <th>Husband's occupation</th>\n    </tr>\n  </thead>\n  <tbody>\n    <tr>\n      <th>0</th>\n      <td>2</td>\n      <td>2</td>\n    </tr>\n    <tr>\n      <th>1</th>\n      <td>3</td>\n      <td>3</td>\n    </tr>\n    <tr>\n      <th>2</th>\n      <td>3</td>\n      <td>3</td>\n    </tr>\n    <tr>\n      <th>3</th>\n      <td>3</td>\n      <td>11</td>\n    </tr>\n    <tr>\n      <th>4</th>\n      <td>3</td>\n      <td>3</td>\n    </tr>\n    <tr>\n      <th>...</th>\n      <td>...</td>\n      <td>...</td>\n    </tr>\n    <tr>\n      <th>1468</th>\n      <td>2</td>\n      <td>6</td>\n    </tr>\n    <tr>\n      <th>1469</th>\n      <td>1</td>\n      <td>5</td>\n    </tr>\n    <tr>\n      <th>1470</th>\n      <td>1</td>\n      <td>1</td>\n    </tr>\n    <tr>\n      <th>1471</th>\n      <td>2</td>\n      <td>9</td>\n    </tr>\n    <tr>\n      <th>1472</th>\n      <td>2</td>\n      <td>8</td>\n    </tr>\n  </tbody>\n</table>\n<p>1473 rows × 2 columns</p>\n</div>"
     },
     "execution_count": 24,
     "metadata": {},
     "output_type": "execute_result"
    }
   ],
   "source": [
    "a = [clean_df[\"Husband\\'s occupation\"], polluted_df[\"Husband\\'s occupation\"]]\n",
    "pd.concat(a, axis=1)"
   ],
   "metadata": {
    "collapsed": false,
    "pycharm": {
     "name": "#%%\n"
    }
   }
  },
  {
   "cell_type": "code",
   "execution_count": 25,
   "outputs": [
    {
     "data": {
      "text/plain": "     Media exposure Media exposure\n0              Good           Good\n1              Good         Good-4\n2              Good           Good\n3              Good           Good\n4              Good         Good-2\n...             ...            ...\n1468           Good           Good\n1469           Good           Good\n1470           Good         Good-2\n1471           Good           Good\n1472           Good           Good\n\n[1473 rows x 2 columns]",
      "text/html": "<div>\n<style scoped>\n    .dataframe tbody tr th:only-of-type {\n        vertical-align: middle;\n    }\n\n    .dataframe tbody tr th {\n        vertical-align: top;\n    }\n\n    .dataframe thead th {\n        text-align: right;\n    }\n</style>\n<table border=\"1\" class=\"dataframe\">\n  <thead>\n    <tr style=\"text-align: right;\">\n      <th></th>\n      <th>Media exposure</th>\n      <th>Media exposure</th>\n    </tr>\n  </thead>\n  <tbody>\n    <tr>\n      <th>0</th>\n      <td>Good</td>\n      <td>Good</td>\n    </tr>\n    <tr>\n      <th>1</th>\n      <td>Good</td>\n      <td>Good-4</td>\n    </tr>\n    <tr>\n      <th>2</th>\n      <td>Good</td>\n      <td>Good</td>\n    </tr>\n    <tr>\n      <th>3</th>\n      <td>Good</td>\n      <td>Good</td>\n    </tr>\n    <tr>\n      <th>4</th>\n      <td>Good</td>\n      <td>Good-2</td>\n    </tr>\n    <tr>\n      <th>...</th>\n      <td>...</td>\n      <td>...</td>\n    </tr>\n    <tr>\n      <th>1468</th>\n      <td>Good</td>\n      <td>Good</td>\n    </tr>\n    <tr>\n      <th>1469</th>\n      <td>Good</td>\n      <td>Good</td>\n    </tr>\n    <tr>\n      <th>1470</th>\n      <td>Good</td>\n      <td>Good-2</td>\n    </tr>\n    <tr>\n      <th>1471</th>\n      <td>Good</td>\n      <td>Good</td>\n    </tr>\n    <tr>\n      <th>1472</th>\n      <td>Good</td>\n      <td>Good</td>\n    </tr>\n  </tbody>\n</table>\n<p>1473 rows × 2 columns</p>\n</div>"
     },
     "execution_count": 25,
     "metadata": {},
     "output_type": "execute_result"
    }
   ],
   "source": [
    "a = [clean_df[\"Media exposure\"], polluted_df[\"Media exposure\"]]\n",
    "pd.concat(a, axis=1)"
   ],
   "metadata": {
    "collapsed": false,
    "pycharm": {
     "name": "#%%\n"
    }
   }
  },
  {
   "cell_type": "code",
   "execution_count": 26,
   "outputs": [
    {
     "name": "stdout",
     "output_type": "stream",
     "text": [
      "{1: 209, 5: 227}\n",
      "{2: 218, 6: 46, 7: 59, 8: 49, 9: 53}\n",
      "{3: 294, 10: 143, 11: 148}\n",
      "{4: 16, 12: 11}\n",
      "{'Good': 684, 'Good-1': 157, 'Good-2': 172, 'Good-3': 171, 'Good-4': 180}\n",
      "{'Not good': 53, 'Not good-1': 56}\n"
     ]
    }
   ],
   "source": [
    "print({i: polluted_df[\"Husband\\'s occupation\"].value_counts()[i] for i in [1,5]})\n",
    "print({i: polluted_df[\"Husband\\'s occupation\"].value_counts()[i] for i in [2,6,7,8,9]})\n",
    "print({i: polluted_df[\"Husband\\'s occupation\"].value_counts()[i] for i in [3, 10, 11]})\n",
    "print({i: polluted_df[\"Husband\\'s occupation\"].value_counts()[i] for i in [4, 12]})\n",
    "print({i: polluted_df['Media exposure'].value_counts()[i] for i in ['Good', 'Good-1', 'Good-2', 'Good-3', 'Good-4']})\n",
    "print({i: polluted_df['Media exposure'].value_counts()[i] for i in ['Not good', 'Not good-1']})\n"
   ],
   "metadata": {
    "collapsed": false,
    "pycharm": {
     "name": "#%%\n"
    }
   }
  }
 ],
 "metadata": {
  "kernelspec": {
   "display_name": "Python 3 (ipykernel)",
   "language": "python",
   "name": "python3"
  },
  "language_info": {
   "codemirror_mode": {
    "name": "ipython",
    "version": 3
   },
   "file_extension": ".py",
   "mimetype": "text/x-python",
   "name": "python",
   "nbconvert_exporter": "python",
   "pygments_lexer": "ipython3",
   "version": "3.9.6"
  }
 },
 "nbformat": 4,
 "nbformat_minor": 5
}