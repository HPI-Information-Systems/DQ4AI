{
 "cells": [
  {
   "cell_type": "code",
   "execution_count": 1,
   "id": "885a3b70",
   "metadata": {
    "pycharm": {
     "name": "#%%\n"
    }
   },
   "outputs": [],
   "source": [
    "from enum import Enum\n",
    "import functools\n",
    "import os\n",
    "from typing import List\n",
    "import matplotlib.pyplot as plt\n",
    "import pandas as pd\n",
    "import numpy as np\n",
    "import sys\n",
    "module_path = os.path.abspath(os.path.join('..'))\n",
    "if module_path not in sys.path:\n",
    "    sys.path.append(module_path)\n",
    "from polluters import Polluter, MissingValuePolluter, CompletenessPolluter\n",
    "from pandas.api.types import is_numeric_dtype, is_string_dtype"
   ]
  },
  {
   "cell_type": "code",
   "execution_count": null,
   "id": "129d5027",
   "metadata": {
    "pycharm": {
     "name": "#%%\n"
    }
   },
   "outputs": [],
   "source": [
    "MISSING_OBJECT = \"empty\"\n",
    "MISSING_NUMERIC_POSITIVE = -1\n",
    "BASE_PATH = '../../data'"
   ]
  },
  {
   "cell_type": "markdown",
   "id": "48d2bf40",
   "metadata": {
    "pycharm": {
     "name": "#%% md\n"
    }
   },
   "source": [
    "# Dataset analysis and preprocessing"
   ]
  },
  {
   "cell_type": "markdown",
   "id": "a05a25a0",
   "metadata": {
    "pycharm": {
     "name": "#%% md\n"
    }
   },
   "source": [
    "## House Pricing Dataset"
   ]
  },
  {
   "cell_type": "code",
   "execution_count": null,
   "id": "fad5fbaa",
   "metadata": {
    "pycharm": {
     "name": "#%%\n"
    }
   },
   "outputs": [],
   "source": [
    "house_df = pd.read_csv(f\"{BASE_PATH}/house-prices-data/train.csv\")\n",
    "house_df.info()"
   ]
  },
  {
   "cell_type": "code",
   "execution_count": null,
   "id": "75d08e06",
   "metadata": {
    "pycharm": {
     "name": "#%%\n"
    }
   },
   "outputs": [],
   "source": [
    "# check for existing duplicates\n",
    "print(house_df.duplicated().sum())"
   ]
  },
  {
   "cell_type": "code",
   "execution_count": null,
   "id": "27083754",
   "metadata": {
    "pycharm": {
     "name": "#%%\n"
    }
   },
   "outputs": [],
   "source": [
    "# analyse: which and columns columns have how many null values?\n",
    "print(house_df.isna().sum(axis=0).sort_values(ascending=False).to_numpy().nonzero())\n",
    "print(house_df.isna().sum(axis=0).sort_values(ascending=False)[:10])\n",
    "print(house_df.isna().sum(axis=0).sort_values(ascending=False)[10:19])"
   ]
  },
  {
   "cell_type": "code",
   "execution_count": null,
   "id": "fa9684de",
   "metadata": {
    "pycharm": {
     "name": "#%%\n"
    }
   },
   "outputs": [],
   "source": [
    "# Fill all the columns where NA actually means something according to the dataset documentation\n",
    "house_df[[\"PoolQC\", \"MiscFeature\", \"Alley\", \"Fence\", \"FireplaceQu\", \"GarageCond\", \"GarageType\", \"GarageFinish\", \"GarageQual\", \"BsmtFinType2\", \"BsmtExposure\", \"BsmtQual\", \"BsmtCond\", \"BsmtFinType1\"]] \\\n",
    "= house_df[[\"PoolQC\", \"MiscFeature\", \"Alley\", \"Fence\", \"FireplaceQu\", \"GarageCond\", \"GarageType\", \"GarageFinish\", \"GarageQual\", \"BsmtFinType2\", \"BsmtExposure\", \"BsmtQual\", \"BsmtCond\", \"BsmtFinType1\"]].fillna(\"None\")\n",
    "house_df[\"GarageYrBlt\"] = house_df[\"GarageYrBlt\"].fillna(0)"
   ]
  },
  {
   "cell_type": "code",
   "execution_count": null,
   "id": "beddeeed",
   "metadata": {
    "pycharm": {
     "name": "#%%\n"
    }
   },
   "outputs": [],
   "source": [
    "# check which columns still have null values\n",
    "print(house_df.isna().sum(axis=0).sort_values(ascending=False)[:10])"
   ]
  },
  {
   "cell_type": "code",
   "execution_count": null,
   "id": "87d86127",
   "metadata": {
    "pycharm": {
     "name": "#%%\n"
    }
   },
   "outputs": [],
   "source": [
    "# check whether missing MasNvrType values are related to the area\n",
    "print(house_df.loc[house_df[\"MasVnrType\"].isna()][[\"MasVnrType\", \"MasVnrArea\"]])\n",
    "print(house_df.loc[house_df[\"MasVnrArea\"] == 0.0][[\"MasVnrType\", \"MasVnrArea\"]])"
   ]
  },
  {
   "cell_type": "code",
   "execution_count": null,
   "id": "e52c1c26",
   "metadata": {
    "pycharm": {
     "name": "#%%\n"
    }
   },
   "outputs": [],
   "source": [
    "# discard Id because it is unique per example anyway\n",
    "attr_to_discard = ['Id']\n",
    "house_df = house_df.drop(columns=attr_to_discard)\n",
    "house_df.info()"
   ]
  },
  {
   "cell_type": "code",
   "execution_count": null,
   "id": "7930c835",
   "metadata": {
    "pycharm": {
     "name": "#%%\n"
    }
   },
   "outputs": [],
   "source": [
    "# fill null (=remaining missing values) with placeholder values: -1 (for numeric) or \"empty\" (for categoric, which means type object)\n",
    "house_df[house_df.select_dtypes(\"object\").columns] = house_df.select_dtypes(\"object\").fillna(MISSING_OBJECT)\n",
    "house_df[house_df.select_dtypes(exclude=\"object\").columns] = house_df.select_dtypes(exclude=\"object\").fillna(MISSING_NUMERIC_POSITIVE)\n",
    "house_df.info()"
   ]
  },
  {
   "cell_type": "code",
   "execution_count": null,
   "id": "08c80bf6-92a4-4616-bf6f-3ccf4ac091d5",
   "metadata": {
    "pycharm": {
     "name": "#%%\n"
    }
   },
   "outputs": [],
   "source": [
    "house_df[\"SalePrice\"] = house_df[\"SalePrice\"].astype(float)\n",
    "house_df.info()"
   ]
  },
  {
   "cell_type": "code",
   "execution_count": null,
   "id": "367b3502",
   "metadata": {
    "pycharm": {
     "name": "#%%\n"
    }
   },
   "outputs": [],
   "source": [
    "house_df.to_csv(f\"{BASE_PATH}/clean/house_prices_prepared.csv\", index=False)"
   ]
  },
  {
   "cell_type": "markdown",
   "id": "f9f6eb87",
   "metadata": {
    "pycharm": {
     "name": "#%% md\n"
    }
   },
   "source": [
    "## Add house metadata"
   ]
  },
  {
   "cell_type": "code",
   "execution_count": null,
   "id": "7480876c",
   "metadata": {
    "pycharm": {
     "name": "#%%\n"
    }
   },
   "outputs": [],
   "source": [
    "# some categorical attributes are already stored as integers, but they are inherently categorical, so they have to be stored in the metadata as categorical\n",
    "house_categorical_attr = list(house_df.select_dtypes(\"object\").columns)\n",
    "house_categorical_attr += ['MSSubClass', 'OverallQual', 'OverallCond']\n",
    "print(house_categorical_attr)\n",
    "print(len(house_categorical_attr))\n",
    "\n",
    "house_numeric_attr = list(house_df.select_dtypes(np.number).columns.difference(house_categorical_attr + [\"SalePrice\"]))\n",
    "print(house_numeric_attr)\n",
    "print(len(house_numeric_attr))"
   ]
  },
  {
   "cell_type": "code",
   "execution_count": null,
   "id": "56187596",
   "metadata": {
    "pycharm": {
     "name": "#%%\n"
    }
   },
   "outputs": [],
   "source": [
    "# check whether the default placeholder values are not already present in the dataset except for the cases where we already know that a value is missing\n",
    "print((house_df[house_df.select_dtypes(\"object\").columns] == MISSING_OBJECT).sum())\n",
    "print((house_df[house_df.select_dtypes(np.number).columns] < 0).sum())"
   ]
  },
  {
   "cell_type": "code",
   "execution_count": null,
   "id": "ed5c7944",
   "metadata": {
    "pycharm": {
     "name": "#%%\n"
    }
   },
   "outputs": [],
   "source": [
    "categorical_defaults = {col: MISSING_OBJECT for col in house_categorical_attr}\n",
    "# Use -1 for categories represented as integers\n",
    "for col in ['MSSubClass', 'OverallQual', 'OverallCond']:\n",
    "    categorical_defaults[col] = MISSING_NUMERIC_POSITIVE\n",
    "print(categorical_defaults)"
   ]
  },
  {
   "cell_type": "code",
   "execution_count": null,
   "id": "c0fff3b0",
   "metadata": {
    "pycharm": {
     "name": "#%%\n"
    }
   },
   "outputs": [],
   "source": [
    "# look at histogram with discretized target attribute, as this is required for some polluters\n",
    "plt.hist(house_df[\"SalePrice\"], bins=np.arange(800000, step=100000))"
   ]
  },
  {
   "cell_type": "markdown",
   "id": "0cb8498e",
   "metadata": {
    "pycharm": {
     "name": "#%% md\n"
    }
   },
   "source": [
    "# Car dataset"
   ]
  },
  {
   "cell_type": "code",
   "execution_count": null,
   "id": "eea11205",
   "metadata": {
    "pycharm": {
     "name": "#%%\n"
    }
   },
   "outputs": [],
   "source": [
    "car_df = pd.read_csv(f'{BASE_PATH}/clean/vw.csv')\n",
    "car_df.info()\n",
    "\n",
    "# check for existing duplicates\n",
    "print(car_df.duplicated().sum())\n",
    "# no missing values or id columns, so we can use the dataset as it is"
   ]
  },
  {
   "cell_type": "code",
   "execution_count": null,
   "id": "edd08bf8-e2e9-421f-901d-5e1086f550f7",
   "metadata": {
    "pycharm": {
     "name": "#%%\n"
    }
   },
   "outputs": [],
   "source": [
    "car_df[\"price\"] = car_df[\"price\"].astype(float)\n",
    "car_df.info()"
   ]
  },
  {
   "cell_type": "code",
   "execution_count": null,
   "id": "9a806bcd-b59b-40aa-90c8-88e0254b2001",
   "metadata": {
    "pycharm": {
     "name": "#%%\n"
    }
   },
   "outputs": [],
   "source": [
    "car_df.to_csv(f\"{BASE_PATH}/clean/vw_prepared.csv\", index=False)"
   ]
  },
  {
   "cell_type": "markdown",
   "id": "15a675f4",
   "metadata": {
    "pycharm": {
     "name": "#%% md\n"
    }
   },
   "source": [
    "## Add car Metadata"
   ]
  },
  {
   "cell_type": "code",
   "execution_count": null,
   "id": "62db303d",
   "metadata": {
    "pycharm": {
     "name": "#%%\n"
    }
   },
   "outputs": [],
   "source": [
    "# check whether there are already missing values (with values that can be used as placeholder) and whether we can use -1 as placeholder for integer\n",
    "for col in car_df.columns:\n",
    "    print(car_df[col].unique())\n",
    "print((car_df[car_df.select_dtypes(np.number).columns] < 0).sum())"
   ]
  },
  {
   "cell_type": "code",
   "execution_count": null,
   "id": "0b6661e6",
   "metadata": {
    "pycharm": {
     "name": "#%%\n"
    }
   },
   "outputs": [],
   "source": [
    "# look at histogram with discretized target attribute, as this is required for some polluters\n",
    "plt.hist(car_df[\"price\"], bins=np.arange(70000, step=10000))"
   ]
  },
  {
   "cell_type": "markdown",
   "id": "56a89a9c",
   "metadata": {
    "pycharm": {
     "name": "#%% md\n"
    }
   },
   "source": [
    "# IMDB dataset"
   ]
  },
  {
   "cell_type": "code",
   "execution_count": null,
   "id": "d7114a18",
   "metadata": {
    "pycharm": {
     "name": "#%%\n"
    }
   },
   "outputs": [],
   "source": [
    "imdb_df = pd.read_csv(f'{BASE_PATH}/clean/imdb.csv')\n",
    "imdb_df.info()"
   ]
  },
  {
   "cell_type": "code",
   "execution_count": null,
   "id": "b591a71a",
   "metadata": {
    "pycharm": {
     "name": "#%%\n"
    }
   },
   "outputs": [],
   "source": [
    "# discard all samples where the target is missing, convert string columns to number\n",
    "imdb_df = imdb_df.loc[imdb_df[\"Rate\"] != \"No Rate\"]\n",
    "imdb_df[\"Rate\"] = imdb_df[\"Rate\"].astype(float)\n",
    "imdb_df[\"Votes\"] = imdb_df[\"Votes\"].str.replace(',', '').astype(int)\n",
    "imdb_df.info()\n",
    "\n",
    "# check for existing duplicates\n",
    "print(imdb_df.duplicated().sum())"
   ]
  },
  {
   "cell_type": "code",
   "execution_count": null,
   "id": "ca3a93a3",
   "metadata": {
    "pycharm": {
     "name": "#%%\n"
    }
   },
   "outputs": [],
   "source": [
    "# change duration missing value to make it usable as number\n",
    "imdb_df[\"Duration\"].loc[imdb_df[\"Duration\"] == \"None\"] = MISSING_NUMERIC_POSITIVE\n",
    "imdb_df[\"Duration\"] = imdb_df[\"Duration\"].astype(int)"
   ]
  },
  {
   "cell_type": "code",
   "execution_count": null,
   "id": "0752f256",
   "metadata": {
    "pycharm": {
     "name": "#%%\n"
    }
   },
   "outputs": [],
   "source": [
    "# check whether the episodes attribute is - only for films\n",
    "imdb_df.loc[imdb_df[\"Episodes\"] == \"-\"].loc[imdb_df[\"Type\"] != \"Film\"]"
   ]
  },
  {
   "cell_type": "code",
   "execution_count": null,
   "id": "da83a147",
   "metadata": {
    "pycharm": {
     "name": "#%%\n"
    }
   },
   "outputs": [],
   "source": [
    "# Set number of episodes for films to 0 to make it usable as number,\n",
    "# distinguish from -1 placeholder value because the - is related to the sample being a film\n",
    "imdb_df[\"Episodes\"].loc[imdb_df[\"Episodes\"] == \"-\"] = 0\n",
    "imdb_df[\"Episodes\"] = imdb_df[\"Episodes\"].astype(int)\n",
    "\n",
    "# discard name column because each (unique) sample has its own name\n",
    "imdb_df = imdb_df.drop(columns=\"Name\")\n",
    "imdb_df.info()"
   ]
  },
  {
   "cell_type": "code",
   "execution_count": null,
   "id": "a3b71907-146b-45dd-b5b2-a0e6736e58f0",
   "metadata": {
    "pycharm": {
     "name": "#%%\n"
    }
   },
   "outputs": [],
   "source": [
    "imdb_df.to_csv(f'{BASE_PATH}/clean/imdb_prepared.csv', index=False)"
   ]
  },
  {
   "cell_type": "markdown",
   "id": "86263155-672f-4cb4-9c19-370cf75ab51c",
   "metadata": {
    "pycharm": {
     "name": "#%% md\n"
    }
   },
   "source": [
    "## Add IMDB metadata"
   ]
  },
  {
   "cell_type": "code",
   "execution_count": null,
   "id": "4ecbb05b",
   "metadata": {
    "pycharm": {
     "name": "#%%\n"
    }
   },
   "outputs": [],
   "source": [
    "# check whether there are already missing values (with values that can be used as placeholder) and whether we can use -1 as placeholder for integer\n",
    "for col in imdb_df:\n",
    "    print(np.sort(imdb_df[col].unique()))"
   ]
  },
  {
   "cell_type": "code",
   "execution_count": null,
   "id": "8d254ac4",
   "metadata": {
    "pycharm": {
     "name": "#%%\n"
    }
   },
   "outputs": [],
   "source": [
    "# look at histogram with discretized target attribute, as this is required for some polluters\n",
    "plt.hist(imdb_df[\"Rate\"], bins=np.arange(11, step=1))"
   ]
  },
  {
   "cell_type": "code",
   "execution_count": 3,
   "id": "1b281a2a-c2c5-4455-8a90-0e3be987bb6b",
   "metadata": {
    "pycharm": {
     "name": "#%%\n"
    }
   },
   "outputs": [],
   "source": [
    "bank_df = pd.read_csv(\"../data/clean/bank.csv\")"
   ]
  },
  {
   "cell_type": "code",
   "execution_count": 12,
   "id": "51a1b24c-b4bc-440d-abcb-c8813d8fbade",
   "metadata": {
    "pycharm": {
     "name": "#%%\n"
    }
   },
   "outputs": [
    {
     "data": {
      "text/plain": [
       "Text(0.5, 1.0, 'Histogram of Duplicates for Bank Dataset')"
      ]
     },
     "execution_count": 12,
     "metadata": {},
     "output_type": "execute_result"
    },
    {
     "data": {
      "image/png": "[encoded data removed]",
      "text/plain": [
       "<Figure size 720x504 with 1 Axes>"
      ]
     },
     "metadata": {
      "needs_background": "light"
     },
     "output_type": "display_data"
    }
   ],
   "source": [
    "fig, axes = plt.subplots(nrows=1, ncols=1, figsize=(10, 7))\n",
    "target_count = bank_df.groupby(bank_df.columns.tolist(), as_index=False).size()\n",
    "axes.hist(target_count['size'], bins=np.arange(0.1, max(target_count['size'])+1))\n",
    "axes.set_xlabel('Cluster Size', size=20)\n",
    "axes.set_title('Histogram of Duplicates for Bank Dataset', size=24)"
   ]
  },
  {
   "cell_type": "code",
   "execution_count": null,
   "id": "9db38b57-020f-44df-9931-a560d90bd999",
   "metadata": {
    "pycharm": {
     "name": "#%%\n"
    }
   },
   "outputs": [],
   "source": []
  }
 ],
 "metadata": {
  "kernelspec": {
   "display_name": "Python 3 (ipykernel)",
   "language": "python",
   "name": "python3"
  },
  "language_info": {
   "codemirror_mode": {
    "name": "ipython",
    "version": 3
   },
   "file_extension": ".py",
   "mimetype": "text/x-python",
   "name": "python",
   "nbconvert_exporter": "python",
   "pygments_lexer": "ipython3",
   "version": "3.9.7"
  }
 },
 "nbformat": 4,
 "nbformat_minor": 5
}